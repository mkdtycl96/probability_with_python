{
 "cells": [
  {
   "cell_type": "markdown",
   "metadata": {},
   "source": [
    "# Binomial Distribution"
   ]
  },
  {
   "cell_type": "code",
   "execution_count": 1,
   "metadata": {},
   "outputs": [],
   "source": [
    "import numpy as np\n",
    "from scipy import stats\n",
    "import matplotlib.pyplot as plt\n",
    "import pandas as pd"
   ]
  },
  {
   "cell_type": "code",
   "execution_count": 28,
   "metadata": {},
   "outputs": [],
   "source": [
    "(n, p) = (150, 0.5)\n"
   ]
  },
  {
   "cell_type": "code",
   "execution_count": 29,
   "metadata": {},
   "outputs": [],
   "source": [
    "binomDist=stats.binom(n, p)"
   ]
  },
  {
   "cell_type": "code",
   "execution_count": null,
   "metadata": {},
   "outputs": [],
   "source": []
  },
  {
   "cell_type": "code",
   "execution_count": 30,
   "metadata": {},
   "outputs": [
    {
     "data": {
      "text/plain": [
       "(150, 0.5)"
      ]
     },
     "execution_count": 30,
     "metadata": {},
     "output_type": "execute_result"
    }
   ],
   "source": [
    "binomDist.args"
   ]
  },
  {
   "cell_type": "code",
   "execution_count": 31,
   "metadata": {},
   "outputs": [
    {
     "name": "stdout",
     "output_type": "stream",
     "text": [
      "r\tp(r)\n",
      "0\t7.006492321624118e-46\n",
      "1\t1.0509738482437126e-43\n",
      "2\t7.829755169415777e-42\n",
      "3\t3.862679216911702e-40\n",
      "4\t1.4195346122150675e-38\n",
      "5\t4.1450410676676754e-37\n",
      "6\t1.0017182580197205e-35\n",
      "7\t2.0606775593548994e-34\n",
      "8\t3.683461137347234e-33\n",
      "9\t5.811683127813855e-32\n",
      "10\t8.194473210217397e-31\n",
      "11\t1.0429329540277349e-29\n",
      "12\t1.2080640050821737e-28\n",
      "13\t1.2824064053948317e-27\n",
      "14\t1.2549262681364321e-26\n",
      "15\t1.1377998164435942e-25\n",
      "16\t9.600185951242578e-25\n",
      "17\t7.567205396861485e-24\n",
      "18\t5.591323987681141e-23\n",
      "19\t3.8844987703895614e-22\n",
      "20\t2.5443466946051045e-21\n",
      "21\t1.5750717633270328e-20\n",
      "22\t9.23564806678144e-20\n",
      "23\t5.139838924122168e-19\n",
      "24\t2.7198314306811452e-18\n",
      "25\t1.37079504106322e-17\n",
      "26\t6.590360774341607e-17\n",
      "27\t3.0266842074754884e-16\n",
      "28\t1.329579133998369e-15\n",
      "29\t5.593401874061809e-15\n",
      "30\t2.2560054225380098e-14\n",
      "31\t8.732924216276941e-14\n",
      "32\t3.2475561929279034e-13\n",
      "33\t1.1612473659560977e-12\n",
      "34\t3.996057112260452e-12\n",
      "35\t1.3244075000635764e-11\n",
      "36\t4.2307461807583924e-11\n",
      "37\t1.303527201639007e-10\n",
      "38\t3.8762782575054426e-10\n",
      "39\t1.1131876021555018e-09\n",
      "40\t3.089095595981444e-09\n",
      "41\t8.287817452633012e-09\n",
      "42\t2.1508859579452647e-08\n",
      "43\t5.402225196700103e-08\n",
      "44\t1.3137229455612435e-07\n",
      "45\t3.094547382877065e-07\n",
      "46\t7.063640765263772e-07\n",
      "47\t1.5630183821007324e-06\n",
      "48\t3.3539769449247455e-06\n",
      "49\t6.981747926169669e-06\n",
      "50\t1.4103130810863218e-05\n",
      "51\t2.7653197668357337e-05\n",
      "52\t5.2647434022452214e-05\n",
      "53\t9.734808555094211e-05\n",
      "54\t0.00017486600552669445\n",
      "55\t0.0003052206641920665\n",
      "56\t0.0005177850553258108\n",
      "57\t0.0008538911438706352\n",
      "58\t0.0013691702824131402\n",
      "59\t0.0021349773895257204\n",
      "60\t0.0032380490407807132\n",
      "61\t0.004777449404430819\n",
      "62\t0.0068579515644247675\n",
      "63\t0.009579360915387006\n",
      "64\t0.013021943744354598\n",
      "65\t0.017229033261761208\n",
      "66\t0.022188906473479646\n",
      "67\t0.027818927518988446\n",
      "68\t0.03395545564817488\n",
      "69\t0.040352860335512955\n",
      "70\t0.046694024102525704\n",
      "71\t0.05261298490425751\n",
      "72\t0.057728136214387715\n",
      "73\t0.061682118146879426\n",
      "74\t0.06418274455824173\n",
      "75\t0.06503851448568555\n",
      "76\t0.06418274455824173\n",
      "77\t0.061682118146879426\n",
      "78\t0.057728136214387715\n",
      "79\t0.05261298490425751\n",
      "80\t0.046694024102525704\n",
      "81\t0.040352860335512955\n",
      "82\t0.03395545564817488\n",
      "83\t0.027818927518988446\n",
      "84\t0.022188906473479646\n",
      "85\t0.017229033261761208\n",
      "86\t0.013021943744354598\n",
      "87\t0.009579360915387006\n",
      "88\t0.0068579515644247675\n",
      "89\t0.004777449404430819\n",
      "90\t0.0032380490407807132\n",
      "91\t0.0021349773895257204\n",
      "92\t0.0013691702824131402\n",
      "93\t0.0008538911438706352\n",
      "94\t0.0005177850553258108\n",
      "95\t0.0003052206641920665\n",
      "96\t0.00017486600552669445\n",
      "97\t9.734808555094211e-05\n",
      "98\t5.2647434022452214e-05\n",
      "99\t2.7653197668357337e-05\n",
      "100\t1.4103130810863218e-05\n",
      "101\t6.981747926169669e-06\n",
      "102\t3.3539769449247455e-06\n",
      "103\t1.5630183821007324e-06\n",
      "104\t7.063640765263772e-07\n",
      "105\t3.094547382877065e-07\n",
      "106\t1.3137229455612388e-07\n",
      "107\t5.402225196700084e-08\n",
      "108\t2.1508859579452647e-08\n",
      "109\t8.287817452633012e-09\n",
      "110\t3.089095595981455e-09\n",
      "111\t1.1131876021555057e-09\n",
      "112\t3.8762782575054426e-10\n",
      "113\t1.303527201639007e-10\n",
      "114\t4.230746180758377e-11\n",
      "115\t1.3244075000635717e-11\n",
      "116\t3.996057112260452e-12\n",
      "117\t1.1612473659560977e-12\n",
      "118\t3.2475561929279145e-13\n",
      "119\t8.732924216276941e-14\n",
      "120\t2.2560054225380098e-14\n",
      "121\t5.593401874061809e-15\n",
      "122\t1.329579133998369e-15\n",
      "123\t3.0266842074754884e-16\n",
      "124\t6.590360774341607e-17\n",
      "125\t1.37079504106322e-17\n",
      "126\t2.7198314306811452e-18\n",
      "127\t5.139838924122168e-19\n",
      "128\t9.23564806678144e-20\n",
      "129\t1.5750717633270328e-20\n",
      "130\t2.5443466946051045e-21\n",
      "131\t3.8844987703895614e-22\n",
      "132\t5.591323987681141e-23\n",
      "133\t7.567205396861485e-24\n",
      "134\t9.600185951242578e-25\n",
      "135\t1.1377998164435942e-25\n",
      "136\t1.2549262681364321e-26\n",
      "137\t1.2824064053948317e-27\n",
      "138\t1.2080640050821737e-28\n",
      "139\t1.0429329540277201e-29\n",
      "140\t8.194473210217397e-31\n",
      "141\t5.811683127813855e-32\n",
      "142\t3.683461137347234e-33\n",
      "143\t2.0606775593548994e-34\n",
      "144\t1.0017182580197205e-35\n",
      "145\t4.1450410676676754e-37\n",
      "146\t1.4195346122150675e-38\n",
      "147\t3.862679216911702e-40\n",
      "148\t7.829755169415777e-42\n",
      "149\t1.0509738482437126e-43\n",
      "150\t7.006492321624118e-46\n"
     ]
    }
   ],
   "source": [
    "dist = []\n",
    "\n",
    "print(\"r\\tp(r)\")\n",
    "for i in range(n+1):\n",
    "    dist.append(binomDist.pmf(i))\n",
    "    print(str(i) + \"\\t\" + str(binomDist.pmf(i)))"
   ]
  },
  {
   "cell_type": "code",
   "execution_count": 32,
   "metadata": {},
   "outputs": [
    {
     "data": {
      "text/plain": [
       "(150, 0.5)"
      ]
     },
     "execution_count": 32,
     "metadata": {},
     "output_type": "execute_result"
    }
   ],
   "source": [
    "binomDist.args"
   ]
  },
  {
   "cell_type": "code",
   "execution_count": 33,
   "metadata": {},
   "outputs": [
    {
     "data": {
      "text/plain": [
       "[7.006492321624118e-46,\n",
       " 1.0509738482437126e-43,\n",
       " 7.829755169415777e-42,\n",
       " 3.862679216911702e-40,\n",
       " 1.4195346122150675e-38,\n",
       " 4.1450410676676754e-37,\n",
       " 1.0017182580197205e-35,\n",
       " 2.0606775593548994e-34,\n",
       " 3.683461137347234e-33,\n",
       " 5.811683127813855e-32,\n",
       " 8.194473210217397e-31,\n",
       " 1.0429329540277349e-29,\n",
       " 1.2080640050821737e-28,\n",
       " 1.2824064053948317e-27,\n",
       " 1.2549262681364321e-26,\n",
       " 1.1377998164435942e-25,\n",
       " 9.600185951242578e-25,\n",
       " 7.567205396861485e-24,\n",
       " 5.591323987681141e-23,\n",
       " 3.8844987703895614e-22,\n",
       " 2.5443466946051045e-21,\n",
       " 1.5750717633270328e-20,\n",
       " 9.23564806678144e-20,\n",
       " 5.139838924122168e-19,\n",
       " 2.7198314306811452e-18,\n",
       " 1.37079504106322e-17,\n",
       " 6.590360774341607e-17,\n",
       " 3.0266842074754884e-16,\n",
       " 1.329579133998369e-15,\n",
       " 5.593401874061809e-15,\n",
       " 2.2560054225380098e-14,\n",
       " 8.732924216276941e-14,\n",
       " 3.2475561929279034e-13,\n",
       " 1.1612473659560977e-12,\n",
       " 3.996057112260452e-12,\n",
       " 1.3244075000635764e-11,\n",
       " 4.2307461807583924e-11,\n",
       " 1.303527201639007e-10,\n",
       " 3.8762782575054426e-10,\n",
       " 1.1131876021555018e-09,\n",
       " 3.089095595981444e-09,\n",
       " 8.287817452633012e-09,\n",
       " 2.1508859579452647e-08,\n",
       " 5.402225196700103e-08,\n",
       " 1.3137229455612435e-07,\n",
       " 3.094547382877065e-07,\n",
       " 7.063640765263772e-07,\n",
       " 1.5630183821007324e-06,\n",
       " 3.3539769449247455e-06,\n",
       " 6.981747926169669e-06,\n",
       " 1.4103130810863218e-05,\n",
       " 2.7653197668357337e-05,\n",
       " 5.2647434022452214e-05,\n",
       " 9.734808555094211e-05,\n",
       " 0.00017486600552669445,\n",
       " 0.0003052206641920665,\n",
       " 0.0005177850553258108,\n",
       " 0.0008538911438706352,\n",
       " 0.0013691702824131402,\n",
       " 0.0021349773895257204,\n",
       " 0.0032380490407807132,\n",
       " 0.004777449404430819,\n",
       " 0.0068579515644247675,\n",
       " 0.009579360915387006,\n",
       " 0.013021943744354598,\n",
       " 0.017229033261761208,\n",
       " 0.022188906473479646,\n",
       " 0.027818927518988446,\n",
       " 0.03395545564817488,\n",
       " 0.040352860335512955,\n",
       " 0.046694024102525704,\n",
       " 0.05261298490425751,\n",
       " 0.057728136214387715,\n",
       " 0.061682118146879426,\n",
       " 0.06418274455824173,\n",
       " 0.06503851448568555,\n",
       " 0.06418274455824173,\n",
       " 0.061682118146879426,\n",
       " 0.057728136214387715,\n",
       " 0.05261298490425751,\n",
       " 0.046694024102525704,\n",
       " 0.040352860335512955,\n",
       " 0.03395545564817488,\n",
       " 0.027818927518988446,\n",
       " 0.022188906473479646,\n",
       " 0.017229033261761208,\n",
       " 0.013021943744354598,\n",
       " 0.009579360915387006,\n",
       " 0.0068579515644247675,\n",
       " 0.004777449404430819,\n",
       " 0.0032380490407807132,\n",
       " 0.0021349773895257204,\n",
       " 0.0013691702824131402,\n",
       " 0.0008538911438706352,\n",
       " 0.0005177850553258108,\n",
       " 0.0003052206641920665,\n",
       " 0.00017486600552669445,\n",
       " 9.734808555094211e-05,\n",
       " 5.2647434022452214e-05,\n",
       " 2.7653197668357337e-05,\n",
       " 1.4103130810863218e-05,\n",
       " 6.981747926169669e-06,\n",
       " 3.3539769449247455e-06,\n",
       " 1.5630183821007324e-06,\n",
       " 7.063640765263772e-07,\n",
       " 3.094547382877065e-07,\n",
       " 1.3137229455612388e-07,\n",
       " 5.402225196700084e-08,\n",
       " 2.1508859579452647e-08,\n",
       " 8.287817452633012e-09,\n",
       " 3.089095595981455e-09,\n",
       " 1.1131876021555057e-09,\n",
       " 3.8762782575054426e-10,\n",
       " 1.303527201639007e-10,\n",
       " 4.230746180758377e-11,\n",
       " 1.3244075000635717e-11,\n",
       " 3.996057112260452e-12,\n",
       " 1.1612473659560977e-12,\n",
       " 3.2475561929279145e-13,\n",
       " 8.732924216276941e-14,\n",
       " 2.2560054225380098e-14,\n",
       " 5.593401874061809e-15,\n",
       " 1.329579133998369e-15,\n",
       " 3.0266842074754884e-16,\n",
       " 6.590360774341607e-17,\n",
       " 1.37079504106322e-17,\n",
       " 2.7198314306811452e-18,\n",
       " 5.139838924122168e-19,\n",
       " 9.23564806678144e-20,\n",
       " 1.5750717633270328e-20,\n",
       " 2.5443466946051045e-21,\n",
       " 3.8844987703895614e-22,\n",
       " 5.591323987681141e-23,\n",
       " 7.567205396861485e-24,\n",
       " 9.600185951242578e-25,\n",
       " 1.1377998164435942e-25,\n",
       " 1.2549262681364321e-26,\n",
       " 1.2824064053948317e-27,\n",
       " 1.2080640050821737e-28,\n",
       " 1.0429329540277201e-29,\n",
       " 8.194473210217397e-31,\n",
       " 5.811683127813855e-32,\n",
       " 3.683461137347234e-33,\n",
       " 2.0606775593548994e-34,\n",
       " 1.0017182580197205e-35,\n",
       " 4.1450410676676754e-37,\n",
       " 1.4195346122150675e-38,\n",
       " 3.862679216911702e-40,\n",
       " 7.829755169415777e-42,\n",
       " 1.0509738482437126e-43,\n",
       " 7.006492321624118e-46]"
      ]
     },
     "execution_count": 33,
     "metadata": {},
     "output_type": "execute_result"
    }
   ],
   "source": [
    "dist"
   ]
  },
  {
   "cell_type": "code",
   "execution_count": 36,
   "metadata": {},
   "outputs": [
    {
     "data": {
      "image/png": "[encoded data removed]",
      "text/plain": [
       "<Figure size 432x288 with 1 Axes>"
      ]
     },
     "metadata": {
      "needs_background": "light"
     },
     "output_type": "display_data"
    }
   ],
   "source": [
    "plt.bar(list(range(n+1)), dist)\n",
    "plt.show\n",
    "plt.xlim(40,110)\n",
    "plt.grid()"
   ]
  },
  {
   "cell_type": "code",
   "execution_count": 19,
   "metadata": {},
   "outputs": [],
   "source": [
    "mean, var = binomDist.stats()"
   ]
  },
  {
   "cell_type": "code",
   "execution_count": 11,
   "metadata": {},
   "outputs": [
    {
     "data": {
      "text/plain": [
       "(array(4.), array(2.4))"
      ]
     },
     "execution_count": 11,
     "metadata": {},
     "output_type": "execute_result"
    }
   ],
   "source": [
    "binomDist.stats()"
   ]
  },
  {
   "cell_type": "code",
   "execution_count": 12,
   "metadata": {},
   "outputs": [
    {
     "name": "stdout",
     "output_type": "stream",
     "text": [
      "mean = 4.0\n",
      "variance = 2.4\n",
      "median = 4.0\n",
      "standard deviation = 1.5491933384829668\n"
     ]
    }
   ],
   "source": [
    "print(\"mean = \" + str(mean))\n",
    "print(\"variance = \" + str(var))\n",
    "print(\"median = \" + str(binomDist.median()))\n",
    "print(\"standard deviation = \" + str(binomDist.std()))"
   ]
  },
  {
   "cell_type": "code",
   "execution_count": 13,
   "metadata": {},
   "outputs": [
    {
     "data": {
      "text/plain": [
       "0.16728975360000004"
      ]
     },
     "execution_count": 13,
     "metadata": {},
     "output_type": "execute_result"
    }
   ],
   "source": [
    "binomDist.cdf(2)"
   ]
  },
  {
   "cell_type": "code",
   "execution_count": 14,
   "metadata": {},
   "outputs": [
    {
     "data": {
      "text/plain": [
       "0.16728975360000004"
      ]
     },
     "execution_count": 14,
     "metadata": {},
     "output_type": "execute_result"
    }
   ],
   "source": [
    "binomDist.cdf(2)"
   ]
  },
  {
   "cell_type": "code",
   "execution_count": 15,
   "metadata": {},
   "outputs": [
    {
     "data": {
      "text/plain": [
       "0.16728975359999998"
      ]
     },
     "execution_count": 15,
     "metadata": {},
     "output_type": "execute_result"
    }
   ],
   "source": [
    "binomDist.pmf(0) + binomDist.pmf(1) + binomDist.pmf(2)"
   ]
  },
  {
   "cell_type": "code",
   "execution_count": 16,
   "metadata": {},
   "outputs": [
    {
     "data": {
      "text/plain": [
       "array([5, 5, 2, 3, 3, 4, 5, 6, 2, 6, 5, 3, 2, 4, 1, 5, 4, 4, 3, 4, 4, 4,\n",
       "       5, 3, 5, 3, 6, 3, 4, 3, 4, 4, 7, 3, 5, 2, 4, 4, 5, 6, 6, 2, 6, 3,\n",
       "       1, 2, 3, 8, 4, 5, 5, 5, 1, 5, 5, 8, 4, 2, 5, 4, 8, 5, 4, 4, 5, 4,\n",
       "       5, 5, 3, 4, 5, 3, 4, 5, 6, 4, 3, 4, 4, 4, 5, 3, 5, 5, 3, 8, 6, 1,\n",
       "       1, 3, 3, 2, 3, 4, 6, 1, 4, 2, 2, 4])"
      ]
     },
     "execution_count": 16,
     "metadata": {},
     "output_type": "execute_result"
    }
   ],
   "source": [
    "binomDist.rvs(100)"
   ]
  },
  {
   "cell_type": "code",
   "execution_count": 17,
   "metadata": {},
   "outputs": [
    {
     "data": {
      "text/plain": [
       "0.8208"
      ]
     },
     "execution_count": 17,
     "metadata": {},
     "output_type": "execute_result"
    }
   ],
   "source": [
    "stats.binom.cdf(2, 4, 0.4)"
   ]
  },
  {
   "cell_type": "code",
   "execution_count": 18,
   "metadata": {},
   "outputs": [
    {
     "data": {
      "text/plain": [
       "0.3456000000000001"
      ]
     },
     "execution_count": 18,
     "metadata": {},
     "output_type": "execute_result"
    }
   ],
   "source": [
    "stats.binom.pmf(2, 4, 0.4)"
   ]
  },
  {
   "cell_type": "markdown",
   "metadata": {},
   "source": [
    "## EXERCISE"
   ]
  },
  {
   "cell_type": "markdown",
   "metadata": {},
   "source": [
    "In the old days, there was a probability of 0.8 of success in any attempt to make a telephone call. (This often depended on the importance of the person making the call, or the operator's curiosity!)\n",
    "\n",
    "Calculate the probability of having 7 successes in 10 attempts."
   ]
  },
  {
   "cell_type": "code",
   "execution_count": 19,
   "metadata": {},
   "outputs": [
    {
     "data": {
      "text/plain": [
       "0.20132659200000014"
      ]
     },
     "execution_count": 19,
     "metadata": {},
     "output_type": "execute_result"
    }
   ],
   "source": [
    "stats.binom.pmf(7, 10, 0.8)"
   ]
  },
  {
   "cell_type": "markdown",
   "metadata": {},
   "source": [
    "P(X<= 7)?"
   ]
  },
  {
   "cell_type": "code",
   "execution_count": 20,
   "metadata": {},
   "outputs": [
    {
     "data": {
      "text/plain": [
       "0.3222004736"
      ]
     },
     "execution_count": 20,
     "metadata": {},
     "output_type": "execute_result"
    }
   ],
   "source": [
    "stats.binom.cdf(7, 10, 0.8)"
   ]
  },
  {
   "cell_type": "markdown",
   "metadata": {},
   "source": [
    "P(X<7)?"
   ]
  },
  {
   "cell_type": "code",
   "execution_count": 21,
   "metadata": {},
   "outputs": [
    {
     "data": {
      "text/plain": [
       "0.12087388159999987"
      ]
     },
     "execution_count": 21,
     "metadata": {},
     "output_type": "execute_result"
    }
   ],
   "source": [
    "stats.binom.cdf(6.9, 10, 0.8)"
   ]
  },
  {
   "cell_type": "code",
   "execution_count": 22,
   "metadata": {},
   "outputs": [
    {
     "ename": "TypeError",
     "evalue": "_parse_args() missing 2 required positional arguments: 'n' and 'p'",
     "output_type": "error",
     "traceback": [
      "\u001b[1;31m---------------------------------------------------------------------------\u001b[0m",
      "\u001b[1;31mTypeError\u001b[0m                                 Traceback (most recent call last)",
      "\u001b[1;32m<ipython-input-22-a5d502a29eb6>\u001b[0m in \u001b[0;36m<module>\u001b[1;34m\u001b[0m\n\u001b[1;32m----> 1\u001b[1;33m \u001b[0mstats\u001b[0m\u001b[1;33m.\u001b[0m\u001b[0mbinom\u001b[0m\u001b[1;33m(\u001b[0m\u001b[1;33m)\u001b[0m\u001b[1;33m\u001b[0m\u001b[1;33m\u001b[0m\u001b[0m\n\u001b[0m",
      "\u001b[1;32m~\\anaconda3\\lib\\site-packages\\scipy\\stats\\_distn_infrastructure.py\u001b[0m in \u001b[0;36m__call__\u001b[1;34m(self, *args, **kwds)\u001b[0m\n\u001b[0;32m    778\u001b[0m \u001b[1;33m\u001b[0m\u001b[0m\n\u001b[0;32m    779\u001b[0m     \u001b[1;32mdef\u001b[0m \u001b[0m__call__\u001b[0m\u001b[1;33m(\u001b[0m\u001b[0mself\u001b[0m\u001b[1;33m,\u001b[0m \u001b[1;33m*\u001b[0m\u001b[0margs\u001b[0m\u001b[1;33m,\u001b[0m \u001b[1;33m**\u001b[0m\u001b[0mkwds\u001b[0m\u001b[1;33m)\u001b[0m\u001b[1;33m:\u001b[0m\u001b[1;33m\u001b[0m\u001b[1;33m\u001b[0m\u001b[0m\n\u001b[1;32m--> 780\u001b[1;33m         \u001b[1;32mreturn\u001b[0m \u001b[0mself\u001b[0m\u001b[1;33m.\u001b[0m\u001b[0mfreeze\u001b[0m\u001b[1;33m(\u001b[0m\u001b[1;33m*\u001b[0m\u001b[0margs\u001b[0m\u001b[1;33m,\u001b[0m \u001b[1;33m**\u001b[0m\u001b[0mkwds\u001b[0m\u001b[1;33m)\u001b[0m\u001b[1;33m\u001b[0m\u001b[1;33m\u001b[0m\u001b[0m\n\u001b[0m\u001b[0;32m    781\u001b[0m     \u001b[0m__call__\u001b[0m\u001b[1;33m.\u001b[0m\u001b[0m__doc__\u001b[0m \u001b[1;33m=\u001b[0m \u001b[0mfreeze\u001b[0m\u001b[1;33m.\u001b[0m\u001b[0m__doc__\u001b[0m\u001b[1;33m\u001b[0m\u001b[1;33m\u001b[0m\u001b[0m\n\u001b[0;32m    782\u001b[0m \u001b[1;33m\u001b[0m\u001b[0m\n",
      "\u001b[1;32m~\\anaconda3\\lib\\site-packages\\scipy\\stats\\_distn_infrastructure.py\u001b[0m in \u001b[0;36mfreeze\u001b[1;34m(self, *args, **kwds)\u001b[0m\n\u001b[0;32m    775\u001b[0m \u001b[1;33m\u001b[0m\u001b[0m\n\u001b[0;32m    776\u001b[0m         \"\"\"\n\u001b[1;32m--> 777\u001b[1;33m         \u001b[1;32mreturn\u001b[0m \u001b[0mrv_frozen\u001b[0m\u001b[1;33m(\u001b[0m\u001b[0mself\u001b[0m\u001b[1;33m,\u001b[0m \u001b[1;33m*\u001b[0m\u001b[0margs\u001b[0m\u001b[1;33m,\u001b[0m \u001b[1;33m**\u001b[0m\u001b[0mkwds\u001b[0m\u001b[1;33m)\u001b[0m\u001b[1;33m\u001b[0m\u001b[1;33m\u001b[0m\u001b[0m\n\u001b[0m\u001b[0;32m    778\u001b[0m \u001b[1;33m\u001b[0m\u001b[0m\n\u001b[0;32m    779\u001b[0m     \u001b[1;32mdef\u001b[0m \u001b[0m__call__\u001b[0m\u001b[1;33m(\u001b[0m\u001b[0mself\u001b[0m\u001b[1;33m,\u001b[0m \u001b[1;33m*\u001b[0m\u001b[0margs\u001b[0m\u001b[1;33m,\u001b[0m \u001b[1;33m**\u001b[0m\u001b[0mkwds\u001b[0m\u001b[1;33m)\u001b[0m\u001b[1;33m:\u001b[0m\u001b[1;33m\u001b[0m\u001b[1;33m\u001b[0m\u001b[0m\n",
      "\u001b[1;32m~\\anaconda3\\lib\\site-packages\\scipy\\stats\\_distn_infrastructure.py\u001b[0m in \u001b[0;36m__init__\u001b[1;34m(self, dist, *args, **kwds)\u001b[0m\n\u001b[0;32m    422\u001b[0m         \u001b[0mself\u001b[0m\u001b[1;33m.\u001b[0m\u001b[0mdist\u001b[0m \u001b[1;33m=\u001b[0m \u001b[0mdist\u001b[0m\u001b[1;33m.\u001b[0m\u001b[0m__class__\u001b[0m\u001b[1;33m(\u001b[0m\u001b[1;33m**\u001b[0m\u001b[0mdist\u001b[0m\u001b[1;33m.\u001b[0m\u001b[0m_updated_ctor_param\u001b[0m\u001b[1;33m(\u001b[0m\u001b[1;33m)\u001b[0m\u001b[1;33m)\u001b[0m\u001b[1;33m\u001b[0m\u001b[1;33m\u001b[0m\u001b[0m\n\u001b[0;32m    423\u001b[0m \u001b[1;33m\u001b[0m\u001b[0m\n\u001b[1;32m--> 424\u001b[1;33m         \u001b[0mshapes\u001b[0m\u001b[1;33m,\u001b[0m \u001b[0m_\u001b[0m\u001b[1;33m,\u001b[0m \u001b[0m_\u001b[0m \u001b[1;33m=\u001b[0m \u001b[0mself\u001b[0m\u001b[1;33m.\u001b[0m\u001b[0mdist\u001b[0m\u001b[1;33m.\u001b[0m\u001b[0m_parse_args\u001b[0m\u001b[1;33m(\u001b[0m\u001b[1;33m*\u001b[0m\u001b[0margs\u001b[0m\u001b[1;33m,\u001b[0m \u001b[1;33m**\u001b[0m\u001b[0mkwds\u001b[0m\u001b[1;33m)\u001b[0m\u001b[1;33m\u001b[0m\u001b[1;33m\u001b[0m\u001b[0m\n\u001b[0m\u001b[0;32m    425\u001b[0m         \u001b[0mself\u001b[0m\u001b[1;33m.\u001b[0m\u001b[0ma\u001b[0m\u001b[1;33m,\u001b[0m \u001b[0mself\u001b[0m\u001b[1;33m.\u001b[0m\u001b[0mb\u001b[0m \u001b[1;33m=\u001b[0m \u001b[0mself\u001b[0m\u001b[1;33m.\u001b[0m\u001b[0mdist\u001b[0m\u001b[1;33m.\u001b[0m\u001b[0m_get_support\u001b[0m\u001b[1;33m(\u001b[0m\u001b[1;33m*\u001b[0m\u001b[0mshapes\u001b[0m\u001b[1;33m)\u001b[0m\u001b[1;33m\u001b[0m\u001b[1;33m\u001b[0m\u001b[0m\n\u001b[0;32m    426\u001b[0m \u001b[1;33m\u001b[0m\u001b[0m\n",
      "\u001b[1;31mTypeError\u001b[0m: _parse_args() missing 2 required positional arguments: 'n' and 'p'"
     ]
    }
   ],
   "source": [
    "stats.binom()"
   ]
  },
  {
   "cell_type": "markdown",
   "metadata": {},
   "source": [
    "EXERCISE\n",
    "A (blindfolded) marksman finds that on the average he hits the target 4 times out of 5. If he fires 4 shots, what is the probability of\n",
    "\n",
    "(a) more than 2 hits?\n",
    "\n",
    "(b) at least 3 misses?"
   ]
  },
  {
   "cell_type": "markdown",
   "metadata": {},
   "source": [
    "# Poisson Distribution"
   ]
  },
  {
   "cell_type": "code",
   "execution_count": 2,
   "metadata": {},
   "outputs": [
    {
     "data": {
      "text/plain": [
       "0.32084719886213414"
      ]
     },
     "execution_count": 2,
     "metadata": {},
     "output_type": "execute_result"
    }
   ],
   "source": [
    "stats.poisson(3.5).cdf(2)"
   ]
  },
  {
   "cell_type": "code",
   "execution_count": 82,
   "metadata": {},
   "outputs": [],
   "source": [
    "lamda = 4"
   ]
  },
  {
   "cell_type": "code",
   "execution_count": 83,
   "metadata": {},
   "outputs": [],
   "source": [
    "poissonDist = stats.poisson(lamda)"
   ]
  },
  {
   "cell_type": "code",
   "execution_count": 84,
   "metadata": {},
   "outputs": [
    {
     "data": {
      "text/plain": [
       "(4,)"
      ]
     },
     "execution_count": 84,
     "metadata": {},
     "output_type": "execute_result"
    }
   ],
   "source": [
    "poissonDist.args"
   ]
  },
  {
   "cell_type": "code",
   "execution_count": 85,
   "metadata": {},
   "outputs": [
    {
     "data": {
      "text/plain": [
       "0.7851303870304052"
      ]
     },
     "execution_count": 85,
     "metadata": {},
     "output_type": "execute_result"
    }
   ],
   "source": [
    "poissonDist.cdf(5)"
   ]
  },
  {
   "cell_type": "code",
   "execution_count": 86,
   "metadata": {},
   "outputs": [
    {
     "data": {
      "text/plain": [
       "0.1562934518505317"
      ]
     },
     "execution_count": 86,
     "metadata": {},
     "output_type": "execute_result"
    }
   ],
   "source": [
    "poissonDist.pmf(5)"
   ]
  },
  {
   "cell_type": "code",
   "execution_count": 87,
   "metadata": {},
   "outputs": [
    {
     "name": "stdout",
     "output_type": "stream",
     "text": [
      "r\tp(r)\n",
      "0\t0.01831563888873418\n",
      "1\t0.07326255555493673\n",
      "2\t0.14652511110987343\n",
      "3\t0.19536681481316454\n",
      "4\t0.19536681481316454\n",
      "5\t0.1562934518505317\n",
      "6\t0.10419563456702102\n",
      "7\t0.0595403626097263\n",
      "8\t0.029770181304863145\n",
      "9\t0.013231191691050305\n",
      "10\t0.005292476676420117\n",
      "11\t0.001924536973243679\n",
      "12\t0.00064151232441456\n",
      "13\t0.00019738840751217245\n",
      "14\t5.6396687860620494e-05\n",
      "15\t1.5039116762832128e-05\n",
      "16\t3.759779190708031e-06\n",
      "17\t8.8465392722542e-07\n",
      "18\t1.9658976160564946e-07\n",
      "19\t4.1387318232768255e-08\n"
     ]
    }
   ],
   "source": [
    "dist = []\n",
    "\n",
    "print(\"r\\tp(r)\")\n",
    "for i in range(20):\n",
    "    dist.append(poissonDist.pmf(i))\n",
    "    print(str(i) + \"\\t\" + str(poissonDist.pmf(i)))"
   ]
  },
  {
   "cell_type": "code",
   "execution_count": null,
   "metadata": {},
   "outputs": [],
   "source": [
    "plt.bar(list(range(20)), dist)\n",
    "plt.show"
   ]
  },
  {
   "cell_type": "code",
   "execution_count": null,
   "metadata": {},
   "outputs": [],
   "source": [
    "mean, var, skew, kurt = poissonDist.stats(moments = \"mvsk\")"
   ]
  },
  {
   "cell_type": "code",
   "execution_count": null,
   "metadata": {},
   "outputs": [],
   "source": [
    "print(\"mean = \" + str(mean))\n",
    "print(\"variance = \" + str(var))\n",
    "print(\"median = \" + str(poissonDist.median()))\n",
    "print(\"standard deviation = \" + str(poissonDist.std()))"
   ]
  },
  {
   "cell_type": "code",
   "execution_count": null,
   "metadata": {},
   "outputs": [],
   "source": [
    "str(skew)"
   ]
  },
  {
   "cell_type": "code",
   "execution_count": null,
   "metadata": {},
   "outputs": [],
   "source": [
    "str(kurt)"
   ]
  },
  {
   "cell_type": "code",
   "execution_count": null,
   "metadata": {},
   "outputs": [],
   "source": [
    "p_rand = poissonDist.rvs(10000)"
   ]
  },
  {
   "cell_type": "code",
   "execution_count": null,
   "metadata": {},
   "outputs": [],
   "source": [
    "p_rand"
   ]
  },
  {
   "cell_type": "code",
   "execution_count": null,
   "metadata": {},
   "outputs": [],
   "source": [
    "poissonDist.pmf(5)"
   ]
  },
  {
   "cell_type": "code",
   "execution_count": null,
   "metadata": {},
   "outputs": [],
   "source": [
    "print(\"P(X=5): \", list(p_rand).count(5)/len(p_rand))"
   ]
  },
  {
   "cell_type": "markdown",
   "metadata": {},
   "source": [
    "## EXERCISE 1"
   ]
  },
  {
   "cell_type": "markdown",
   "metadata": {},
   "source": [
    "A bank is interested in studying the number of people who use the ATM located outside its office late at night.\n",
    "On average, 1.6 customers walk up to the ATM during any 10 minute interval between 9pm and midnight.\n",
    "\n",
    "What is lambda λ for this problem?\n",
    "\n",
    "What is the probability of exactly 3 customers using the ATM during any 10 minute interval?\n",
    "\n",
    "What is the probability of 3 or fewer people?"
   ]
  },
  {
   "cell_type": "code",
   "execution_count": 37,
   "metadata": {},
   "outputs": [],
   "source": [
    "customer = 1.6"
   ]
  },
  {
   "cell_type": "code",
   "execution_count": 38,
   "metadata": {},
   "outputs": [],
   "source": [
    "poissonDist = stats.poisson(3)"
   ]
  },
  {
   "cell_type": "code",
   "execution_count": 39,
   "metadata": {},
   "outputs": [
    {
     "data": {
      "text/plain": [
       "0.22404180765538775"
      ]
     },
     "execution_count": 39,
     "metadata": {},
     "output_type": "execute_result"
    }
   ],
   "source": [
    "poissonDist.pmf(3)"
   ]
  },
  {
   "cell_type": "code",
   "execution_count": 40,
   "metadata": {},
   "outputs": [
    {
     "data": {
      "text/plain": [
       "0.6472318887822313"
      ]
     },
     "execution_count": 40,
     "metadata": {},
     "output_type": "execute_result"
    }
   ],
   "source": [
    "poissonDist.cdf(3)"
   ]
  },
  {
   "cell_type": "code",
   "execution_count": null,
   "metadata": {},
   "outputs": [],
   "source": [
    "poissonDist1 = stats.poisson(3)"
   ]
  },
  {
   "cell_type": "code",
   "execution_count": 41,
   "metadata": {},
   "outputs": [
    {
     "data": {
      "text/plain": [
       "0.9491104435020206"
      ]
     },
     "execution_count": 41,
     "metadata": {},
     "output_type": "execute_result"
    }
   ],
   "source": [
    "stats.poisson(3).cdf(9) - stats.poisson(3).cdf(0)"
   ]
  },
  {
   "cell_type": "code",
   "execution_count": 44,
   "metadata": {},
   "outputs": [
    {
     "name": "stdout",
     "output_type": "stream",
     "text": [
      "r\tp(r)\n",
      "0\t0.049787068367863944\n",
      "1\t0.14936120510359185\n",
      "2\t0.22404180765538775\n",
      "3\t0.22404180765538775\n",
      "4\t0.16803135574154085\n",
      "5\t0.10081881344492458\n",
      "6\t0.05040940672246224\n",
      "7\t0.02160403145248382\n",
      "8\t0.008101511794681432\n",
      "9\t0.002700503931560479\n"
     ]
    }
   ],
   "source": [
    "dist = []\n",
    "\n",
    "print(\"r\\tp(r)\")\n",
    "for i in range(10):\n",
    "    dist.append(poissonDist.pmf(i))\n",
    "    print(str(i) + \"\\t\" + str(poissonDist.pmf(i)))"
   ]
  },
  {
   "cell_type": "code",
   "execution_count": null,
   "metadata": {},
   "outputs": [],
   "source": [
    "poissonDist.pmf(0) + poissonDist.pmf(1) + poissonDist.pmf(2) + poissonDist.pmf(3)"
   ]
  },
  {
   "cell_type": "code",
   "execution_count": null,
   "metadata": {},
   "outputs": [],
   "source": [
    "poissonDist.cdf(3)"
   ]
  },
  {
   "cell_type": "code",
   "execution_count": null,
   "metadata": {},
   "outputs": [],
   "source": [
    "# 4 or more customers\n",
    "1 - poissonDist.cdf(3)"
   ]
  },
  {
   "cell_type": "code",
   "execution_count": 48,
   "metadata": {},
   "outputs": [
    {
     "data": {
      "text/plain": [
       "0.03608940886309672"
      ]
     },
     "execution_count": 48,
     "metadata": {},
     "output_type": "execute_result"
    }
   ],
   "source": [
    "# typist at most 5 error fiffteen pages\n",
    "stats.poisson(2).pmf(5)"
   ]
  },
  {
   "cell_type": "markdown",
   "metadata": {},
   "source": [
    "## EXERCISE 2"
   ]
  },
  {
   "cell_type": "markdown",
   "metadata": {},
   "source": [
    "The Indiana Department of Transportation is concerned about the number of deer being struck by cars between Martinsville and Bloomington. They note the number of deer carcasses and other deer-related accidents over a 1-month period in a 2-mile intervals. \n",
    "\n",
    "What is the probability of zero deer strike incidents during any 1-month period in a 2-mile interval between Martinsville and Bloomington?\n",
    "\n",
    "0.08 strikes per/day"
   ]
  },
  {
   "cell_type": "code",
   "execution_count": null,
   "metadata": {},
   "outputs": [],
   "source": [
    "stats.poisson.pmf(0, 0.08*30)"
   ]
  },
  {
   "cell_type": "markdown",
   "metadata": {},
   "source": [
    "# Bernoulli Distribution"
   ]
  },
  {
   "cell_type": "code",
   "execution_count": 2,
   "metadata": {},
   "outputs": [],
   "source": [
    "p = 0.35"
   ]
  },
  {
   "cell_type": "code",
   "execution_count": 3,
   "metadata": {},
   "outputs": [],
   "source": [
    "bernDist = stats.bernoulli(p)"
   ]
  },
  {
   "cell_type": "code",
   "execution_count": 4,
   "metadata": {},
   "outputs": [
    {
     "data": {
      "text/plain": [
       "0.3499999999999999"
      ]
     },
     "execution_count": 4,
     "metadata": {},
     "output_type": "execute_result"
    }
   ],
   "source": [
    "bernDist.pmf(1)"
   ]
  },
  {
   "cell_type": "code",
   "execution_count": 5,
   "metadata": {},
   "outputs": [
    {
     "name": "stdout",
     "output_type": "stream",
     "text": [
      "r\tp(r)\n",
      "0\t0.65\n",
      "1\t0.3499999999999999\n"
     ]
    }
   ],
   "source": [
    "dist = []\n",
    "\n",
    "print(\"r\\tp(r)\")\n",
    "for i in range(2):\n",
    "    dist.append(bernDist.pmf(i))\n",
    "    print(str(i) + \"\\t\" + str(bernDist.pmf(i)))"
   ]
  },
  {
   "cell_type": "code",
   "execution_count": 6,
   "metadata": {},
   "outputs": [
    {
     "data": {
      "image/png": "[encoded data removed]",
      "text/plain": [
       "<Figure size 432x288 with 1 Axes>"
      ]
     },
     "metadata": {
      "needs_background": "light"
     },
     "output_type": "display_data"
    }
   ],
   "source": [
    "plt.bar(list(range(2)), dist) \n",
    "plt.xticks(list(range(2)), ('0', '1'))\n",
    "plt.show()"
   ]
  },
  {
   "cell_type": "code",
   "execution_count": 7,
   "metadata": {},
   "outputs": [
    {
     "name": "stdout",
     "output_type": "stream",
     "text": [
      "mean = 0.35\n",
      "variance = 0.22749999999999998\n",
      "median = 0.0\n",
      "standard deviation = 0.47696960070847283\n"
     ]
    }
   ],
   "source": [
    "mean, var = bernDist.stats()\n",
    "\n",
    "# printing mean and variance \n",
    "print(\"mean = \"+str(mean)) \n",
    "print(\"variance = \"+str(var))\n",
    "print(\"median = \"+str(bernDist.median())) \n",
    "print(\"standard deviation = \"+str(bernDist.std()))"
   ]
  },
  {
   "cell_type": "code",
   "execution_count": null,
   "metadata": {},
   "outputs": [],
   "source": []
  },
  {
   "cell_type": "code",
   "execution_count": null,
   "metadata": {},
   "outputs": [],
   "source": []
  },
  {
   "cell_type": "code",
   "execution_count": 8,
   "metadata": {},
   "outputs": [
    {
     "ename": "SyntaxError",
     "evalue": "invalid syntax (<ipython-input-8-118859d4c7c6>, line 2)",
     "output_type": "error",
     "traceback": [
      "\u001b[1;36m  File \u001b[1;32m\"<ipython-input-8-118859d4c7c6>\"\u001b[1;36m, line \u001b[1;32m2\u001b[0m\n\u001b[1;33m    for i in\u001b[0m\n\u001b[1;37m             ^\u001b[0m\n\u001b[1;31mSyntaxError\u001b[0m\u001b[1;31m:\u001b[0m invalid syntax\n"
     ]
    }
   ],
   "source": [
    "a = [0.01,0.05,0.10,0.20,0.30,0.40,0.50,0.60,0.70,0.80,0.95,0.99]\n",
    "for i in "
   ]
  },
  {
   "cell_type": "code",
   "execution_count": 9,
   "metadata": {},
   "outputs": [
    {
     "ename": "SyntaxError",
     "evalue": "invalid syntax (<ipython-input-9-a692944551f8>, line 2)",
     "output_type": "error",
     "traceback": [
      "\u001b[1;36m  File \u001b[1;32m\"<ipython-input-9-a692944551f8>\"\u001b[1;36m, line \u001b[1;32m2\u001b[0m\n\u001b[1;33m    bin1 stats.binom(10,0.01)\u001b[0m\n\u001b[1;37m         ^\u001b[0m\n\u001b[1;31mSyntaxError\u001b[0m\u001b[1;31m:\u001b[0m invalid syntax\n"
     ]
    }
   ],
   "source": [
    "def binoms(a,b):\n",
    "    bin1 stats.binom(10,0.01)"
   ]
  },
  {
   "cell_type": "code",
   "execution_count": 10,
   "metadata": {},
   "outputs": [],
   "source": [
    "(n, p) = (10, 0.4)\n",
    "(a,b) = (10,0.01)"
   ]
  },
  {
   "cell_type": "code",
   "execution_count": 11,
   "metadata": {},
   "outputs": [],
   "source": [
    "bin1 = stats.binom(10, 0.01)\n",
    "bin2 = stats.binom(10, 0.05)\n",
    "bin3 = stats.binom(10,0.1 )\n",
    "bin4 = stats.binom(10,0.2)\n",
    "bin5 = stats.binom(10,0.3)\n",
    "bin6 =   stats.binom(10,0.4)\n",
    "bin7  =  stats.binom(10,0.5)\n",
    "bin8  =  stats.binom(10,0.6)\n",
    "bin9  =  stats.binom(10,0.7)\n",
    "bin10  = stats.binom(10,0.8)\n",
    "bin11 = stats.binom(10,0.9)\n",
    "\n",
    "\n"
   ]
  },
  {
   "cell_type": "code",
   "execution_count": 12,
   "metadata": {},
   "outputs": [
    {
     "data": {
      "text/plain": [
       "1.0"
      ]
     },
     "execution_count": 12,
     "metadata": {},
     "output_type": "execute_result"
    }
   ],
   "source": [
    "bin1.cdf(10)"
   ]
  },
  {
   "cell_type": "code",
   "execution_count": 13,
   "metadata": {},
   "outputs": [],
   "source": [
    "dist ,dist2,dist3,dist4,dist5,dist6,dist7,dist8,dist9,dist10,dist11 = [],[],[],[],[],[],[],[],[],[],[]\n",
    "for i in range(11):\n",
    "    dist.append(bin1.cdf(i))\n",
    "    dist2.append(bin2.cdf(i))\n",
    "    dist3.append(bin3.cdf(i))\n",
    "    dist4.append(bin4.cdf(i))\n",
    "    dist5.append(bin5.cdf(i))\n",
    "    dist6.append(bin6.cdf(i))\n",
    "    dist7.append(bin7.cdf(i))\n",
    "    dist8.append(bin8.cdf(i))\n",
    "    dist9.append(bin9.cdf(i))\n",
    "    dist10.append(bin10.cdf(i))\n",
    "    dist11.append(bin11.cdf(i))\n",
    "    "
   ]
  },
  {
   "cell_type": "code",
   "execution_count": 14,
   "metadata": {},
   "outputs": [],
   "source": [
    "data = {\"0.01\":dist , \"0.05\":dist2,\"0.10\":dist3,\"0.20\":dist4,\"0.30\":dist5,\n",
    "        \"0.40\": dist6, \"0.50\":dist7 ,\"0.60\": dist8, \"0.70\":dist9, \"0.80\": dist10, \"0.90\":dist11}"
   ]
  },
  {
   "cell_type": "code",
   "execution_count": 15,
   "metadata": {},
   "outputs": [],
   "source": [
    "import pandas as pd\n",
    "a = pd.DataFrame(data)"
   ]
  },
  {
   "cell_type": "code",
   "execution_count": 16,
   "metadata": {},
   "outputs": [
    {
     "data": {
      "text/html": [
       "<div>\n",
       "<style scoped>\n",
       "    .dataframe tbody tr th:only-of-type {\n",
       "        vertical-align: middle;\n",
       "    }\n",
       "\n",
       "    .dataframe tbody tr th {\n",
       "        vertical-align: top;\n",
       "    }\n",
       "\n",
       "    .dataframe thead th {\n",
       "        text-align: right;\n",
       "    }\n",
       "</style>\n",
       "<table border=\"1\" class=\"dataframe\">\n",
       "  <thead>\n",
       "    <tr style=\"text-align: right;\">\n",
       "      <th></th>\n",
       "      <th>0.01</th>\n",
       "      <th>0.05</th>\n",
       "      <th>0.10</th>\n",
       "      <th>0.20</th>\n",
       "      <th>0.30</th>\n",
       "      <th>0.40</th>\n",
       "      <th>0.50</th>\n",
       "      <th>0.60</th>\n",
       "      <th>0.70</th>\n",
       "      <th>0.80</th>\n",
       "      <th>0.90</th>\n",
       "    </tr>\n",
       "  </thead>\n",
       "  <tbody>\n",
       "    <tr>\n",
       "      <th>0</th>\n",
       "      <td>0.904382</td>\n",
       "      <td>0.598737</td>\n",
       "      <td>0.348678</td>\n",
       "      <td>0.107374</td>\n",
       "      <td>0.028248</td>\n",
       "      <td>0.006047</td>\n",
       "      <td>0.000977</td>\n",
       "      <td>0.000105</td>\n",
       "      <td>0.000006</td>\n",
       "      <td>1.024000e-07</td>\n",
       "      <td>1.000000e-10</td>\n",
       "    </tr>\n",
       "    <tr>\n",
       "      <th>1</th>\n",
       "      <td>0.995734</td>\n",
       "      <td>0.913862</td>\n",
       "      <td>0.736099</td>\n",
       "      <td>0.375810</td>\n",
       "      <td>0.149308</td>\n",
       "      <td>0.046357</td>\n",
       "      <td>0.010742</td>\n",
       "      <td>0.001678</td>\n",
       "      <td>0.000144</td>\n",
       "      <td>4.198400e-06</td>\n",
       "      <td>9.100000e-09</td>\n",
       "    </tr>\n",
       "    <tr>\n",
       "      <th>2</th>\n",
       "      <td>0.999886</td>\n",
       "      <td>0.988496</td>\n",
       "      <td>0.929809</td>\n",
       "      <td>0.677800</td>\n",
       "      <td>0.382783</td>\n",
       "      <td>0.167290</td>\n",
       "      <td>0.054688</td>\n",
       "      <td>0.012295</td>\n",
       "      <td>0.001590</td>\n",
       "      <td>7.792640e-05</td>\n",
       "      <td>3.736000e-07</td>\n",
       "    </tr>\n",
       "    <tr>\n",
       "      <th>3</th>\n",
       "      <td>0.999998</td>\n",
       "      <td>0.998972</td>\n",
       "      <td>0.987205</td>\n",
       "      <td>0.879126</td>\n",
       "      <td>0.649611</td>\n",
       "      <td>0.382281</td>\n",
       "      <td>0.171875</td>\n",
       "      <td>0.054762</td>\n",
       "      <td>0.010592</td>\n",
       "      <td>8.643584e-04</td>\n",
       "      <td>9.121600e-06</td>\n",
       "    </tr>\n",
       "    <tr>\n",
       "      <th>4</th>\n",
       "      <td>1.000000</td>\n",
       "      <td>0.999936</td>\n",
       "      <td>0.998365</td>\n",
       "      <td>0.967207</td>\n",
       "      <td>0.849732</td>\n",
       "      <td>0.633103</td>\n",
       "      <td>0.376953</td>\n",
       "      <td>0.166239</td>\n",
       "      <td>0.047349</td>\n",
       "      <td>6.369382e-03</td>\n",
       "      <td>1.469026e-04</td>\n",
       "    </tr>\n",
       "    <tr>\n",
       "      <th>5</th>\n",
       "      <td>1.000000</td>\n",
       "      <td>0.999997</td>\n",
       "      <td>0.999853</td>\n",
       "      <td>0.993631</td>\n",
       "      <td>0.952651</td>\n",
       "      <td>0.833761</td>\n",
       "      <td>0.623047</td>\n",
       "      <td>0.366897</td>\n",
       "      <td>0.150268</td>\n",
       "      <td>3.279350e-02</td>\n",
       "      <td>1.634937e-03</td>\n",
       "    </tr>\n",
       "    <tr>\n",
       "      <th>6</th>\n",
       "      <td>1.000000</td>\n",
       "      <td>1.000000</td>\n",
       "      <td>0.999991</td>\n",
       "      <td>0.999136</td>\n",
       "      <td>0.989408</td>\n",
       "      <td>0.945238</td>\n",
       "      <td>0.828125</td>\n",
       "      <td>0.617719</td>\n",
       "      <td>0.350389</td>\n",
       "      <td>1.208739e-01</td>\n",
       "      <td>1.279520e-02</td>\n",
       "    </tr>\n",
       "    <tr>\n",
       "      <th>7</th>\n",
       "      <td>1.000000</td>\n",
       "      <td>1.000000</td>\n",
       "      <td>1.000000</td>\n",
       "      <td>0.999922</td>\n",
       "      <td>0.998410</td>\n",
       "      <td>0.987705</td>\n",
       "      <td>0.945312</td>\n",
       "      <td>0.832710</td>\n",
       "      <td>0.617217</td>\n",
       "      <td>3.222005e-01</td>\n",
       "      <td>7.019083e-02</td>\n",
       "    </tr>\n",
       "    <tr>\n",
       "      <th>8</th>\n",
       "      <td>1.000000</td>\n",
       "      <td>1.000000</td>\n",
       "      <td>1.000000</td>\n",
       "      <td>0.999996</td>\n",
       "      <td>0.999856</td>\n",
       "      <td>0.998322</td>\n",
       "      <td>0.989258</td>\n",
       "      <td>0.953643</td>\n",
       "      <td>0.850692</td>\n",
       "      <td>6.241904e-01</td>\n",
       "      <td>2.639011e-01</td>\n",
       "    </tr>\n",
       "    <tr>\n",
       "      <th>9</th>\n",
       "      <td>1.000000</td>\n",
       "      <td>1.000000</td>\n",
       "      <td>1.000000</td>\n",
       "      <td>1.000000</td>\n",
       "      <td>0.999994</td>\n",
       "      <td>0.999895</td>\n",
       "      <td>0.999023</td>\n",
       "      <td>0.993953</td>\n",
       "      <td>0.971752</td>\n",
       "      <td>8.926258e-01</td>\n",
       "      <td>6.513216e-01</td>\n",
       "    </tr>\n",
       "    <tr>\n",
       "      <th>10</th>\n",
       "      <td>1.000000</td>\n",
       "      <td>1.000000</td>\n",
       "      <td>1.000000</td>\n",
       "      <td>1.000000</td>\n",
       "      <td>1.000000</td>\n",
       "      <td>1.000000</td>\n",
       "      <td>1.000000</td>\n",
       "      <td>1.000000</td>\n",
       "      <td>1.000000</td>\n",
       "      <td>1.000000e+00</td>\n",
       "      <td>1.000000e+00</td>\n",
       "    </tr>\n",
       "  </tbody>\n",
       "</table>\n",
       "</div>"
      ],
      "text/plain": [
       "        0.01      0.05      0.10      0.20      0.30      0.40      0.50  \\\n",
       "0   0.904382  0.598737  0.348678  0.107374  0.028248  0.006047  0.000977   \n",
       "1   0.995734  0.913862  0.736099  0.375810  0.149308  0.046357  0.010742   \n",
       "2   0.999886  0.988496  0.929809  0.677800  0.382783  0.167290  0.054688   \n",
       "3   0.999998  0.998972  0.987205  0.879126  0.649611  0.382281  0.171875   \n",
       "4   1.000000  0.999936  0.998365  0.967207  0.849732  0.633103  0.376953   \n",
       "5   1.000000  0.999997  0.999853  0.993631  0.952651  0.833761  0.623047   \n",
       "6   1.000000  1.000000  0.999991  0.999136  0.989408  0.945238  0.828125   \n",
       "7   1.000000  1.000000  1.000000  0.999922  0.998410  0.987705  0.945312   \n",
       "8   1.000000  1.000000  1.000000  0.999996  0.999856  0.998322  0.989258   \n",
       "9   1.000000  1.000000  1.000000  1.000000  0.999994  0.999895  0.999023   \n",
       "10  1.000000  1.000000  1.000000  1.000000  1.000000  1.000000  1.000000   \n",
       "\n",
       "        0.60      0.70          0.80          0.90  \n",
       "0   0.000105  0.000006  1.024000e-07  1.000000e-10  \n",
       "1   0.001678  0.000144  4.198400e-06  9.100000e-09  \n",
       "2   0.012295  0.001590  7.792640e-05  3.736000e-07  \n",
       "3   0.054762  0.010592  8.643584e-04  9.121600e-06  \n",
       "4   0.166239  0.047349  6.369382e-03  1.469026e-04  \n",
       "5   0.366897  0.150268  3.279350e-02  1.634937e-03  \n",
       "6   0.617719  0.350389  1.208739e-01  1.279520e-02  \n",
       "7   0.832710  0.617217  3.222005e-01  7.019083e-02  \n",
       "8   0.953643  0.850692  6.241904e-01  2.639011e-01  \n",
       "9   0.993953  0.971752  8.926258e-01  6.513216e-01  \n",
       "10  1.000000  1.000000  1.000000e+00  1.000000e+00  "
      ]
     },
     "execution_count": 16,
     "metadata": {},
     "output_type": "execute_result"
    }
   ],
   "source": [
    "a"
   ]
  },
  {
   "cell_type": "code",
   "execution_count": 17,
   "metadata": {},
   "outputs": [
    {
     "data": {
      "text/plain": [
       "[0.9043820750088044,\n",
       " 0.9957337997571686,\n",
       " 0.9998861508820942,\n",
       " 0.9999979987238431,\n",
       " 0.9999999758321568,\n",
       " 0.9999999997971061,\n",
       " 0.9999999999988313,\n",
       " 0.9999999999999956,\n",
       " 0.9999999999999999,\n",
       " 0.9999999999999999,\n",
       " 1.0]"
      ]
     },
     "execution_count": 17,
     "metadata": {},
     "output_type": "execute_result"
    }
   ],
   "source": [
    "dist"
   ]
  },
  {
   "cell_type": "code",
   "execution_count": 18,
   "metadata": {},
   "outputs": [
    {
     "data": {
      "text/plain": [
       "[9.999999999999978e-11,\n",
       " 9.09999999999998e-09,\n",
       " 3.735999999999994e-07,\n",
       " 9.121599999999984e-06,\n",
       " 0.00014690259999999982,\n",
       " 0.0016349373999999981,\n",
       " 0.012795198399999989,\n",
       " 0.07019082639999996,\n",
       " 0.26390107089999987,\n",
       " 0.6513215598999998,\n",
       " 1.0]"
      ]
     },
     "execution_count": 18,
     "metadata": {},
     "output_type": "execute_result"
    }
   ],
   "source": [
    "dist11"
   ]
  },
  {
   "cell_type": "markdown",
   "metadata": {},
   "source": [
    "# UNİFORM DİST"
   ]
  },
  {
   "cell_type": "code",
   "execution_count": 20,
   "metadata": {},
   "outputs": [],
   "source": [
    "(a,b) = (0,30)"
   ]
  },
  {
   "cell_type": "code",
   "execution_count": 21,
   "metadata": {},
   "outputs": [],
   "source": [
    "uniDist = stats.uniform(0,30)"
   ]
  },
  {
   "cell_type": "code",
   "execution_count": 22,
   "metadata": {},
   "outputs": [
    {
     "data": {
      "text/plain": [
       "(0, 30)"
      ]
     },
     "execution_count": 22,
     "metadata": {},
     "output_type": "execute_result"
    }
   ],
   "source": [
    "uniDist.args"
   ]
  },
  {
   "cell_type": "code",
   "execution_count": 23,
   "metadata": {},
   "outputs": [
    {
     "data": {
      "text/plain": [
       "0.03333333333333333"
      ]
     },
     "execution_count": 23,
     "metadata": {},
     "output_type": "execute_result"
    }
   ],
   "source": [
    "uniDist.pdf(10) # same for each options"
   ]
  },
  {
   "cell_type": "code",
   "execution_count": 24,
   "metadata": {},
   "outputs": [
    {
     "data": {
      "text/plain": [
       "0.03333333333333333"
      ]
     },
     "execution_count": 24,
     "metadata": {},
     "output_type": "execute_result"
    }
   ],
   "source": [
    "uniDist.pdf(11)"
   ]
  },
  {
   "cell_type": "code",
   "execution_count": 25,
   "metadata": {},
   "outputs": [
    {
     "data": {
      "text/plain": [
       "0.16666666666666669"
      ]
     },
     "execution_count": 25,
     "metadata": {},
     "output_type": "execute_result"
    }
   ],
   "source": [
    "uniDist.cdf(15)-uniDist.cdf(10)"
   ]
  },
  {
   "cell_type": "code",
   "execution_count": 26,
   "metadata": {
    "scrolled": true
   },
   "outputs": [
    {
     "data": {
      "text/plain": [
       "array([2.50358486e+01, 2.09756062e+01, 8.41851620e+00, 1.82064100e+01,\n",
       "       6.58877882e+00, 1.33007017e+00, 2.57617367e+01, 2.08460023e+01,\n",
       "       2.21369866e+01, 8.86983080e-01, 2.07290536e+01, 2.59057170e+01,\n",
       "       1.74703077e+01, 2.23260170e+01, 1.37730836e+01, 2.96103103e+01,\n",
       "       3.70183937e+00, 2.24923121e+01, 1.68509592e+00, 1.22101798e+01,\n",
       "       2.67822699e+01, 1.45559700e+01, 2.81311791e+01, 7.38785396e+00,\n",
       "       1.30543840e+01, 6.96156166e+00, 2.74735964e+01, 2.95699878e+01,\n",
       "       2.97456340e+01, 1.01175783e+01, 1.48986874e+00, 2.22644021e+01,\n",
       "       1.90684640e+01, 1.13924490e+01, 2.48373304e+01, 2.40325209e+01,\n",
       "       3.84878193e+00, 1.78251251e+01, 1.09395032e+01, 7.65293072e+00,\n",
       "       2.64381618e+00, 1.31286237e+01, 2.69234164e+01, 2.36954497e+00,\n",
       "       7.22010939e-01, 1.96516336e+01, 2.97462686e+01, 2.70796275e+01,\n",
       "       1.05314240e+01, 1.56372480e+00, 2.15058977e+01, 9.32210537e+00,\n",
       "       1.21067355e+01, 1.11548864e+01, 1.73299038e+01, 6.40143411e+00,\n",
       "       2.42295847e+01, 2.83083982e+01, 7.06082105e+00, 9.86832161e+00,\n",
       "       5.70955463e+00, 1.05437773e+01, 2.97287449e+01, 2.04150173e+01,\n",
       "       2.25490471e+01, 2.45669401e+01, 2.74880135e+01, 1.38971685e+01,\n",
       "       1.45499706e+01, 2.17015550e+01, 7.41985825e+00, 1.11645213e+00,\n",
       "       2.80607104e+01, 1.03918554e+01, 1.71708745e+01, 8.88248704e+00,\n",
       "       1.11872326e+01, 1.53698909e+01, 1.78920174e+01, 6.94044051e+00,\n",
       "       1.98491819e+01, 1.80091258e+01, 2.81344325e+01, 6.58841717e+00,\n",
       "       1.36407843e+01, 4.33887569e+00, 9.74000762e+00, 1.77511637e+01,\n",
       "       2.67113955e+01, 1.81822655e+01, 1.05749756e+01, 2.08068696e+01,\n",
       "       1.85285821e+01, 4.43905208e+00, 2.35440361e+01, 1.87982306e+01,\n",
       "       1.03010105e+01, 6.19745155e+00, 2.77636081e+00, 2.07762728e-01,\n",
       "       2.52653942e+01, 2.67321026e+01, 2.31856670e+01, 1.19383770e+01,\n",
       "       2.22792927e+00, 3.78738340e+00, 4.10148735e+00, 2.62327000e+01,\n",
       "       1.77491777e+01, 7.84809726e+00, 1.05802171e+01, 2.82798313e+01,\n",
       "       2.50735608e+01, 2.16156897e+01, 1.58309957e+01, 2.95801385e+01,\n",
       "       7.98149637e-01, 1.66578689e+01, 1.31467286e+01, 1.59603242e+01,\n",
       "       1.61740832e+01, 2.29579872e+01, 2.79509647e+00, 2.54837245e+01,\n",
       "       4.02513735e+00, 1.59316735e+01, 2.38673315e+00, 8.70020265e-01,\n",
       "       9.91073417e+00, 1.06168970e+01, 9.00885252e+00, 9.35231741e-01,\n",
       "       2.42016675e+00, 1.82511983e+01, 2.14293301e+01, 8.27982155e+00,\n",
       "       1.43223419e+01, 7.89979042e+00, 1.19573416e+01, 1.85588947e+01,\n",
       "       1.66047614e+01, 2.70960004e+01, 1.10506604e+01, 5.29349208e+00,\n",
       "       1.44349434e+00, 1.12135676e+01, 1.53437021e+01, 2.23197008e+01,\n",
       "       8.57158631e-02, 1.52996102e+01, 1.40297219e+00, 1.01415831e+01,\n",
       "       3.04543399e+00, 2.64351422e+01, 8.21088678e-01, 2.39013874e+01,\n",
       "       1.78949604e+01, 2.14844178e+01, 3.23890441e+00, 2.75883753e+01,\n",
       "       2.70372452e+00, 2.71494514e+01, 7.79179032e+00, 2.40441083e+01,\n",
       "       1.18849913e+01, 2.27193456e+01, 1.56763219e+01, 2.06043956e+01,\n",
       "       2.03040585e+01, 6.04995425e+00, 5.89790942e-01, 1.23447024e+01,\n",
       "       6.07389359e+00, 3.30970792e+00, 2.78823143e+01, 3.08707383e+00,\n",
       "       1.76195158e+01, 4.62608255e+00, 2.00610821e+01, 7.25299031e+00,\n",
       "       2.25653665e+01, 1.17972657e+01, 1.64676973e+01, 1.05212251e+01,\n",
       "       4.92781997e-01, 2.93619301e+01, 1.37310435e+01, 2.87559340e+01,\n",
       "       1.76770078e+01, 6.18450935e+00, 2.96389130e+00, 2.35141136e+01,\n",
       "       1.44562468e+00, 5.62173949e+00, 2.51879597e+01, 2.01692282e+01,\n",
       "       1.74596903e+01, 2.35325570e+01, 1.10808010e+01, 1.77774800e+01,\n",
       "       1.45332428e+01, 8.45262502e+00, 1.63976581e+01, 2.01664361e+01,\n",
       "       9.52661539e+00, 1.13728653e+01, 3.16623899e+00, 1.92490479e+00,\n",
       "       2.37653095e+01, 2.00181252e+01, 9.36029201e+00, 1.34850590e+01,\n",
       "       2.89516911e+01, 2.76521156e+01, 2.53191604e+01, 2.29458243e+01,\n",
       "       2.79134328e+00, 2.95391010e+01, 2.95267412e+01, 1.30287275e+01,\n",
       "       1.99414528e+01, 1.75129599e+01, 2.26221845e+01, 4.72232943e+00,\n",
       "       1.81161598e+01, 5.92422634e+00, 1.74900793e+01, 2.39985499e+01,\n",
       "       2.03951834e+01, 2.56755756e+01, 2.70341088e+01, 6.65501656e+00,\n",
       "       2.06727607e+01, 4.02352220e+00, 1.64339379e+00, 1.83918770e+01,\n",
       "       9.22879860e+00, 2.63836503e+01, 1.07535299e+01, 1.61248324e+01,\n",
       "       6.22002004e+00, 9.24374593e+00, 3.14600989e+00, 1.36356701e+01,\n",
       "       1.44134827e+01, 1.35153710e+01, 1.48921062e+01, 2.85346433e+01,\n",
       "       2.83252179e+01, 2.05807381e+00, 7.68477645e+00, 2.82479182e+01,\n",
       "       2.58867583e+01, 3.11974352e+00, 1.19680572e+01, 3.83175465e+00,\n",
       "       2.97950713e+01, 1.43490819e+01, 2.55883703e+01, 1.71736571e+01,\n",
       "       3.12685701e+00, 1.88005353e+01, 1.08909237e+01, 6.67535436e+00,\n",
       "       9.62550881e+00, 2.79544972e+00, 1.27672952e+01, 2.14186375e+01,\n",
       "       2.96034181e+01, 9.54617140e+00, 4.95008014e+00, 2.81342421e+01,\n",
       "       2.78164398e+01, 1.95781693e+01, 9.17330229e+00, 1.47088057e+01,\n",
       "       5.55467655e+00, 2.44450148e+01, 2.47718822e+01, 2.29015595e+01,\n",
       "       1.03286169e+01, 1.09756723e+01, 2.78827270e+01, 2.89428545e+01,\n",
       "       9.10640544e+00, 9.72396496e+00, 2.03400488e+01, 1.88545716e+01,\n",
       "       8.68764875e+00, 2.73981678e+01, 4.34019240e+00, 5.13437100e+00,\n",
       "       2.11572260e+00, 2.91633050e+01, 2.50577272e+01, 2.48323862e+01,\n",
       "       1.58151915e+01, 1.86665663e+01, 2.69991989e+01, 1.46037066e+01,\n",
       "       1.08748883e+00, 8.17243578e+00, 1.68801123e+00, 3.93876512e+00,\n",
       "       2.88267556e+01, 1.65971672e+01, 1.60894496e+01, 7.65601798e+00,\n",
       "       9.68475486e+00, 2.36833364e+01, 2.43505374e+01, 4.18511766e+00,\n",
       "       2.10910638e+01, 2.27864954e+01, 2.31734950e+01, 1.54806027e+01,\n",
       "       2.16480044e+01, 7.67552085e+00, 1.17321601e+00, 9.50588937e+00,\n",
       "       2.39621580e+00, 1.12142769e+01, 2.41199767e+01, 1.44370191e+01,\n",
       "       2.43555923e+01, 1.29617228e+00, 1.61709937e+01, 2.92555664e+01,\n",
       "       1.87925705e+01, 1.93794893e+01, 1.52497437e+01, 1.01892760e+01,\n",
       "       2.36432748e+01, 2.21059241e+01, 6.71904029e+00, 1.45457338e+01,\n",
       "       1.60292601e+01, 2.57904764e+01, 1.28010554e+00, 2.74653205e+01,\n",
       "       1.86730342e+01, 1.92287539e+01, 1.57115559e+01, 2.95610479e+01,\n",
       "       2.14633134e+01, 2.37182035e+01, 1.50026804e+01, 2.50104865e+00,\n",
       "       1.12629923e+01, 6.68107557e+00, 1.44783006e+01, 1.16967319e+00,\n",
       "       1.63121106e+00, 1.62249827e+00, 2.37728762e+01, 2.27372684e+01,\n",
       "       2.37362207e+01, 1.54881465e+01, 1.26329838e+01, 5.01841265e+00,\n",
       "       3.98158779e+00, 8.02368824e+00, 1.68885597e+01, 1.17178032e+01,\n",
       "       1.55125302e+00, 2.67713274e+01, 1.51594983e+01, 1.14417425e+01,\n",
       "       1.49824766e+01, 2.90315078e+01, 1.22586218e+01, 2.19604981e+01,\n",
       "       1.51425715e+01, 1.52838797e+01, 5.04420240e+00, 2.14651510e+01,\n",
       "       1.57191215e+01, 2.17896149e+00, 2.38420634e+01, 4.39682174e+00,\n",
       "       1.63260506e+01, 9.20794085e+00, 2.57397740e+01, 9.35466996e+00,\n",
       "       4.69700772e+00, 2.96492212e+01, 2.40389713e+01, 1.31938057e+01,\n",
       "       1.79752216e+01, 1.38937409e+01, 5.18898173e-02, 3.50976761e+00,\n",
       "       5.05086001e+00, 2.84197059e+01, 2.72315660e+01, 5.45216750e+00,\n",
       "       2.44091902e+01, 2.75943079e+01, 8.26027191e+00, 2.26659977e+01,\n",
       "       1.76308985e+01, 2.87391768e+00, 8.74165630e+00, 2.40262407e+01,\n",
       "       2.40842251e+00, 9.98623382e+00, 1.81481083e+01, 1.95728364e+01,\n",
       "       1.71886635e+01, 1.66803529e+01, 2.67345900e+01, 1.95083663e+01,\n",
       "       2.57418589e+01, 1.62393418e+01, 2.90773260e+00, 7.58539635e+00,\n",
       "       2.14856428e+01, 1.59166127e+01, 2.63405354e+01, 2.81469433e+01,\n",
       "       8.55055819e+00, 5.39727758e+00, 5.34672178e-01, 1.50482943e+01,\n",
       "       2.10338712e+01, 3.26403159e+00, 1.73078813e+01, 2.93250206e+01,\n",
       "       7.83487709e+00, 6.10682299e+00, 1.41107891e+01, 1.64333146e+01,\n",
       "       1.02268211e+00, 5.51389518e-01, 2.96435808e+01, 1.95699451e+01,\n",
       "       8.77128001e+00, 1.04930227e+01, 2.33127324e+00, 1.72487917e+01,\n",
       "       1.34767926e+01, 1.39950939e+01, 1.41276323e+01, 1.38374573e+01,\n",
       "       1.77436315e+01, 6.23697867e-01, 1.17253836e+01, 8.06698157e+00,\n",
       "       1.01407139e+01, 9.46169184e+00, 1.55936673e+01, 8.62524711e+00,\n",
       "       2.51227574e+01, 2.61619550e+01, 1.65900312e+01, 2.15555251e+01,\n",
       "       2.06549500e+01, 1.01033219e+01, 9.16875912e+00, 2.97288570e+01,\n",
       "       9.73577141e+00, 2.29574775e+01, 7.15027518e+00, 1.45025397e+01,\n",
       "       6.57501261e+00, 2.46098075e+01, 8.30790793e+00, 8.98132595e+00,\n",
       "       2.82337710e+01, 1.88490524e+01, 1.87215564e+01, 1.06348197e+01,\n",
       "       2.22852066e+01, 4.47751712e+00, 9.75474060e+00, 3.90935625e+00,\n",
       "       1.11749970e+00, 1.62663686e+01, 3.17830482e+00, 2.92679102e+01,\n",
       "       2.85387859e+01, 2.71874569e+01, 6.37798414e+00, 2.47653528e+01,\n",
       "       1.42882847e+01, 2.10418926e+00, 1.69870179e+01, 2.11481032e+01,\n",
       "       1.04221882e+01, 1.87281844e+01, 1.10664181e-01, 1.02606258e+01,\n",
       "       5.03415343e+00, 2.61482603e+01, 5.14024015e+00, 2.90396130e+01,\n",
       "       2.36404265e+01, 2.46578246e+01, 1.18211374e+01, 2.01703685e+01,\n",
       "       1.16257559e+01, 1.43726614e+01, 5.71829810e+00, 4.86960717e+00,\n",
       "       1.25221954e+01, 1.61855944e+01, 1.25564200e+01, 8.13821216e+00,\n",
       "       1.83178603e+01, 7.42956989e+00, 1.60657085e+01, 3.95380810e+00,\n",
       "       1.87396585e+01, 1.69114490e+01, 2.38889503e+01, 1.94932770e+01,\n",
       "       5.57662128e+00, 1.20027378e+01, 2.35043800e+01, 1.74206576e+00,\n",
       "       1.07676349e+00, 1.46415215e+01, 2.72130093e+01, 2.02732162e-01,\n",
       "       9.28251761e+00, 4.18030168e+00, 2.33761620e+01, 1.15629944e+01,\n",
       "       1.96543558e+01, 7.02550707e+00, 5.47163199e-01, 8.65415109e+00,\n",
       "       1.41737314e+01, 2.12479862e+01, 2.53881955e+01, 8.16227197e+00,\n",
       "       2.04134092e+01, 2.79706054e+00, 1.71279591e+00, 1.71675358e+01,\n",
       "       1.71277163e+01, 1.83114635e+01, 6.35182542e+00, 2.52312472e+01,\n",
       "       2.61088715e+01, 1.12149259e+01, 1.71918569e+01, 7.25006678e+00,\n",
       "       2.17206306e+01, 5.71860438e-01, 1.71856293e+01, 1.99801078e+01,\n",
       "       2.79467581e+00, 8.03546549e+00, 2.79907359e+01, 1.02263605e+01,\n",
       "       9.47904015e+00, 2.97819049e+01, 2.84490801e+00, 2.28328601e+01,\n",
       "       1.10777710e+01, 2.84464056e+01, 3.68638690e+00, 1.37327243e+01,\n",
       "       3.35984420e+00, 1.77013508e+01, 8.30160815e+00, 2.19964406e+01,\n",
       "       2.64458103e+01, 4.45212368e+00, 3.80667346e+00, 3.46474573e+00,\n",
       "       1.60950861e+01, 2.72055212e+01, 1.30770243e+01, 2.87625831e+01,\n",
       "       1.87628262e+01, 2.73580542e+01, 5.38528782e+00, 2.46280946e+01,\n",
       "       1.50144418e+01, 4.50065836e+00, 2.31340771e+01, 7.24450877e+00,\n",
       "       1.86829544e+00, 2.63170972e+01, 1.50292982e+01, 1.57920807e+01,\n",
       "       2.12346858e+01, 2.83422016e+01, 2.83709988e+01, 1.25409935e+01,\n",
       "       2.74972823e+01, 1.27092891e+01, 1.97262182e+01, 1.63881848e+01,\n",
       "       2.61926005e+01, 1.89247179e+01, 1.11638080e+01, 2.44698700e+01,\n",
       "       1.99966287e+01, 8.51120236e+00, 1.62743563e+01, 2.80674106e+01,\n",
       "       6.01427542e+00, 1.27095435e+00, 1.06034358e+01, 2.45949412e+01,\n",
       "       1.62173048e+01, 2.07167401e+01, 9.25617472e+00, 1.47007385e+01,\n",
       "       5.45926901e+00, 1.32407159e+01, 2.30233860e+01, 7.58031249e-03,\n",
       "       2.18222945e+01, 2.33864890e+01, 1.67206478e+01, 2.72741394e+01,\n",
       "       2.31304607e+01, 1.95179085e+01, 7.91850359e+00, 2.67799092e+01,\n",
       "       9.40265545e+00, 2.11949405e+01, 1.69098027e+01, 7.48190738e+00,\n",
       "       7.92162740e+00, 1.94291489e+01, 2.70999385e+01, 8.21657926e+00,\n",
       "       1.53020632e+01, 2.84661869e+00, 7.85641264e+00, 1.44556279e+01,\n",
       "       4.30299391e+00, 1.19087449e+01, 2.11583092e+01, 1.37508303e+01,\n",
       "       2.72783208e+01, 2.77400959e+01, 8.29131125e+00, 2.85565268e+01,\n",
       "       2.03964459e+00, 5.95632162e-01, 9.69194387e+00, 1.12101023e+01,\n",
       "       2.56923454e+01, 9.14167963e-02, 5.89876265e+00, 1.83377624e+01,\n",
       "       2.69407816e+01, 2.74811719e+01, 3.87874678e+00, 2.17465472e+01,\n",
       "       1.50509899e+01, 2.84169176e+01, 6.84975490e+00, 1.53653487e+01,\n",
       "       9.51857415e+00, 8.20985330e+00, 8.79057090e+00, 4.07277929e+00,\n",
       "       3.02933658e+00, 1.26166503e+01, 2.28215100e+01, 2.73280933e+01,\n",
       "       7.73118909e+00, 2.48045217e+01, 2.23190824e+01, 2.12279237e+01,\n",
       "       4.02384468e+00, 4.14321469e+00, 1.29831493e+01, 1.44288600e+01,\n",
       "       9.42830365e+00, 4.76265079e+00, 1.53952017e+01, 2.29582526e+01,\n",
       "       2.29482756e+01, 2.62103231e+01, 2.08255992e+01, 1.44346390e+01,\n",
       "       2.32435879e+01, 7.66863300e+00, 1.53423608e+01, 7.45942258e+00,\n",
       "       1.99638774e+01, 1.34919206e+01, 2.63271840e+01, 1.02811005e+01,\n",
       "       1.58053412e+01, 3.87452971e+00, 2.30966207e+01, 2.94015411e+01,\n",
       "       1.62945429e+01, 1.98663042e+01, 2.38082549e+01, 1.65138845e+01,\n",
       "       5.79520427e+00, 6.96329884e-01, 1.33757981e+01, 7.50524336e+00,\n",
       "       1.09183245e+01, 2.57081534e+01, 7.79551800e-01, 1.72848264e+01,\n",
       "       2.09510679e+00, 1.21500699e+01, 1.18896576e+01, 5.78923343e+00,\n",
       "       6.06106852e+00, 1.80914620e+01, 1.81571862e+01, 1.31524835e-01,\n",
       "       2.17744911e+01, 2.81505003e+01, 1.33701956e+01, 1.15913402e+01,\n",
       "       1.69050992e+01, 1.70411430e+01, 1.73744802e+01, 1.89111133e-03,\n",
       "       2.34862789e+01, 1.90979646e+01, 1.67521610e+00, 2.23725462e+01,\n",
       "       1.34655368e+01, 2.90605866e+00, 1.35347306e+01, 9.85887251e+00,\n",
       "       9.00240825e+00, 9.66190720e+00, 1.70279265e+01, 2.63746969e+01,\n",
       "       2.34088260e+01, 2.88929296e+01, 1.64576963e+01, 2.40253089e+01,\n",
       "       1.83488580e+01, 8.83350724e+00, 2.39539858e+01, 1.78368090e+01,\n",
       "       1.39020361e+01, 9.97801688e+00, 2.12738654e+01, 2.18147689e+01,\n",
       "       7.17417481e+00, 2.94226549e+01, 2.72472358e+01, 1.40879730e+01,\n",
       "       1.74940580e+01, 1.97024048e+01, 8.84497323e+00, 1.52730179e+01,\n",
       "       1.72574569e-02, 2.11184241e+01, 2.91743555e+01, 8.39345936e+00,\n",
       "       2.74283932e+01, 2.94757005e-01, 1.18385179e+01, 1.91768193e+01,\n",
       "       1.01947495e+00, 6.53907613e+00, 1.13720451e+00, 1.41733558e+01,\n",
       "       2.15939944e+01, 2.15570082e+01, 1.06516904e+01, 2.80251644e+01,\n",
       "       2.84340910e+01, 2.93154608e+01, 1.63610827e+01, 5.79054599e+00,\n",
       "       1.93500343e+01, 1.81769442e+01, 2.89711914e+00, 9.85807977e-01,\n",
       "       6.13776019e+00, 7.89632463e+00, 1.87594082e+01, 5.85035363e+00,\n",
       "       2.65779059e-01, 4.55418116e+00, 1.41422891e+01, 2.72860144e+01,\n",
       "       1.26446514e+01, 5.89965920e-01, 2.20514045e+01, 2.09327076e+01,\n",
       "       1.86529504e+01, 1.84166390e+01, 1.59392948e+01, 1.51603038e+01,\n",
       "       1.09003943e+01, 1.47036770e+01, 1.55603369e+01, 1.74016525e+00,\n",
       "       1.30767368e+01, 2.12693117e+01, 2.89649008e+01, 2.01627607e+01,\n",
       "       1.62336294e+01, 2.77997296e+01, 1.26518945e+01, 2.04077976e+01,\n",
       "       9.22064811e+00, 2.28324951e+01, 1.86356677e+01, 2.20849908e+01,\n",
       "       2.94524333e+01, 2.25916285e+01, 1.28402548e+00, 1.31870478e+00,\n",
       "       1.88279588e+01, 2.36582845e+01, 2.81567466e+01, 2.84277865e+01,\n",
       "       2.43111630e+01, 1.15434841e+01, 2.37978065e+01, 5.03706616e+00,\n",
       "       4.12371404e-02, 1.83316048e+01, 1.28674280e+01, 4.02202568e+00,\n",
       "       3.26276100e+00, 1.11289469e+01, 1.65815411e+00, 1.30139682e+01,\n",
       "       2.64681806e+01, 6.02428227e+00, 2.76469992e+01, 2.43776527e+01,\n",
       "       2.86785835e+01, 2.26916374e+01, 1.42807230e+01, 1.91936447e+01,\n",
       "       2.86434985e+01, 6.89447762e+00, 4.77212989e+00, 7.26794536e+00,\n",
       "       1.57613568e+01, 2.59734610e+01, 8.73467805e+00, 1.24320482e+01,\n",
       "       2.47361378e+01, 1.37545546e+01, 1.01964925e+01, 2.16002386e+01,\n",
       "       1.13638648e+01, 2.97366249e+01, 2.16688272e+01, 6.03256547e-01,\n",
       "       1.34557693e+01, 2.32384859e+01, 2.81982382e+01, 1.17900606e+01,\n",
       "       6.63055632e+00, 1.85087411e+01, 2.03596894e+01, 2.31339076e+01,\n",
       "       2.70209753e+01, 2.86551569e+01, 5.38491596e+00, 1.38489065e+01,\n",
       "       2.46611214e+01, 9.05635263e+00, 8.57411277e+00, 1.57740112e+01,\n",
       "       2.25436670e+01, 1.06674935e+01, 2.94801119e+01, 1.38487909e+01,\n",
       "       2.08928360e+01, 1.62154166e+01, 2.19330634e+01, 2.73802298e+01,\n",
       "       1.24057282e+01, 7.11153373e+00, 1.66665435e+01, 2.25202723e+01,\n",
       "       2.28390661e+01, 5.05037227e+00, 2.11572629e+01, 1.43020022e+01,\n",
       "       8.21037148e+00, 7.77804849e-01, 2.56418010e+01, 1.88173621e+01,\n",
       "       3.79970723e-01, 1.57091694e+01, 1.43305729e+01, 7.75127869e+00,\n",
       "       1.54207111e+01, 1.16212354e+01, 3.67771230e+00, 2.69839602e+01,\n",
       "       2.69234368e+01, 6.00404092e+00, 2.48727966e+01, 1.24108322e+01,\n",
       "       2.22269184e+01, 2.49811407e+01, 7.86083232e+00, 4.18962406e-01,\n",
       "       6.39448310e+00, 9.90417048e+00, 2.34150893e+01, 1.00868605e+01,\n",
       "       3.08380488e+00, 1.58016400e+01, 6.66218235e+00, 2.48459205e+01,\n",
       "       2.85765550e+01, 2.33134752e+00, 1.50861964e+01, 1.70254176e+00,\n",
       "       7.83471860e+00, 2.54112337e+01, 2.74947444e+01, 2.36607059e+01,\n",
       "       2.26141792e+01, 9.73990260e+00, 1.53244088e+01, 8.20667831e+00,\n",
       "       1.75040108e+01, 1.01397097e+01, 1.02693599e+01, 2.42645472e+01,\n",
       "       3.86339528e+00, 2.91313494e+01, 1.10977958e+01, 2.85429234e+01,\n",
       "       2.70421306e+01, 1.36349751e+01, 2.57313909e+01, 2.94323144e-01,\n",
       "       2.93623140e+01, 4.11787111e+00, 2.80957314e+01, 2.97674371e+01,\n",
       "       2.69654245e+01, 9.03984003e+00, 1.28048678e+01, 5.09333872e+00,\n",
       "       1.89021619e+00, 4.60434326e+00, 2.13357696e+01, 9.58193055e+00,\n",
       "       9.49989826e-01, 6.96107343e+00, 2.20946387e+01, 1.74903469e+01,\n",
       "       2.99079231e+01, 1.13117513e+01, 2.38188558e+01, 2.07732937e+01,\n",
       "       1.31929781e+01, 2.75236354e+01, 1.89133572e+01, 7.36290748e+00,\n",
       "       1.70358851e+01, 2.62003985e+01, 2.87177023e+01, 1.13047209e+01,\n",
       "       5.75399179e+00, 2.80852873e+01, 2.43397256e+01, 2.01457512e+01,\n",
       "       1.43423633e+01, 2.63161445e+01, 6.19123474e+00, 3.38825015e-01,\n",
       "       3.79412950e+00, 7.64152673e+00, 7.31681801e-03, 2.29302540e+01,\n",
       "       2.41150213e+01, 2.76754849e+01, 6.53377452e+00, 5.18695631e+00,\n",
       "       1.20538553e+01, 2.62173827e+01, 1.69516041e+01, 1.97663845e+01,\n",
       "       1.51557277e+01, 1.01819223e+01, 2.56250716e+01, 1.11657643e+01,\n",
       "       1.54471966e+01, 1.86063651e+01, 3.73981406e+00, 1.17024668e+01,\n",
       "       1.53624576e+01, 4.04353786e+00, 3.90152694e+00, 3.36759744e+00])"
      ]
     },
     "execution_count": 26,
     "metadata": {},
     "output_type": "execute_result"
    }
   ],
   "source": [
    "uniDist.rvs(1000)"
   ]
  },
  {
   "cell_type": "code",
   "execution_count": 27,
   "metadata": {},
   "outputs": [],
   "source": [
    "a = uniDist.rvs(1000)\n",
    "b = []\n",
    "for i in a:\n",
    "    b.append(uniDist.pdf(i))\n"
   ]
  },
  {
   "cell_type": "code",
   "execution_count": 28,
   "metadata": {},
   "outputs": [
    {
     "data": {
      "text/plain": [
       "[0.03333333333333333,\n",
       " 0.03333333333333333,\n",
       " 0.03333333333333333,\n",
       " 0.03333333333333333,\n",
       " 0.03333333333333333,\n",
       " 0.03333333333333333,\n",
       " 0.03333333333333333,\n",
       " 0.03333333333333333,\n",
       " 0.03333333333333333,\n",
       " 0.03333333333333333,\n",
       " 0.03333333333333333,\n",
       " 0.03333333333333333,\n",
       " 0.03333333333333333,\n",
       " 0.03333333333333333,\n",
       " 0.03333333333333333,\n",
       " 0.03333333333333333,\n",
       " 0.03333333333333333,\n",
       " 0.03333333333333333,\n",
       " 0.03333333333333333,\n",
       " 0.03333333333333333,\n",
       " 0.03333333333333333,\n",
       " 0.03333333333333333,\n",
       " 0.03333333333333333,\n",
       " 0.03333333333333333,\n",
       " 0.03333333333333333,\n",
       " 0.03333333333333333,\n",
       " 0.03333333333333333,\n",
       " 0.03333333333333333,\n",
       " 0.03333333333333333,\n",
       " 0.03333333333333333,\n",
       " 0.03333333333333333,\n",
       " 0.03333333333333333,\n",
       " 0.03333333333333333,\n",
       " 0.03333333333333333,\n",
       " 0.03333333333333333,\n",
       " 0.03333333333333333,\n",
       " 0.03333333333333333,\n",
       " 0.03333333333333333,\n",
       " 0.03333333333333333,\n",
       " 0.03333333333333333,\n",
       " 0.03333333333333333,\n",
       " 0.03333333333333333,\n",
       " 0.03333333333333333,\n",
       " 0.03333333333333333,\n",
       " 0.03333333333333333,\n",
       " 0.03333333333333333,\n",
       " 0.03333333333333333,\n",
       " 0.03333333333333333,\n",
       " 0.03333333333333333,\n",
       " 0.03333333333333333,\n",
       " 0.03333333333333333,\n",
       " 0.03333333333333333,\n",
       " 0.03333333333333333,\n",
       " 0.03333333333333333,\n",
       " 0.03333333333333333,\n",
       " 0.03333333333333333,\n",
       " 0.03333333333333333,\n",
       " 0.03333333333333333,\n",
       " 0.03333333333333333,\n",
       " 0.03333333333333333,\n",
       " 0.03333333333333333,\n",
       " 0.03333333333333333,\n",
       " 0.03333333333333333,\n",
       " 0.03333333333333333,\n",
       " 0.03333333333333333,\n",
       " 0.03333333333333333,\n",
       " 0.03333333333333333,\n",
       " 0.03333333333333333,\n",
       " 0.03333333333333333,\n",
       " 0.03333333333333333,\n",
       " 0.03333333333333333,\n",
       " 0.03333333333333333,\n",
       " 0.03333333333333333,\n",
       " 0.03333333333333333,\n",
       " 0.03333333333333333,\n",
       " 0.03333333333333333,\n",
       " 0.03333333333333333,\n",
       " 0.03333333333333333,\n",
       " 0.03333333333333333,\n",
       " 0.03333333333333333,\n",
       " 0.03333333333333333,\n",
       " 0.03333333333333333,\n",
       " 0.03333333333333333,\n",
       " 0.03333333333333333,\n",
       " 0.03333333333333333,\n",
       " 0.03333333333333333,\n",
       " 0.03333333333333333,\n",
       " 0.03333333333333333,\n",
       " 0.03333333333333333,\n",
       " 0.03333333333333333,\n",
       " 0.03333333333333333,\n",
       " 0.03333333333333333,\n",
       " 0.03333333333333333,\n",
       " 0.03333333333333333,\n",
       " 0.03333333333333333,\n",
       " 0.03333333333333333,\n",
       " 0.03333333333333333,\n",
       " 0.03333333333333333,\n",
       " 0.03333333333333333,\n",
       " 0.03333333333333333,\n",
       " 0.03333333333333333,\n",
       " 0.03333333333333333,\n",
       " 0.03333333333333333,\n",
       " 0.03333333333333333,\n",
       " 0.03333333333333333,\n",
       " 0.03333333333333333,\n",
       " 0.03333333333333333,\n",
       " 0.03333333333333333,\n",
       " 0.03333333333333333,\n",
       " 0.03333333333333333,\n",
       " 0.03333333333333333,\n",
       " 0.03333333333333333,\n",
       " 0.03333333333333333,\n",
       " 0.03333333333333333,\n",
       " 0.03333333333333333,\n",
       " 0.03333333333333333,\n",
       " 0.03333333333333333,\n",
       " 0.03333333333333333,\n",
       " 0.03333333333333333,\n",
       " 0.03333333333333333,\n",
       " 0.03333333333333333,\n",
       " 0.03333333333333333,\n",
       " 0.03333333333333333,\n",
       " 0.03333333333333333,\n",
       " 0.03333333333333333,\n",
       " 0.03333333333333333,\n",
       " 0.03333333333333333,\n",
       " 0.03333333333333333,\n",
       " 0.03333333333333333,\n",
       " 0.03333333333333333,\n",
       " 0.03333333333333333,\n",
       " 0.03333333333333333,\n",
       " 0.03333333333333333,\n",
       " 0.03333333333333333,\n",
       " 0.03333333333333333,\n",
       " 0.03333333333333333,\n",
       " 0.03333333333333333,\n",
       " 0.03333333333333333,\n",
       " 0.03333333333333333,\n",
       " 0.03333333333333333,\n",
       " 0.03333333333333333,\n",
       " 0.03333333333333333,\n",
       " 0.03333333333333333,\n",
       " 0.03333333333333333,\n",
       " 0.03333333333333333,\n",
       " 0.03333333333333333,\n",
       " 0.03333333333333333,\n",
       " 0.03333333333333333,\n",
       " 0.03333333333333333,\n",
       " 0.03333333333333333,\n",
       " 0.03333333333333333,\n",
       " 0.03333333333333333,\n",
       " 0.03333333333333333,\n",
       " 0.03333333333333333,\n",
       " 0.03333333333333333,\n",
       " 0.03333333333333333,\n",
       " 0.03333333333333333,\n",
       " 0.03333333333333333,\n",
       " 0.03333333333333333,\n",
       " 0.03333333333333333,\n",
       " 0.03333333333333333,\n",
       " 0.03333333333333333,\n",
       " 0.03333333333333333,\n",
       " 0.03333333333333333,\n",
       " 0.03333333333333333,\n",
       " 0.03333333333333333,\n",
       " 0.03333333333333333,\n",
       " 0.03333333333333333,\n",
       " 0.03333333333333333,\n",
       " 0.03333333333333333,\n",
       " 0.03333333333333333,\n",
       " 0.03333333333333333,\n",
       " 0.03333333333333333,\n",
       " 0.03333333333333333,\n",
       " 0.03333333333333333,\n",
       " 0.03333333333333333,\n",
       " 0.03333333333333333,\n",
       " 0.03333333333333333,\n",
       " 0.03333333333333333,\n",
       " 0.03333333333333333,\n",
       " 0.03333333333333333,\n",
       " 0.03333333333333333,\n",
       " 0.03333333333333333,\n",
       " 0.03333333333333333,\n",
       " 0.03333333333333333,\n",
       " 0.03333333333333333,\n",
       " 0.03333333333333333,\n",
       " 0.03333333333333333,\n",
       " 0.03333333333333333,\n",
       " 0.03333333333333333,\n",
       " 0.03333333333333333,\n",
       " 0.03333333333333333,\n",
       " 0.03333333333333333,\n",
       " 0.03333333333333333,\n",
       " 0.03333333333333333,\n",
       " 0.03333333333333333,\n",
       " 0.03333333333333333,\n",
       " 0.03333333333333333,\n",
       " 0.03333333333333333,\n",
       " 0.03333333333333333,\n",
       " 0.03333333333333333,\n",
       " 0.03333333333333333,\n",
       " 0.03333333333333333,\n",
       " 0.03333333333333333,\n",
       " 0.03333333333333333,\n",
       " 0.03333333333333333,\n",
       " 0.03333333333333333,\n",
       " 0.03333333333333333,\n",
       " 0.03333333333333333,\n",
       " 0.03333333333333333,\n",
       " 0.03333333333333333,\n",
       " 0.03333333333333333,\n",
       " 0.03333333333333333,\n",
       " 0.03333333333333333,\n",
       " 0.03333333333333333,\n",
       " 0.03333333333333333,\n",
       " 0.03333333333333333,\n",
       " 0.03333333333333333,\n",
       " 0.03333333333333333,\n",
       " 0.03333333333333333,\n",
       " 0.03333333333333333,\n",
       " 0.03333333333333333,\n",
       " 0.03333333333333333,\n",
       " 0.03333333333333333,\n",
       " 0.03333333333333333,\n",
       " 0.03333333333333333,\n",
       " 0.03333333333333333,\n",
       " 0.03333333333333333,\n",
       " 0.03333333333333333,\n",
       " 0.03333333333333333,\n",
       " 0.03333333333333333,\n",
       " 0.03333333333333333,\n",
       " 0.03333333333333333,\n",
       " 0.03333333333333333,\n",
       " 0.03333333333333333,\n",
       " 0.03333333333333333,\n",
       " 0.03333333333333333,\n",
       " 0.03333333333333333,\n",
       " 0.03333333333333333,\n",
       " 0.03333333333333333,\n",
       " 0.03333333333333333,\n",
       " 0.03333333333333333,\n",
       " 0.03333333333333333,\n",
       " 0.03333333333333333,\n",
       " 0.03333333333333333,\n",
       " 0.03333333333333333,\n",
       " 0.03333333333333333,\n",
       " 0.03333333333333333,\n",
       " 0.03333333333333333,\n",
       " 0.03333333333333333,\n",
       " 0.03333333333333333,\n",
       " 0.03333333333333333,\n",
       " 0.03333333333333333,\n",
       " 0.03333333333333333,\n",
       " 0.03333333333333333,\n",
       " 0.03333333333333333,\n",
       " 0.03333333333333333,\n",
       " 0.03333333333333333,\n",
       " 0.03333333333333333,\n",
       " 0.03333333333333333,\n",
       " 0.03333333333333333,\n",
       " 0.03333333333333333,\n",
       " 0.03333333333333333,\n",
       " 0.03333333333333333,\n",
       " 0.03333333333333333,\n",
       " 0.03333333333333333,\n",
       " 0.03333333333333333,\n",
       " 0.03333333333333333,\n",
       " 0.03333333333333333,\n",
       " 0.03333333333333333,\n",
       " 0.03333333333333333,\n",
       " 0.03333333333333333,\n",
       " 0.03333333333333333,\n",
       " 0.03333333333333333,\n",
       " 0.03333333333333333,\n",
       " 0.03333333333333333,\n",
       " 0.03333333333333333,\n",
       " 0.03333333333333333,\n",
       " 0.03333333333333333,\n",
       " 0.03333333333333333,\n",
       " 0.03333333333333333,\n",
       " 0.03333333333333333,\n",
       " 0.03333333333333333,\n",
       " 0.03333333333333333,\n",
       " 0.03333333333333333,\n",
       " 0.03333333333333333,\n",
       " 0.03333333333333333,\n",
       " 0.03333333333333333,\n",
       " 0.03333333333333333,\n",
       " 0.03333333333333333,\n",
       " 0.03333333333333333,\n",
       " 0.03333333333333333,\n",
       " 0.03333333333333333,\n",
       " 0.03333333333333333,\n",
       " 0.03333333333333333,\n",
       " 0.03333333333333333,\n",
       " 0.03333333333333333,\n",
       " 0.03333333333333333,\n",
       " 0.03333333333333333,\n",
       " 0.03333333333333333,\n",
       " 0.03333333333333333,\n",
       " 0.03333333333333333,\n",
       " 0.03333333333333333,\n",
       " 0.03333333333333333,\n",
       " 0.03333333333333333,\n",
       " 0.03333333333333333,\n",
       " 0.03333333333333333,\n",
       " 0.03333333333333333,\n",
       " 0.03333333333333333,\n",
       " 0.03333333333333333,\n",
       " 0.03333333333333333,\n",
       " 0.03333333333333333,\n",
       " 0.03333333333333333,\n",
       " 0.03333333333333333,\n",
       " 0.03333333333333333,\n",
       " 0.03333333333333333,\n",
       " 0.03333333333333333,\n",
       " 0.03333333333333333,\n",
       " 0.03333333333333333,\n",
       " 0.03333333333333333,\n",
       " 0.03333333333333333,\n",
       " 0.03333333333333333,\n",
       " 0.03333333333333333,\n",
       " 0.03333333333333333,\n",
       " 0.03333333333333333,\n",
       " 0.03333333333333333,\n",
       " 0.03333333333333333,\n",
       " 0.03333333333333333,\n",
       " 0.03333333333333333,\n",
       " 0.03333333333333333,\n",
       " 0.03333333333333333,\n",
       " 0.03333333333333333,\n",
       " 0.03333333333333333,\n",
       " 0.03333333333333333,\n",
       " 0.03333333333333333,\n",
       " 0.03333333333333333,\n",
       " 0.03333333333333333,\n",
       " 0.03333333333333333,\n",
       " 0.03333333333333333,\n",
       " 0.03333333333333333,\n",
       " 0.03333333333333333,\n",
       " 0.03333333333333333,\n",
       " 0.03333333333333333,\n",
       " 0.03333333333333333,\n",
       " 0.03333333333333333,\n",
       " 0.03333333333333333,\n",
       " 0.03333333333333333,\n",
       " 0.03333333333333333,\n",
       " 0.03333333333333333,\n",
       " 0.03333333333333333,\n",
       " 0.03333333333333333,\n",
       " 0.03333333333333333,\n",
       " 0.03333333333333333,\n",
       " 0.03333333333333333,\n",
       " 0.03333333333333333,\n",
       " 0.03333333333333333,\n",
       " 0.03333333333333333,\n",
       " 0.03333333333333333,\n",
       " 0.03333333333333333,\n",
       " 0.03333333333333333,\n",
       " 0.03333333333333333,\n",
       " 0.03333333333333333,\n",
       " 0.03333333333333333,\n",
       " 0.03333333333333333,\n",
       " 0.03333333333333333,\n",
       " 0.03333333333333333,\n",
       " 0.03333333333333333,\n",
       " 0.03333333333333333,\n",
       " 0.03333333333333333,\n",
       " 0.03333333333333333,\n",
       " 0.03333333333333333,\n",
       " 0.03333333333333333,\n",
       " 0.03333333333333333,\n",
       " 0.03333333333333333,\n",
       " 0.03333333333333333,\n",
       " 0.03333333333333333,\n",
       " 0.03333333333333333,\n",
       " 0.03333333333333333,\n",
       " 0.03333333333333333,\n",
       " 0.03333333333333333,\n",
       " 0.03333333333333333,\n",
       " 0.03333333333333333,\n",
       " 0.03333333333333333,\n",
       " 0.03333333333333333,\n",
       " 0.03333333333333333,\n",
       " 0.03333333333333333,\n",
       " 0.03333333333333333,\n",
       " 0.03333333333333333,\n",
       " 0.03333333333333333,\n",
       " 0.03333333333333333,\n",
       " 0.03333333333333333,\n",
       " 0.03333333333333333,\n",
       " 0.03333333333333333,\n",
       " 0.03333333333333333,\n",
       " 0.03333333333333333,\n",
       " 0.03333333333333333,\n",
       " 0.03333333333333333,\n",
       " 0.03333333333333333,\n",
       " 0.03333333333333333,\n",
       " 0.03333333333333333,\n",
       " 0.03333333333333333,\n",
       " 0.03333333333333333,\n",
       " 0.03333333333333333,\n",
       " 0.03333333333333333,\n",
       " 0.03333333333333333,\n",
       " 0.03333333333333333,\n",
       " 0.03333333333333333,\n",
       " 0.03333333333333333,\n",
       " 0.03333333333333333,\n",
       " 0.03333333333333333,\n",
       " 0.03333333333333333,\n",
       " 0.03333333333333333,\n",
       " 0.03333333333333333,\n",
       " 0.03333333333333333,\n",
       " 0.03333333333333333,\n",
       " 0.03333333333333333,\n",
       " 0.03333333333333333,\n",
       " 0.03333333333333333,\n",
       " 0.03333333333333333,\n",
       " 0.03333333333333333,\n",
       " 0.03333333333333333,\n",
       " 0.03333333333333333,\n",
       " 0.03333333333333333,\n",
       " 0.03333333333333333,\n",
       " 0.03333333333333333,\n",
       " 0.03333333333333333,\n",
       " 0.03333333333333333,\n",
       " 0.03333333333333333,\n",
       " 0.03333333333333333,\n",
       " 0.03333333333333333,\n",
       " 0.03333333333333333,\n",
       " 0.03333333333333333,\n",
       " 0.03333333333333333,\n",
       " 0.03333333333333333,\n",
       " 0.03333333333333333,\n",
       " 0.03333333333333333,\n",
       " 0.03333333333333333,\n",
       " 0.03333333333333333,\n",
       " 0.03333333333333333,\n",
       " 0.03333333333333333,\n",
       " 0.03333333333333333,\n",
       " 0.03333333333333333,\n",
       " 0.03333333333333333,\n",
       " 0.03333333333333333,\n",
       " 0.03333333333333333,\n",
       " 0.03333333333333333,\n",
       " 0.03333333333333333,\n",
       " 0.03333333333333333,\n",
       " 0.03333333333333333,\n",
       " 0.03333333333333333,\n",
       " 0.03333333333333333,\n",
       " 0.03333333333333333,\n",
       " 0.03333333333333333,\n",
       " 0.03333333333333333,\n",
       " 0.03333333333333333,\n",
       " 0.03333333333333333,\n",
       " 0.03333333333333333,\n",
       " 0.03333333333333333,\n",
       " 0.03333333333333333,\n",
       " 0.03333333333333333,\n",
       " 0.03333333333333333,\n",
       " 0.03333333333333333,\n",
       " 0.03333333333333333,\n",
       " 0.03333333333333333,\n",
       " 0.03333333333333333,\n",
       " 0.03333333333333333,\n",
       " 0.03333333333333333,\n",
       " 0.03333333333333333,\n",
       " 0.03333333333333333,\n",
       " 0.03333333333333333,\n",
       " 0.03333333333333333,\n",
       " 0.03333333333333333,\n",
       " 0.03333333333333333,\n",
       " 0.03333333333333333,\n",
       " 0.03333333333333333,\n",
       " 0.03333333333333333,\n",
       " 0.03333333333333333,\n",
       " 0.03333333333333333,\n",
       " 0.03333333333333333,\n",
       " 0.03333333333333333,\n",
       " 0.03333333333333333,\n",
       " 0.03333333333333333,\n",
       " 0.03333333333333333,\n",
       " 0.03333333333333333,\n",
       " 0.03333333333333333,\n",
       " 0.03333333333333333,\n",
       " 0.03333333333333333,\n",
       " 0.03333333333333333,\n",
       " 0.03333333333333333,\n",
       " 0.03333333333333333,\n",
       " 0.03333333333333333,\n",
       " 0.03333333333333333,\n",
       " 0.03333333333333333,\n",
       " 0.03333333333333333,\n",
       " 0.03333333333333333,\n",
       " 0.03333333333333333,\n",
       " 0.03333333333333333,\n",
       " 0.03333333333333333,\n",
       " 0.03333333333333333,\n",
       " 0.03333333333333333,\n",
       " 0.03333333333333333,\n",
       " 0.03333333333333333,\n",
       " 0.03333333333333333,\n",
       " 0.03333333333333333,\n",
       " 0.03333333333333333,\n",
       " 0.03333333333333333,\n",
       " 0.03333333333333333,\n",
       " 0.03333333333333333,\n",
       " 0.03333333333333333,\n",
       " 0.03333333333333333,\n",
       " 0.03333333333333333,\n",
       " 0.03333333333333333,\n",
       " 0.03333333333333333,\n",
       " 0.03333333333333333,\n",
       " 0.03333333333333333,\n",
       " 0.03333333333333333,\n",
       " 0.03333333333333333,\n",
       " 0.03333333333333333,\n",
       " 0.03333333333333333,\n",
       " 0.03333333333333333,\n",
       " 0.03333333333333333,\n",
       " 0.03333333333333333,\n",
       " 0.03333333333333333,\n",
       " 0.03333333333333333,\n",
       " 0.03333333333333333,\n",
       " 0.03333333333333333,\n",
       " 0.03333333333333333,\n",
       " 0.03333333333333333,\n",
       " 0.03333333333333333,\n",
       " 0.03333333333333333,\n",
       " 0.03333333333333333,\n",
       " 0.03333333333333333,\n",
       " 0.03333333333333333,\n",
       " 0.03333333333333333,\n",
       " 0.03333333333333333,\n",
       " 0.03333333333333333,\n",
       " 0.03333333333333333,\n",
       " 0.03333333333333333,\n",
       " 0.03333333333333333,\n",
       " 0.03333333333333333,\n",
       " 0.03333333333333333,\n",
       " 0.03333333333333333,\n",
       " 0.03333333333333333,\n",
       " 0.03333333333333333,\n",
       " 0.03333333333333333,\n",
       " 0.03333333333333333,\n",
       " 0.03333333333333333,\n",
       " 0.03333333333333333,\n",
       " 0.03333333333333333,\n",
       " 0.03333333333333333,\n",
       " 0.03333333333333333,\n",
       " 0.03333333333333333,\n",
       " 0.03333333333333333,\n",
       " 0.03333333333333333,\n",
       " 0.03333333333333333,\n",
       " 0.03333333333333333,\n",
       " 0.03333333333333333,\n",
       " 0.03333333333333333,\n",
       " 0.03333333333333333,\n",
       " 0.03333333333333333,\n",
       " 0.03333333333333333,\n",
       " 0.03333333333333333,\n",
       " 0.03333333333333333,\n",
       " 0.03333333333333333,\n",
       " 0.03333333333333333,\n",
       " 0.03333333333333333,\n",
       " 0.03333333333333333,\n",
       " 0.03333333333333333,\n",
       " 0.03333333333333333,\n",
       " 0.03333333333333333,\n",
       " 0.03333333333333333,\n",
       " 0.03333333333333333,\n",
       " 0.03333333333333333,\n",
       " 0.03333333333333333,\n",
       " 0.03333333333333333,\n",
       " 0.03333333333333333,\n",
       " 0.03333333333333333,\n",
       " 0.03333333333333333,\n",
       " 0.03333333333333333,\n",
       " 0.03333333333333333,\n",
       " 0.03333333333333333,\n",
       " 0.03333333333333333,\n",
       " 0.03333333333333333,\n",
       " 0.03333333333333333,\n",
       " 0.03333333333333333,\n",
       " 0.03333333333333333,\n",
       " 0.03333333333333333,\n",
       " 0.03333333333333333,\n",
       " 0.03333333333333333,\n",
       " 0.03333333333333333,\n",
       " 0.03333333333333333,\n",
       " 0.03333333333333333,\n",
       " 0.03333333333333333,\n",
       " 0.03333333333333333,\n",
       " 0.03333333333333333,\n",
       " 0.03333333333333333,\n",
       " 0.03333333333333333,\n",
       " 0.03333333333333333,\n",
       " 0.03333333333333333,\n",
       " 0.03333333333333333,\n",
       " 0.03333333333333333,\n",
       " 0.03333333333333333,\n",
       " 0.03333333333333333,\n",
       " 0.03333333333333333,\n",
       " 0.03333333333333333,\n",
       " 0.03333333333333333,\n",
       " 0.03333333333333333,\n",
       " 0.03333333333333333,\n",
       " 0.03333333333333333,\n",
       " 0.03333333333333333,\n",
       " 0.03333333333333333,\n",
       " 0.03333333333333333,\n",
       " 0.03333333333333333,\n",
       " 0.03333333333333333,\n",
       " 0.03333333333333333,\n",
       " 0.03333333333333333,\n",
       " 0.03333333333333333,\n",
       " 0.03333333333333333,\n",
       " 0.03333333333333333,\n",
       " 0.03333333333333333,\n",
       " 0.03333333333333333,\n",
       " 0.03333333333333333,\n",
       " 0.03333333333333333,\n",
       " 0.03333333333333333,\n",
       " 0.03333333333333333,\n",
       " 0.03333333333333333,\n",
       " 0.03333333333333333,\n",
       " 0.03333333333333333,\n",
       " 0.03333333333333333,\n",
       " 0.03333333333333333,\n",
       " 0.03333333333333333,\n",
       " 0.03333333333333333,\n",
       " 0.03333333333333333,\n",
       " 0.03333333333333333,\n",
       " 0.03333333333333333,\n",
       " 0.03333333333333333,\n",
       " 0.03333333333333333,\n",
       " 0.03333333333333333,\n",
       " 0.03333333333333333,\n",
       " 0.03333333333333333,\n",
       " 0.03333333333333333,\n",
       " 0.03333333333333333,\n",
       " 0.03333333333333333,\n",
       " 0.03333333333333333,\n",
       " 0.03333333333333333,\n",
       " 0.03333333333333333,\n",
       " 0.03333333333333333,\n",
       " 0.03333333333333333,\n",
       " 0.03333333333333333,\n",
       " 0.03333333333333333,\n",
       " 0.03333333333333333,\n",
       " 0.03333333333333333,\n",
       " 0.03333333333333333,\n",
       " 0.03333333333333333,\n",
       " 0.03333333333333333,\n",
       " 0.03333333333333333,\n",
       " 0.03333333333333333,\n",
       " 0.03333333333333333,\n",
       " 0.03333333333333333,\n",
       " 0.03333333333333333,\n",
       " 0.03333333333333333,\n",
       " 0.03333333333333333,\n",
       " 0.03333333333333333,\n",
       " 0.03333333333333333,\n",
       " 0.03333333333333333,\n",
       " 0.03333333333333333,\n",
       " 0.03333333333333333,\n",
       " 0.03333333333333333,\n",
       " 0.03333333333333333,\n",
       " 0.03333333333333333,\n",
       " 0.03333333333333333,\n",
       " 0.03333333333333333,\n",
       " 0.03333333333333333,\n",
       " 0.03333333333333333,\n",
       " 0.03333333333333333,\n",
       " 0.03333333333333333,\n",
       " 0.03333333333333333,\n",
       " 0.03333333333333333,\n",
       " 0.03333333333333333,\n",
       " 0.03333333333333333,\n",
       " 0.03333333333333333,\n",
       " 0.03333333333333333,\n",
       " 0.03333333333333333,\n",
       " 0.03333333333333333,\n",
       " 0.03333333333333333,\n",
       " 0.03333333333333333,\n",
       " 0.03333333333333333,\n",
       " 0.03333333333333333,\n",
       " 0.03333333333333333,\n",
       " 0.03333333333333333,\n",
       " 0.03333333333333333,\n",
       " 0.03333333333333333,\n",
       " 0.03333333333333333,\n",
       " 0.03333333333333333,\n",
       " 0.03333333333333333,\n",
       " 0.03333333333333333,\n",
       " 0.03333333333333333,\n",
       " 0.03333333333333333,\n",
       " 0.03333333333333333,\n",
       " 0.03333333333333333,\n",
       " 0.03333333333333333,\n",
       " 0.03333333333333333,\n",
       " 0.03333333333333333,\n",
       " 0.03333333333333333,\n",
       " 0.03333333333333333,\n",
       " 0.03333333333333333,\n",
       " 0.03333333333333333,\n",
       " 0.03333333333333333,\n",
       " 0.03333333333333333,\n",
       " 0.03333333333333333,\n",
       " 0.03333333333333333,\n",
       " 0.03333333333333333,\n",
       " 0.03333333333333333,\n",
       " 0.03333333333333333,\n",
       " 0.03333333333333333,\n",
       " 0.03333333333333333,\n",
       " 0.03333333333333333,\n",
       " 0.03333333333333333,\n",
       " 0.03333333333333333,\n",
       " 0.03333333333333333,\n",
       " 0.03333333333333333,\n",
       " 0.03333333333333333,\n",
       " 0.03333333333333333,\n",
       " 0.03333333333333333,\n",
       " 0.03333333333333333,\n",
       " 0.03333333333333333,\n",
       " 0.03333333333333333,\n",
       " 0.03333333333333333,\n",
       " 0.03333333333333333,\n",
       " 0.03333333333333333,\n",
       " 0.03333333333333333,\n",
       " 0.03333333333333333,\n",
       " 0.03333333333333333,\n",
       " 0.03333333333333333,\n",
       " 0.03333333333333333,\n",
       " 0.03333333333333333,\n",
       " 0.03333333333333333,\n",
       " 0.03333333333333333,\n",
       " 0.03333333333333333,\n",
       " 0.03333333333333333,\n",
       " 0.03333333333333333,\n",
       " 0.03333333333333333,\n",
       " 0.03333333333333333,\n",
       " 0.03333333333333333,\n",
       " 0.03333333333333333,\n",
       " 0.03333333333333333,\n",
       " 0.03333333333333333,\n",
       " 0.03333333333333333,\n",
       " 0.03333333333333333,\n",
       " 0.03333333333333333,\n",
       " 0.03333333333333333,\n",
       " 0.03333333333333333,\n",
       " 0.03333333333333333,\n",
       " 0.03333333333333333,\n",
       " 0.03333333333333333,\n",
       " 0.03333333333333333,\n",
       " 0.03333333333333333,\n",
       " 0.03333333333333333,\n",
       " 0.03333333333333333,\n",
       " 0.03333333333333333,\n",
       " 0.03333333333333333,\n",
       " 0.03333333333333333,\n",
       " 0.03333333333333333,\n",
       " 0.03333333333333333,\n",
       " 0.03333333333333333,\n",
       " 0.03333333333333333,\n",
       " 0.03333333333333333,\n",
       " 0.03333333333333333,\n",
       " 0.03333333333333333,\n",
       " 0.03333333333333333,\n",
       " 0.03333333333333333,\n",
       " 0.03333333333333333,\n",
       " 0.03333333333333333,\n",
       " 0.03333333333333333,\n",
       " 0.03333333333333333,\n",
       " 0.03333333333333333,\n",
       " 0.03333333333333333,\n",
       " 0.03333333333333333,\n",
       " 0.03333333333333333,\n",
       " 0.03333333333333333,\n",
       " 0.03333333333333333,\n",
       " 0.03333333333333333,\n",
       " 0.03333333333333333,\n",
       " 0.03333333333333333,\n",
       " 0.03333333333333333,\n",
       " 0.03333333333333333,\n",
       " 0.03333333333333333,\n",
       " 0.03333333333333333,\n",
       " 0.03333333333333333,\n",
       " 0.03333333333333333,\n",
       " 0.03333333333333333,\n",
       " 0.03333333333333333,\n",
       " 0.03333333333333333,\n",
       " 0.03333333333333333,\n",
       " 0.03333333333333333,\n",
       " 0.03333333333333333,\n",
       " 0.03333333333333333,\n",
       " 0.03333333333333333,\n",
       " 0.03333333333333333,\n",
       " 0.03333333333333333,\n",
       " 0.03333333333333333,\n",
       " 0.03333333333333333,\n",
       " 0.03333333333333333,\n",
       " 0.03333333333333333,\n",
       " 0.03333333333333333,\n",
       " 0.03333333333333333,\n",
       " 0.03333333333333333,\n",
       " 0.03333333333333333,\n",
       " 0.03333333333333333,\n",
       " 0.03333333333333333,\n",
       " 0.03333333333333333,\n",
       " 0.03333333333333333,\n",
       " 0.03333333333333333,\n",
       " 0.03333333333333333,\n",
       " 0.03333333333333333,\n",
       " 0.03333333333333333,\n",
       " 0.03333333333333333,\n",
       " 0.03333333333333333,\n",
       " 0.03333333333333333,\n",
       " 0.03333333333333333,\n",
       " 0.03333333333333333,\n",
       " 0.03333333333333333,\n",
       " 0.03333333333333333,\n",
       " 0.03333333333333333,\n",
       " 0.03333333333333333,\n",
       " 0.03333333333333333,\n",
       " 0.03333333333333333,\n",
       " 0.03333333333333333,\n",
       " 0.03333333333333333,\n",
       " 0.03333333333333333,\n",
       " 0.03333333333333333,\n",
       " 0.03333333333333333,\n",
       " 0.03333333333333333,\n",
       " 0.03333333333333333,\n",
       " 0.03333333333333333,\n",
       " 0.03333333333333333,\n",
       " 0.03333333333333333,\n",
       " 0.03333333333333333,\n",
       " 0.03333333333333333,\n",
       " 0.03333333333333333,\n",
       " 0.03333333333333333,\n",
       " 0.03333333333333333,\n",
       " 0.03333333333333333,\n",
       " 0.03333333333333333,\n",
       " 0.03333333333333333,\n",
       " 0.03333333333333333,\n",
       " 0.03333333333333333,\n",
       " 0.03333333333333333,\n",
       " 0.03333333333333333,\n",
       " 0.03333333333333333,\n",
       " 0.03333333333333333,\n",
       " 0.03333333333333333,\n",
       " 0.03333333333333333,\n",
       " 0.03333333333333333,\n",
       " 0.03333333333333333,\n",
       " 0.03333333333333333,\n",
       " 0.03333333333333333,\n",
       " 0.03333333333333333,\n",
       " 0.03333333333333333,\n",
       " 0.03333333333333333,\n",
       " 0.03333333333333333,\n",
       " 0.03333333333333333,\n",
       " 0.03333333333333333,\n",
       " 0.03333333333333333,\n",
       " 0.03333333333333333,\n",
       " 0.03333333333333333,\n",
       " 0.03333333333333333,\n",
       " 0.03333333333333333,\n",
       " 0.03333333333333333,\n",
       " 0.03333333333333333,\n",
       " 0.03333333333333333,\n",
       " 0.03333333333333333,\n",
       " 0.03333333333333333,\n",
       " 0.03333333333333333,\n",
       " 0.03333333333333333,\n",
       " 0.03333333333333333,\n",
       " 0.03333333333333333,\n",
       " 0.03333333333333333,\n",
       " 0.03333333333333333,\n",
       " 0.03333333333333333,\n",
       " 0.03333333333333333,\n",
       " 0.03333333333333333,\n",
       " 0.03333333333333333,\n",
       " 0.03333333333333333,\n",
       " 0.03333333333333333,\n",
       " 0.03333333333333333,\n",
       " 0.03333333333333333,\n",
       " 0.03333333333333333,\n",
       " 0.03333333333333333,\n",
       " 0.03333333333333333,\n",
       " 0.03333333333333333,\n",
       " 0.03333333333333333,\n",
       " 0.03333333333333333,\n",
       " 0.03333333333333333,\n",
       " 0.03333333333333333,\n",
       " 0.03333333333333333,\n",
       " 0.03333333333333333,\n",
       " 0.03333333333333333,\n",
       " 0.03333333333333333,\n",
       " 0.03333333333333333,\n",
       " 0.03333333333333333,\n",
       " 0.03333333333333333,\n",
       " 0.03333333333333333,\n",
       " 0.03333333333333333,\n",
       " 0.03333333333333333,\n",
       " 0.03333333333333333,\n",
       " 0.03333333333333333,\n",
       " 0.03333333333333333,\n",
       " 0.03333333333333333,\n",
       " 0.03333333333333333,\n",
       " 0.03333333333333333,\n",
       " 0.03333333333333333,\n",
       " 0.03333333333333333,\n",
       " 0.03333333333333333,\n",
       " 0.03333333333333333,\n",
       " 0.03333333333333333,\n",
       " 0.03333333333333333,\n",
       " 0.03333333333333333,\n",
       " 0.03333333333333333,\n",
       " 0.03333333333333333,\n",
       " 0.03333333333333333,\n",
       " 0.03333333333333333,\n",
       " 0.03333333333333333,\n",
       " 0.03333333333333333,\n",
       " 0.03333333333333333,\n",
       " 0.03333333333333333,\n",
       " 0.03333333333333333,\n",
       " 0.03333333333333333,\n",
       " 0.03333333333333333,\n",
       " 0.03333333333333333,\n",
       " 0.03333333333333333,\n",
       " 0.03333333333333333,\n",
       " 0.03333333333333333,\n",
       " 0.03333333333333333,\n",
       " 0.03333333333333333,\n",
       " 0.03333333333333333,\n",
       " 0.03333333333333333,\n",
       " 0.03333333333333333,\n",
       " 0.03333333333333333,\n",
       " 0.03333333333333333,\n",
       " 0.03333333333333333,\n",
       " 0.03333333333333333,\n",
       " 0.03333333333333333,\n",
       " 0.03333333333333333,\n",
       " 0.03333333333333333,\n",
       " 0.03333333333333333,\n",
       " 0.03333333333333333,\n",
       " 0.03333333333333333,\n",
       " 0.03333333333333333,\n",
       " 0.03333333333333333,\n",
       " 0.03333333333333333,\n",
       " 0.03333333333333333,\n",
       " 0.03333333333333333,\n",
       " 0.03333333333333333,\n",
       " 0.03333333333333333,\n",
       " 0.03333333333333333,\n",
       " 0.03333333333333333,\n",
       " 0.03333333333333333,\n",
       " 0.03333333333333333,\n",
       " 0.03333333333333333,\n",
       " 0.03333333333333333,\n",
       " 0.03333333333333333,\n",
       " 0.03333333333333333,\n",
       " 0.03333333333333333,\n",
       " 0.03333333333333333,\n",
       " 0.03333333333333333,\n",
       " 0.03333333333333333,\n",
       " 0.03333333333333333,\n",
       " 0.03333333333333333,\n",
       " 0.03333333333333333,\n",
       " 0.03333333333333333,\n",
       " 0.03333333333333333,\n",
       " 0.03333333333333333,\n",
       " 0.03333333333333333,\n",
       " 0.03333333333333333,\n",
       " 0.03333333333333333,\n",
       " 0.03333333333333333,\n",
       " 0.03333333333333333,\n",
       " 0.03333333333333333,\n",
       " 0.03333333333333333,\n",
       " 0.03333333333333333,\n",
       " 0.03333333333333333,\n",
       " 0.03333333333333333,\n",
       " 0.03333333333333333,\n",
       " 0.03333333333333333,\n",
       " 0.03333333333333333,\n",
       " 0.03333333333333333,\n",
       " 0.03333333333333333,\n",
       " 0.03333333333333333,\n",
       " 0.03333333333333333,\n",
       " 0.03333333333333333,\n",
       " 0.03333333333333333,\n",
       " 0.03333333333333333,\n",
       " 0.03333333333333333,\n",
       " 0.03333333333333333,\n",
       " 0.03333333333333333,\n",
       " 0.03333333333333333,\n",
       " 0.03333333333333333,\n",
       " 0.03333333333333333,\n",
       " 0.03333333333333333]"
      ]
     },
     "execution_count": 28,
     "metadata": {},
     "output_type": "execute_result"
    }
   ],
   "source": [
    "b"
   ]
  },
  {
   "cell_type": "code",
   "execution_count": 29,
   "metadata": {},
   "outputs": [
    {
     "data": {
      "text/plain": [
       "(-10.0, 40.0)"
      ]
     },
     "execution_count": 29,
     "metadata": {},
     "output_type": "execute_result"
    },
    {
     "data": {
      "image/png": "[encoded data removed]",
      "text/plain": [
       "<Figure size 432x288 with 1 Axes>"
      ]
     },
     "metadata": {
      "needs_background": "light"
     },
     "output_type": "display_data"
    }
   ],
   "source": [
    "plt.plot(a,b)\n",
    "plt.xlim(-10,40)"
   ]
  },
  {
   "cell_type": "code",
   "execution_count": 30,
   "metadata": {},
   "outputs": [],
   "source": [
    "mean,var = uniDist.stats()"
   ]
  },
  {
   "cell_type": "code",
   "execution_count": 31,
   "metadata": {},
   "outputs": [
    {
     "data": {
      "text/plain": [
       "array(15.)"
      ]
     },
     "execution_count": 31,
     "metadata": {},
     "output_type": "execute_result"
    }
   ],
   "source": [
    "mean"
   ]
  },
  {
   "cell_type": "code",
   "execution_count": 32,
   "metadata": {},
   "outputs": [
    {
     "data": {
      "text/plain": [
       "array(75.)"
      ]
     },
     "execution_count": 32,
     "metadata": {},
     "output_type": "execute_result"
    }
   ],
   "source": [
    "var"
   ]
  },
  {
   "cell_type": "markdown",
   "metadata": {},
   "source": [
    "# Normal Distribution"
   ]
  },
  {
   "cell_type": "code",
   "execution_count": 33,
   "metadata": {},
   "outputs": [
    {
     "data": {
      "text/plain": [
       "0.04839414490382867"
      ]
     },
     "execution_count": 33,
     "metadata": {},
     "output_type": "execute_result"
    }
   ],
   "source": [
    "stats.norm(60, 5).pdf(65)"
   ]
  },
  {
   "cell_type": "code",
   "execution_count": 9,
   "metadata": {},
   "outputs": [
    {
     "data": {
      "text/plain": [
       "0.25"
      ]
     },
     "execution_count": 9,
     "metadata": {},
     "output_type": "execute_result"
    }
   ],
   "source": [
    "1-stats.uniform(50, 20).cdf(55) # probability of greater than 55\n",
    "1-stats.uniform(50, 20).cdf(65) # probability of greater than 55"
   ]
  },
  {
   "cell_type": "markdown",
   "metadata": {},
   "source": [
    " The width of bolts of fabric is normally distributed with mean 950 mm (millimeters) and standard deviation 10 mm.\n",
    "\n",
    "1-) What is the probability that a randomly chosen bolt has a width of between 947 and 958mm?\n",
    "\n",
    "\n",
    "2-) What is the appropriate value for C such that a randomly chosen bolt has a width less than C with probability .8531?"
   ]
  },
  {
   "cell_type": "code",
   "execution_count": 5,
   "metadata": {},
   "outputs": [
    {
     "data": {
      "text/plain": [
       "0.406056023605556"
      ]
     },
     "execution_count": 5,
     "metadata": {},
     "output_type": "execute_result"
    }
   ],
   "source": [
    "stats.norm(950, 10).cdf(958)-stats.norm(950, 10).cdf(947)"
   ]
  },
  {
   "cell_type": "code",
   "execution_count": null,
   "metadata": {},
   "outputs": [],
   "source": [
    "#2----------------------------\n",
    "#P(X<=C) = 0.8531\n",
    "stats.norm(0,1).ppf(0.8531) = 1.05 #= z.score\n",
    "z.score = C-mean/std\n",
    "1.05 = C-950/10\n",
    "C = 960.5 mm\n",
    "OR\n",
    "stats.norm(950,10).ppf(0.8531) = 960.498219096264\n",
    "9:30\n",
    "stats.norm(950,10).ppf(0.8531), cdf \n"
   ]
  },
  {
   "cell_type": "code",
   "execution_count": 3,
   "metadata": {},
   "outputs": [
    {
     "data": {
      "text/plain": [
       "1.0498219096264123"
      ]
     },
     "execution_count": 3,
     "metadata": {},
     "output_type": "execute_result"
    }
   ],
   "source": [
    "stats.norm(0,1).ppf(0.8531)"
   ]
  },
  {
   "cell_type": "code",
   "execution_count": 4,
   "metadata": {},
   "outputs": [
    {
     "data": {
      "text/plain": [
       "960.4982190962642"
      ]
     },
     "execution_count": 4,
     "metadata": {},
     "output_type": "execute_result"
    }
   ],
   "source": [
    "stats.norm(950,10).ppf(0.8531) # alanın 0.8531 olduğu noktadaki z skoru"
   ]
  },
  {
   "cell_type": "markdown",
   "metadata": {},
   "source": [
    "# -----------------------------------"
   ]
  },
  {
   "cell_type": "code",
   "execution_count": 4,
   "metadata": {},
   "outputs": [],
   "source": [
    "(mu, sigma) = (0,1)"
   ]
  },
  {
   "cell_type": "code",
   "execution_count": 5,
   "metadata": {},
   "outputs": [],
   "source": [
    "normDist = stats.norm(mu, sigma)"
   ]
  },
  {
   "cell_type": "code",
   "execution_count": 6,
   "metadata": {},
   "outputs": [
    {
     "data": {
      "text/plain": [
       "0.9772498680518208"
      ]
     },
     "execution_count": 6,
     "metadata": {},
     "output_type": "execute_result"
    }
   ],
   "source": [
    "normDist.cdf(2)"
   ]
  },
  {
   "cell_type": "code",
   "execution_count": 7,
   "metadata": {},
   "outputs": [
    {
     "data": {
      "text/plain": [
       "0.02275013194817921"
      ]
     },
     "execution_count": 7,
     "metadata": {},
     "output_type": "execute_result"
    }
   ],
   "source": [
    "1-normDist.cdf(2)"
   ]
  },
  {
   "cell_type": "code",
   "execution_count": 8,
   "metadata": {},
   "outputs": [
    {
     "data": {
      "text/plain": [
       "0.9544997361036416"
      ]
     },
     "execution_count": 8,
     "metadata": {},
     "output_type": "execute_result"
    }
   ],
   "source": [
    "normDist.cdf(2) - normDist.cdf(-2)"
   ]
  },
  {
   "cell_type": "code",
   "execution_count": 9,
   "metadata": {},
   "outputs": [
    {
     "data": {
      "text/plain": [
       "0.022750131948179195"
      ]
     },
     "execution_count": 9,
     "metadata": {},
     "output_type": "execute_result"
    }
   ],
   "source": [
    "normDist.cdf(-2)"
   ]
  },
  {
   "cell_type": "code",
   "execution_count": 10,
   "metadata": {},
   "outputs": [
    {
     "data": {
      "text/plain": [
       "0.06680720126885809"
      ]
     },
     "execution_count": 10,
     "metadata": {},
     "output_type": "execute_result"
    }
   ],
   "source": [
    "1-normDist.cdf(1.5)"
   ]
  },
  {
   "cell_type": "code",
   "execution_count": 11,
   "metadata": {},
   "outputs": [
    {
     "data": {
      "text/plain": [
       "1.3"
      ]
     },
     "execution_count": 11,
     "metadata": {},
     "output_type": "execute_result"
    }
   ],
   "source": [
    "(365-300)/50 # Z score"
   ]
  },
  {
   "cell_type": "code",
   "execution_count": 12,
   "metadata": {},
   "outputs": [
    {
     "data": {
      "text/plain": [
       "0.0968004845856103"
      ]
     },
     "execution_count": 12,
     "metadata": {},
     "output_type": "execute_result"
    }
   ],
   "source": [
    "1-normDist.cdf(1.3)"
   ]
  },
  {
   "cell_type": "code",
   "execution_count": 13,
   "metadata": {},
   "outputs": [
    {
     "data": {
      "text/plain": [
       "0.0968004845856103"
      ]
     },
     "execution_count": 13,
     "metadata": {},
     "output_type": "execute_result"
    }
   ],
   "source": [
    "stats.norm(300, 50).cdf(365)\n",
    "1- stats.norm(300, 50).cdf(365)"
   ]
  },
  {
   "cell_type": "code",
   "execution_count": 14,
   "metadata": {},
   "outputs": [
    {
     "data": {
      "image/png": "[encoded data removed]",
      "text/plain": [
       "<Figure size 432x288 with 1 Axes>"
      ]
     },
     "metadata": {
      "needs_background": "light"
     },
     "output_type": "display_data"
    }
   ],
   "source": [
    "x = np.linspace(-5,5,1000)\n",
    "y = normDist.pdf(x)\n",
    "plt.plot(x,y)\n",
    "plt.grid()\n",
    "plt.show()"
   ]
  },
  {
   "cell_type": "code",
   "execution_count": 15,
   "metadata": {},
   "outputs": [
    {
     "data": {
      "text/plain": [
       "2.8896395421142094"
      ]
     },
     "execution_count": 15,
     "metadata": {},
     "output_type": "execute_result"
    }
   ],
   "source": [
    "np.std(x)"
   ]
  },
  {
   "cell_type": "code",
   "execution_count": null,
   "metadata": {},
   "outputs": [],
   "source": []
  },
  {
   "cell_type": "code",
   "execution_count": null,
   "metadata": {},
   "outputs": [],
   "source": [
    "mean, var ,skew , kurt = normDist.stats(moments='mvsk')"
   ]
  },
  {
   "cell_type": "code",
   "execution_count": 42,
   "metadata": {},
   "outputs": [
    {
     "data": {
      "text/plain": [
       "0.8159398746532404"
      ]
     },
     "execution_count": 42,
     "metadata": {},
     "output_type": "execute_result"
    }
   ],
   "source": [
    " stats.norm.cdf(103,112,9 )\n",
    "stats.norm.cdf(120.1,112,9 )"
   ]
  },
  {
   "cell_type": "markdown",
   "metadata": {},
   "source": [
    "# example"
   ]
  },
  {
   "cell_type": "code",
   "execution_count": null,
   "metadata": {},
   "outputs": [],
   "source": [
    "stats.norm(100, 10).cdf(110) - stats.norm(100, 10).cdf(90)"
   ]
  },
  {
   "cell_type": "code",
   "execution_count": null,
   "metadata": {
    "scrolled": true
   },
   "outputs": [],
   "source": [
    "stats.norm.cdf(110,100, 10) - stats.norm(100, 10).cdf(90)"
   ]
  },
  {
   "cell_type": "markdown",
   "metadata": {},
   "source": [
    "# t - Distirubition"
   ]
  },
  {
   "cell_type": "code",
   "execution_count": null,
   "metadata": {},
   "outputs": [],
   "source": []
  },
  {
   "cell_type": "code",
   "execution_count": 34,
   "metadata": {},
   "outputs": [
    {
     "data": {
      "text/plain": [
       "0.2257313120658352"
      ]
     },
     "execution_count": 34,
     "metadata": {},
     "output_type": "execute_result"
    }
   ],
   "source": [
    "stats.t.cdf(-0.7745966,df=14)"
   ]
  },
  {
   "cell_type": "code",
   "execution_count": 75,
   "metadata": {},
   "outputs": [
    {
     "data": {
      "text/plain": [
       "0.5"
      ]
     },
     "execution_count": 75,
     "metadata": {},
     "output_type": "execute_result"
    }
   ],
   "source": [
    "stats.t.cdf(0,df=14)"
   ]
  },
  {
   "cell_type": "code",
   "execution_count": 76,
   "metadata": {},
   "outputs": [],
   "source": [
    "tDist = stats.t(df=15)\n",
    "x = np.linspace(-5,5,100)\n",
    "y = tDist.pdf(x)"
   ]
  },
  {
   "cell_type": "code",
   "execution_count": 77,
   "metadata": {},
   "outputs": [],
   "source": [
    "tDist1 = stats.t(df=50)\n",
    "a = np.linspace(-5,5,100)\n",
    "b = tDist.pdf(a)"
   ]
  },
  {
   "cell_type": "code",
   "execution_count": 78,
   "metadata": {
    "scrolled": true
   },
   "outputs": [
    {
     "data": {
      "image/png": "[encoded data removed]",
      "text/plain": [
       "<Figure size 432x288 with 1 Axes>"
      ]
     },
     "metadata": {
      "needs_background": "light"
     },
     "output_type": "display_data"
    }
   ],
   "source": [
    "plt.plot(x,y)\n",
    "plt.plot(a,b)\n",
    "plt.grid()\n",
    "plt.show()"
   ]
  },
  {
   "cell_type": "code",
   "execution_count": null,
   "metadata": {},
   "outputs": [],
   "source": [
    "#EXERCISE\n",
    "# Ten coins are tossed simultaneously. Find the probability of getting\n",
    "#(i) at least seven heads\n",
    "#(ii) exactly seven heads\n",
    "#(iii)at most seven heads "
   ]
  },
  {
   "cell_type": "code",
   "execution_count": 27,
   "metadata": {},
   "outputs": [
    {
     "data": {
      "text/plain": [
       "0.9453125"
      ]
     },
     "execution_count": 27,
     "metadata": {},
     "output_type": "execute_result"
    }
   ],
   "source": [
    "#3\n",
    "stats.binom.cdf(7,10,0.5)"
   ]
  },
  {
   "cell_type": "code",
   "execution_count": 26,
   "metadata": {},
   "outputs": [
    {
     "data": {
      "text/plain": [
       "0.11718750000000014"
      ]
     },
     "execution_count": 26,
     "metadata": {},
     "output_type": "execute_result"
    }
   ],
   "source": [
    "stats.binom.pmf(7,10,0.5)"
   ]
  },
  {
   "cell_type": "code",
   "execution_count": 25,
   "metadata": {},
   "outputs": [
    {
     "data": {
      "text/plain": [
       "0.171875"
      ]
     },
     "execution_count": 25,
     "metadata": {},
     "output_type": "execute_result"
    }
   ],
   "source": [
    "1#\n",
    "1 - stats.binom.cdf(6,10,0.5)"
   ]
  },
  {
   "cell_type": "markdown",
   "metadata": {},
   "source": [
    "A type of tree has seedlings dispersed in a large area with a mean density of five seedlings per square yard. What is the probability that none of ten randomly selected one-square yard regions have seedlings?"
   ]
  },
  {
   "cell_type": "code",
   "execution_count": 28,
   "metadata": {},
   "outputs": [],
   "source": [
    "poissonDist3 = stats.poisson(5)"
   ]
  },
  {
   "cell_type": "code",
   "execution_count": 30,
   "metadata": {},
   "outputs": [
    {
     "name": "stdout",
     "output_type": "stream",
     "text": [
      "r\tp(r)\n",
      "0\t0.006737946999085467\n",
      "1\t0.03368973499542734\n",
      "2\t0.08422433748856832\n",
      "3\t0.1403738958142805\n",
      "4\t0.17546736976785063\n",
      "5\t0.17546736976785068\n",
      "6\t0.1462228081398754\n",
      "7\t0.10444486295705395\n",
      "8\t0.06527803934815865\n",
      "9\t0.036265577415643714\n"
     ]
    }
   ],
   "source": [
    "print(\"r\\tp(r)\")\n",
    "for i in range(10):\n",
    "    dist.append(poissonDist3.pmf(i))\n",
    "    print(str(i) + \"\\t\" + str(poissonDist3.pmf(i)))"
   ]
  },
  {
   "cell_type": "markdown",
   "metadata": {},
   "source": [
    "Let Y denote a random variable that has a Poisson distribution with mean λ = 2. \n"
   ]
  },
  {
   "cell_type": "markdown",
   "metadata": {},
   "source": [
    "Find\n",
    "(i) P(Y = 4)\n",
    "(ii) P(Y ≥ 4)\n",
    "(iii)P(Y < 4)\n",
    "(iv)P(Y ≥ 4 | Y ≥ 2 )"
   ]
  },
  {
   "cell_type": "code",
   "execution_count": 31,
   "metadata": {},
   "outputs": [
    {
     "data": {
      "text/plain": [
       "0.09022352215774178"
      ]
     },
     "execution_count": 31,
     "metadata": {},
     "output_type": "execute_result"
    }
   ],
   "source": [
    "poissonDist4 = stats.poisson(2)\n",
    "#1\n",
    "poissonDist4.pmf(4)"
   ]
  },
  {
   "cell_type": "code",
   "execution_count": 32,
   "metadata": {},
   "outputs": [
    {
     "data": {
      "text/plain": [
       "0.14287653950145296"
      ]
     },
     "execution_count": 32,
     "metadata": {},
     "output_type": "execute_result"
    }
   ],
   "source": [
    "#2\n",
    "1 - poissonDist4.cdf(3)"
   ]
  },
  {
   "cell_type": "code",
   "execution_count": 33,
   "metadata": {},
   "outputs": [
    {
     "data": {
      "text/plain": [
       "0.857123460498547"
      ]
     },
     "execution_count": 33,
     "metadata": {},
     "output_type": "execute_result"
    }
   ],
   "source": [
    "#3 \n",
    "poissonDist4.cdf(3)"
   ]
  },
  {
   "cell_type": "code",
   "execution_count": 34,
   "metadata": {},
   "outputs": [],
   "source": [
    "#4\n",
    "a =1 - poissonDist4.cdf(1) # 2 ve üzeri olma olasılığı"
   ]
  },
  {
   "cell_type": "code",
   "execution_count": 35,
   "metadata": {},
   "outputs": [],
   "source": [
    "b =1 - poissonDist4.cdf(3) # 4 ve üzeri olma olasılığı"
   ]
  },
  {
   "cell_type": "code",
   "execution_count": 36,
   "metadata": {},
   "outputs": [
    {
     "data": {
      "text/plain": [
       "0.26312931020838504"
      ]
     },
     "execution_count": 36,
     "metadata": {},
     "output_type": "execute_result"
    }
   ],
   "source": [
    "c = 1-b # 4 den küçük olma\n",
    "c-a"
   ]
  },
  {
   "cell_type": "code",
   "execution_count": null,
   "metadata": {},
   "outputs": [],
   "source": [
    "stats.binom.pmf(15,100,0.5)"
   ]
  },
  {
   "cell_type": "markdown",
   "metadata": {},
   "source": [
    "1.\tA salesperson has found that the probability of a sale on a single contact is approximately .3. If the salesperson contacts 10 prospects, what is the approximate probability of making at least one sale?"
   ]
  },
  {
   "cell_type": "code",
   "execution_count": 24,
   "metadata": {},
   "outputs": [
    {
     "data": {
      "text/plain": [
       "0.950212931632136"
      ]
     },
     "execution_count": 24,
     "metadata": {},
     "output_type": "execute_result"
    }
   ],
   "source": [
    "poissonDist5 = stats.poisson(3)\n",
    "1 - poissonDist5.cdf(0)"
   ]
  },
  {
   "cell_type": "markdown",
   "metadata": {},
   "source": [
    "Consider binomial experiment for n = 20, p = .05. \n",
    "\n",
    "Calculate the binomial probabilities for Y = 0, 1, 2, 3, and 4.\n",
    "Calculate the same probabilities by using the Poisson approximation with λ = np. Compare."
   ]
  },
  {
   "cell_type": "code",
   "execution_count": 39,
   "metadata": {},
   "outputs": [
    {
     "data": {
      "text/plain": [
       "0.005908966064453124"
      ]
     },
     "execution_count": 39,
     "metadata": {},
     "output_type": "execute_result"
    }
   ],
   "source": [
    "stats.binom.cdf(4,20,0.5)"
   ]
  },
  {
   "cell_type": "code",
   "execution_count": null,
   "metadata": {},
   "outputs": [],
   "source": []
  },
  {
   "cell_type": "code",
   "execution_count": 21,
   "metadata": {},
   "outputs": [
    {
     "data": {
      "text/html": [
       "<div>\n",
       "<style scoped>\n",
       "    .dataframe tbody tr th:only-of-type {\n",
       "        vertical-align: middle;\n",
       "    }\n",
       "\n",
       "    .dataframe tbody tr th {\n",
       "        vertical-align: top;\n",
       "    }\n",
       "\n",
       "    .dataframe thead th {\n",
       "        text-align: right;\n",
       "    }\n",
       "</style>\n",
       "<table border=\"1\" class=\"dataframe\">\n",
       "  <thead>\n",
       "    <tr style=\"text-align: right;\">\n",
       "      <th></th>\n",
       "      <th>0.01</th>\n",
       "      <th>0.05</th>\n",
       "      <th>0.10</th>\n",
       "      <th>0.20</th>\n",
       "      <th>0.30</th>\n",
       "      <th>0.40</th>\n",
       "      <th>0.50</th>\n",
       "      <th>0.60</th>\n",
       "      <th>0.70</th>\n",
       "      <th>0.80</th>\n",
       "      <th>0.90</th>\n",
       "      <th>0.95</th>\n",
       "      <th>0.99</th>\n",
       "    </tr>\n",
       "  </thead>\n",
       "  <tbody>\n",
       "    <tr>\n",
       "      <th>0</th>\n",
       "      <td>0.904</td>\n",
       "      <td>0.599</td>\n",
       "      <td>0.349</td>\n",
       "      <td>0.107</td>\n",
       "      <td>0.028</td>\n",
       "      <td>0.006</td>\n",
       "      <td>0.001</td>\n",
       "      <td>0.000</td>\n",
       "      <td>0.000</td>\n",
       "      <td>0.000</td>\n",
       "      <td>0.000</td>\n",
       "      <td>0.000</td>\n",
       "      <td>0.000</td>\n",
       "    </tr>\n",
       "    <tr>\n",
       "      <th>1</th>\n",
       "      <td>0.996</td>\n",
       "      <td>0.914</td>\n",
       "      <td>0.736</td>\n",
       "      <td>0.376</td>\n",
       "      <td>0.149</td>\n",
       "      <td>0.046</td>\n",
       "      <td>0.011</td>\n",
       "      <td>0.002</td>\n",
       "      <td>0.000</td>\n",
       "      <td>0.000</td>\n",
       "      <td>0.000</td>\n",
       "      <td>0.000</td>\n",
       "      <td>0.000</td>\n",
       "    </tr>\n",
       "    <tr>\n",
       "      <th>2</th>\n",
       "      <td>1.000</td>\n",
       "      <td>0.988</td>\n",
       "      <td>0.930</td>\n",
       "      <td>0.678</td>\n",
       "      <td>0.383</td>\n",
       "      <td>0.167</td>\n",
       "      <td>0.055</td>\n",
       "      <td>0.012</td>\n",
       "      <td>0.002</td>\n",
       "      <td>0.000</td>\n",
       "      <td>0.000</td>\n",
       "      <td>0.000</td>\n",
       "      <td>0.000</td>\n",
       "    </tr>\n",
       "    <tr>\n",
       "      <th>3</th>\n",
       "      <td>1.000</td>\n",
       "      <td>0.999</td>\n",
       "      <td>0.987</td>\n",
       "      <td>0.879</td>\n",
       "      <td>0.650</td>\n",
       "      <td>0.382</td>\n",
       "      <td>0.172</td>\n",
       "      <td>0.055</td>\n",
       "      <td>0.011</td>\n",
       "      <td>0.001</td>\n",
       "      <td>0.000</td>\n",
       "      <td>0.000</td>\n",
       "      <td>0.000</td>\n",
       "    </tr>\n",
       "    <tr>\n",
       "      <th>4</th>\n",
       "      <td>1.000</td>\n",
       "      <td>1.000</td>\n",
       "      <td>0.998</td>\n",
       "      <td>0.967</td>\n",
       "      <td>0.850</td>\n",
       "      <td>0.633</td>\n",
       "      <td>0.377</td>\n",
       "      <td>0.166</td>\n",
       "      <td>0.047</td>\n",
       "      <td>0.006</td>\n",
       "      <td>0.000</td>\n",
       "      <td>0.000</td>\n",
       "      <td>0.000</td>\n",
       "    </tr>\n",
       "    <tr>\n",
       "      <th>5</th>\n",
       "      <td>1.000</td>\n",
       "      <td>1.000</td>\n",
       "      <td>1.000</td>\n",
       "      <td>0.994</td>\n",
       "      <td>0.953</td>\n",
       "      <td>0.834</td>\n",
       "      <td>0.623</td>\n",
       "      <td>0.367</td>\n",
       "      <td>0.150</td>\n",
       "      <td>0.033</td>\n",
       "      <td>0.002</td>\n",
       "      <td>0.000</td>\n",
       "      <td>0.000</td>\n",
       "    </tr>\n",
       "    <tr>\n",
       "      <th>6</th>\n",
       "      <td>1.000</td>\n",
       "      <td>1.000</td>\n",
       "      <td>1.000</td>\n",
       "      <td>0.999</td>\n",
       "      <td>0.989</td>\n",
       "      <td>0.945</td>\n",
       "      <td>0.828</td>\n",
       "      <td>0.618</td>\n",
       "      <td>0.350</td>\n",
       "      <td>0.121</td>\n",
       "      <td>0.013</td>\n",
       "      <td>0.001</td>\n",
       "      <td>0.000</td>\n",
       "    </tr>\n",
       "    <tr>\n",
       "      <th>7</th>\n",
       "      <td>1.000</td>\n",
       "      <td>1.000</td>\n",
       "      <td>1.000</td>\n",
       "      <td>1.000</td>\n",
       "      <td>0.998</td>\n",
       "      <td>0.988</td>\n",
       "      <td>0.945</td>\n",
       "      <td>0.833</td>\n",
       "      <td>0.617</td>\n",
       "      <td>0.322</td>\n",
       "      <td>0.070</td>\n",
       "      <td>0.012</td>\n",
       "      <td>0.000</td>\n",
       "    </tr>\n",
       "    <tr>\n",
       "      <th>8</th>\n",
       "      <td>1.000</td>\n",
       "      <td>1.000</td>\n",
       "      <td>1.000</td>\n",
       "      <td>1.000</td>\n",
       "      <td>1.000</td>\n",
       "      <td>0.998</td>\n",
       "      <td>0.989</td>\n",
       "      <td>0.954</td>\n",
       "      <td>0.851</td>\n",
       "      <td>0.624</td>\n",
       "      <td>0.264</td>\n",
       "      <td>0.086</td>\n",
       "      <td>0.004</td>\n",
       "    </tr>\n",
       "    <tr>\n",
       "      <th>9</th>\n",
       "      <td>1.000</td>\n",
       "      <td>1.000</td>\n",
       "      <td>1.000</td>\n",
       "      <td>1.000</td>\n",
       "      <td>1.000</td>\n",
       "      <td>1.000</td>\n",
       "      <td>0.999</td>\n",
       "      <td>0.994</td>\n",
       "      <td>0.972</td>\n",
       "      <td>0.893</td>\n",
       "      <td>0.651</td>\n",
       "      <td>0.401</td>\n",
       "      <td>0.096</td>\n",
       "    </tr>\n",
       "  </tbody>\n",
       "</table>\n",
       "</div>"
      ],
      "text/plain": [
       "    0.01   0.05   0.10   0.20   0.30   0.40   0.50   0.60   0.70   0.80  \\\n",
       "0  0.904  0.599  0.349  0.107  0.028  0.006  0.001  0.000  0.000  0.000   \n",
       "1  0.996  0.914  0.736  0.376  0.149  0.046  0.011  0.002  0.000  0.000   \n",
       "2  1.000  0.988  0.930  0.678  0.383  0.167  0.055  0.012  0.002  0.000   \n",
       "3  1.000  0.999  0.987  0.879  0.650  0.382  0.172  0.055  0.011  0.001   \n",
       "4  1.000  1.000  0.998  0.967  0.850  0.633  0.377  0.166  0.047  0.006   \n",
       "5  1.000  1.000  1.000  0.994  0.953  0.834  0.623  0.367  0.150  0.033   \n",
       "6  1.000  1.000  1.000  0.999  0.989  0.945  0.828  0.618  0.350  0.121   \n",
       "7  1.000  1.000  1.000  1.000  0.998  0.988  0.945  0.833  0.617  0.322   \n",
       "8  1.000  1.000  1.000  1.000  1.000  0.998  0.989  0.954  0.851  0.624   \n",
       "9  1.000  1.000  1.000  1.000  1.000  1.000  0.999  0.994  0.972  0.893   \n",
       "\n",
       "    0.90   0.95   0.99  \n",
       "0  0.000  0.000  0.000  \n",
       "1  0.000  0.000  0.000  \n",
       "2  0.000  0.000  0.000  \n",
       "3  0.000  0.000  0.000  \n",
       "4  0.000  0.000  0.000  \n",
       "5  0.002  0.000  0.000  \n",
       "6  0.013  0.001  0.000  \n",
       "7  0.070  0.012  0.000  \n",
       "8  0.264  0.086  0.004  \n",
       "9  0.651  0.401  0.096  "
      ]
     },
     "execution_count": 21,
     "metadata": {},
     "output_type": "execute_result"
    }
   ],
   "source": [
    "p = [0.01, 0.05, 0.10, 0.20, 0.30, 0.40, 0.50, 0.60, 0.70, 0.80, 0.90, 0.95, 0.99]\n",
    "n= 10\n",
    "a = []\n",
    "for i in range(n):\n",
    "    for j in p:\n",
    "        a.append(np.round(stats.binom(n, j).cdf(i),3))\n",
    "b = np.array(a).reshape(10,13)\n",
    "pd.DataFrame(b, columns =p)"
   ]
  },
  {
   "cell_type": "code",
   "execution_count": 26,
   "metadata": {},
   "outputs": [
    {
     "data": {
      "text/plain": [
       "0.9043820750088044"
      ]
     },
     "execution_count": 26,
     "metadata": {},
     "output_type": "execute_result"
    }
   ],
   "source": [
    "stats.binom(10, 0.01).cdf(0)"
   ]
  },
  {
   "cell_type": "code",
   "execution_count": null,
   "metadata": {},
   "outputs": [],
   "source": []
  },
  {
   "cell_type": "code",
   "execution_count": 27,
   "metadata": {},
   "outputs": [
    {
     "data": {
      "text/plain": [
       "array([[0.904, 0.599, 0.349, 0.107, 0.028, 0.006, 0.001, 0.   , 0.   ,\n",
       "        0.   ],\n",
       "       [0.   , 0.   , 0.   , 0.996, 0.914, 0.736, 0.376, 0.149, 0.046,\n",
       "        0.011],\n",
       "       [0.002, 0.   , 0.   , 0.   , 0.   , 0.   , 1.   , 0.988, 0.93 ,\n",
       "        0.678],\n",
       "       [0.383, 0.167, 0.055, 0.012, 0.002, 0.   , 0.   , 0.   , 0.   ,\n",
       "        1.   ],\n",
       "       [0.999, 0.987, 0.879, 0.65 , 0.382, 0.172, 0.055, 0.011, 0.001,\n",
       "        0.   ],\n",
       "       [0.   , 0.   , 1.   , 1.   , 0.998, 0.967, 0.85 , 0.633, 0.377,\n",
       "        0.166],\n",
       "       [0.047, 0.006, 0.   , 0.   , 0.   , 1.   , 1.   , 1.   , 0.994,\n",
       "        0.953],\n",
       "       [0.834, 0.623, 0.367, 0.15 , 0.033, 0.002, 0.   , 0.   , 1.   ,\n",
       "        1.   ],\n",
       "       [1.   , 0.999, 0.989, 0.945, 0.828, 0.618, 0.35 , 0.121, 0.013,\n",
       "        0.001],\n",
       "       [0.   , 1.   , 1.   , 1.   , 1.   , 0.998, 0.988, 0.945, 0.833,\n",
       "        0.617],\n",
       "       [0.322, 0.07 , 0.012, 0.   , 1.   , 1.   , 1.   , 1.   , 1.   ,\n",
       "        0.998],\n",
       "       [0.989, 0.954, 0.851, 0.624, 0.264, 0.086, 0.004, 1.   , 1.   ,\n",
       "        1.   ],\n",
       "       [1.   , 1.   , 1.   , 0.999, 0.994, 0.972, 0.893, 0.651, 0.401,\n",
       "        0.096]])"
      ]
     },
     "execution_count": 27,
     "metadata": {},
     "output_type": "execute_result"
    }
   ],
   "source": [
    "np.array(a).reshape(13,10)"
   ]
  },
  {
   "cell_type": "code",
   "execution_count": 73,
   "metadata": {},
   "outputs": [
    {
     "data": {
      "text/plain": [
       "-2.597153158038555"
      ]
     },
     "execution_count": 73,
     "metadata": {},
     "output_type": "execute_result"
    }
   ],
   "source": [
    "stats.norm.ppf(.0047,0,1)"
   ]
  },
  {
   "cell_type": "code",
   "execution_count": 4,
   "metadata": {},
   "outputs": [
    {
     "data": {
      "text/html": [
       "<div>\n",
       "<style scoped>\n",
       "    .dataframe tbody tr th:only-of-type {\n",
       "        vertical-align: middle;\n",
       "    }\n",
       "\n",
       "    .dataframe tbody tr th {\n",
       "        vertical-align: top;\n",
       "    }\n",
       "\n",
       "    .dataframe thead th {\n",
       "        text-align: right;\n",
       "    }\n",
       "</style>\n",
       "<table border=\"1\" class=\"dataframe\">\n",
       "  <thead>\n",
       "    <tr style=\"text-align: right;\">\n",
       "      <th></th>\n",
       "      <th>0.00</th>\n",
       "      <th>0.01</th>\n",
       "      <th>0.02</th>\n",
       "      <th>0.03</th>\n",
       "      <th>0.04</th>\n",
       "      <th>0.05</th>\n",
       "      <th>0.06</th>\n",
       "      <th>0.07</th>\n",
       "      <th>0.08</th>\n",
       "      <th>0.09</th>\n",
       "    </tr>\n",
       "  </thead>\n",
       "  <tbody>\n",
       "    <tr>\n",
       "      <th>0.0</th>\n",
       "      <td>0.5000</td>\n",
       "      <td>0.4960</td>\n",
       "      <td>0.4920</td>\n",
       "      <td>0.4880</td>\n",
       "      <td>0.4840</td>\n",
       "      <td>0.4801</td>\n",
       "      <td>0.4761</td>\n",
       "      <td>0.4721</td>\n",
       "      <td>0.4681</td>\n",
       "      <td>0.4641</td>\n",
       "    </tr>\n",
       "    <tr>\n",
       "      <th>0.1</th>\n",
       "      <td>0.4602</td>\n",
       "      <td>0.4562</td>\n",
       "      <td>0.4522</td>\n",
       "      <td>0.4483</td>\n",
       "      <td>0.4443</td>\n",
       "      <td>0.4404</td>\n",
       "      <td>0.4364</td>\n",
       "      <td>0.4325</td>\n",
       "      <td>0.4286</td>\n",
       "      <td>0.4247</td>\n",
       "    </tr>\n",
       "    <tr>\n",
       "      <th>0.2</th>\n",
       "      <td>0.4207</td>\n",
       "      <td>0.4168</td>\n",
       "      <td>0.4129</td>\n",
       "      <td>0.4090</td>\n",
       "      <td>0.4052</td>\n",
       "      <td>0.4013</td>\n",
       "      <td>0.3974</td>\n",
       "      <td>0.3936</td>\n",
       "      <td>0.3897</td>\n",
       "      <td>0.3859</td>\n",
       "    </tr>\n",
       "    <tr>\n",
       "      <th>0.3</th>\n",
       "      <td>0.3821</td>\n",
       "      <td>0.3783</td>\n",
       "      <td>0.3745</td>\n",
       "      <td>0.3707</td>\n",
       "      <td>0.3669</td>\n",
       "      <td>0.3632</td>\n",
       "      <td>0.3594</td>\n",
       "      <td>0.3557</td>\n",
       "      <td>0.3520</td>\n",
       "      <td>0.3483</td>\n",
       "    </tr>\n",
       "    <tr>\n",
       "      <th>0.4</th>\n",
       "      <td>0.3446</td>\n",
       "      <td>0.3409</td>\n",
       "      <td>0.3372</td>\n",
       "      <td>0.3336</td>\n",
       "      <td>0.3300</td>\n",
       "      <td>0.3264</td>\n",
       "      <td>0.3228</td>\n",
       "      <td>0.3192</td>\n",
       "      <td>0.3156</td>\n",
       "      <td>0.3121</td>\n",
       "    </tr>\n",
       "    <tr>\n",
       "      <th>0.5</th>\n",
       "      <td>0.3085</td>\n",
       "      <td>0.3050</td>\n",
       "      <td>0.3015</td>\n",
       "      <td>0.2981</td>\n",
       "      <td>0.2946</td>\n",
       "      <td>0.2912</td>\n",
       "      <td>0.2877</td>\n",
       "      <td>0.2843</td>\n",
       "      <td>0.2810</td>\n",
       "      <td>0.2776</td>\n",
       "    </tr>\n",
       "    <tr>\n",
       "      <th>0.6</th>\n",
       "      <td>0.2743</td>\n",
       "      <td>0.2709</td>\n",
       "      <td>0.2676</td>\n",
       "      <td>0.2643</td>\n",
       "      <td>0.2611</td>\n",
       "      <td>0.2578</td>\n",
       "      <td>0.2546</td>\n",
       "      <td>0.2514</td>\n",
       "      <td>0.2483</td>\n",
       "      <td>0.2451</td>\n",
       "    </tr>\n",
       "    <tr>\n",
       "      <th>0.7</th>\n",
       "      <td>0.2420</td>\n",
       "      <td>0.2389</td>\n",
       "      <td>0.2358</td>\n",
       "      <td>0.2327</td>\n",
       "      <td>0.2296</td>\n",
       "      <td>0.2266</td>\n",
       "      <td>0.2236</td>\n",
       "      <td>0.2206</td>\n",
       "      <td>0.2177</td>\n",
       "      <td>0.2148</td>\n",
       "    </tr>\n",
       "    <tr>\n",
       "      <th>0.8</th>\n",
       "      <td>0.2119</td>\n",
       "      <td>0.2090</td>\n",
       "      <td>0.2061</td>\n",
       "      <td>0.2033</td>\n",
       "      <td>0.2005</td>\n",
       "      <td>0.1977</td>\n",
       "      <td>0.1949</td>\n",
       "      <td>0.1922</td>\n",
       "      <td>0.1894</td>\n",
       "      <td>0.1867</td>\n",
       "    </tr>\n",
       "    <tr>\n",
       "      <th>0.9</th>\n",
       "      <td>0.1841</td>\n",
       "      <td>0.1814</td>\n",
       "      <td>0.1788</td>\n",
       "      <td>0.1762</td>\n",
       "      <td>0.1736</td>\n",
       "      <td>0.1711</td>\n",
       "      <td>0.1685</td>\n",
       "      <td>0.1660</td>\n",
       "      <td>0.1635</td>\n",
       "      <td>0.1611</td>\n",
       "    </tr>\n",
       "    <tr>\n",
       "      <th>1.0</th>\n",
       "      <td>0.1587</td>\n",
       "      <td>0.1562</td>\n",
       "      <td>0.1539</td>\n",
       "      <td>0.1515</td>\n",
       "      <td>0.1492</td>\n",
       "      <td>0.1469</td>\n",
       "      <td>0.1446</td>\n",
       "      <td>0.1423</td>\n",
       "      <td>0.1401</td>\n",
       "      <td>0.1379</td>\n",
       "    </tr>\n",
       "    <tr>\n",
       "      <th>1.1</th>\n",
       "      <td>0.1357</td>\n",
       "      <td>0.1335</td>\n",
       "      <td>0.1314</td>\n",
       "      <td>0.1292</td>\n",
       "      <td>0.1271</td>\n",
       "      <td>0.1251</td>\n",
       "      <td>0.1230</td>\n",
       "      <td>0.1210</td>\n",
       "      <td>0.1190</td>\n",
       "      <td>0.1170</td>\n",
       "    </tr>\n",
       "    <tr>\n",
       "      <th>1.2</th>\n",
       "      <td>0.1151</td>\n",
       "      <td>0.1131</td>\n",
       "      <td>0.1112</td>\n",
       "      <td>0.1093</td>\n",
       "      <td>0.1075</td>\n",
       "      <td>0.1056</td>\n",
       "      <td>0.1038</td>\n",
       "      <td>0.1020</td>\n",
       "      <td>0.1003</td>\n",
       "      <td>0.0985</td>\n",
       "    </tr>\n",
       "    <tr>\n",
       "      <th>1.3</th>\n",
       "      <td>0.0968</td>\n",
       "      <td>0.0951</td>\n",
       "      <td>0.0934</td>\n",
       "      <td>0.0918</td>\n",
       "      <td>0.0901</td>\n",
       "      <td>0.0885</td>\n",
       "      <td>0.0869</td>\n",
       "      <td>0.0853</td>\n",
       "      <td>0.0838</td>\n",
       "      <td>0.0823</td>\n",
       "    </tr>\n",
       "    <tr>\n",
       "      <th>1.4</th>\n",
       "      <td>0.0808</td>\n",
       "      <td>0.0793</td>\n",
       "      <td>0.0778</td>\n",
       "      <td>0.0764</td>\n",
       "      <td>0.0749</td>\n",
       "      <td>0.0735</td>\n",
       "      <td>0.0721</td>\n",
       "      <td>0.0708</td>\n",
       "      <td>0.0694</td>\n",
       "      <td>0.0681</td>\n",
       "    </tr>\n",
       "    <tr>\n",
       "      <th>1.5</th>\n",
       "      <td>0.0668</td>\n",
       "      <td>0.0655</td>\n",
       "      <td>0.0643</td>\n",
       "      <td>0.0630</td>\n",
       "      <td>0.0618</td>\n",
       "      <td>0.0606</td>\n",
       "      <td>0.0594</td>\n",
       "      <td>0.0582</td>\n",
       "      <td>0.0571</td>\n",
       "      <td>0.0559</td>\n",
       "    </tr>\n",
       "    <tr>\n",
       "      <th>1.6</th>\n",
       "      <td>0.0548</td>\n",
       "      <td>0.0537</td>\n",
       "      <td>0.0526</td>\n",
       "      <td>0.0516</td>\n",
       "      <td>0.0505</td>\n",
       "      <td>0.0495</td>\n",
       "      <td>0.0485</td>\n",
       "      <td>0.0475</td>\n",
       "      <td>0.0465</td>\n",
       "      <td>0.0455</td>\n",
       "    </tr>\n",
       "    <tr>\n",
       "      <th>1.7</th>\n",
       "      <td>0.0446</td>\n",
       "      <td>0.0436</td>\n",
       "      <td>0.0427</td>\n",
       "      <td>0.0418</td>\n",
       "      <td>0.0409</td>\n",
       "      <td>0.0401</td>\n",
       "      <td>0.0392</td>\n",
       "      <td>0.0384</td>\n",
       "      <td>0.0375</td>\n",
       "      <td>0.0367</td>\n",
       "    </tr>\n",
       "    <tr>\n",
       "      <th>1.8</th>\n",
       "      <td>0.0359</td>\n",
       "      <td>0.0351</td>\n",
       "      <td>0.0344</td>\n",
       "      <td>0.0336</td>\n",
       "      <td>0.0329</td>\n",
       "      <td>0.0322</td>\n",
       "      <td>0.0314</td>\n",
       "      <td>0.0307</td>\n",
       "      <td>0.0301</td>\n",
       "      <td>0.0294</td>\n",
       "    </tr>\n",
       "    <tr>\n",
       "      <th>1.9</th>\n",
       "      <td>0.0287</td>\n",
       "      <td>0.0281</td>\n",
       "      <td>0.0274</td>\n",
       "      <td>0.0268</td>\n",
       "      <td>0.0262</td>\n",
       "      <td>0.0256</td>\n",
       "      <td>0.0250</td>\n",
       "      <td>0.0244</td>\n",
       "      <td>0.0239</td>\n",
       "      <td>0.0233</td>\n",
       "    </tr>\n",
       "    <tr>\n",
       "      <th>2.0</th>\n",
       "      <td>0.0228</td>\n",
       "      <td>0.0222</td>\n",
       "      <td>0.0217</td>\n",
       "      <td>0.0212</td>\n",
       "      <td>0.0207</td>\n",
       "      <td>0.0202</td>\n",
       "      <td>0.0197</td>\n",
       "      <td>0.0192</td>\n",
       "      <td>0.0188</td>\n",
       "      <td>0.0183</td>\n",
       "    </tr>\n",
       "    <tr>\n",
       "      <th>2.1</th>\n",
       "      <td>0.0179</td>\n",
       "      <td>0.0174</td>\n",
       "      <td>0.0170</td>\n",
       "      <td>0.0166</td>\n",
       "      <td>0.0162</td>\n",
       "      <td>0.0158</td>\n",
       "      <td>0.0154</td>\n",
       "      <td>0.0150</td>\n",
       "      <td>0.0146</td>\n",
       "      <td>0.0143</td>\n",
       "    </tr>\n",
       "    <tr>\n",
       "      <th>2.2</th>\n",
       "      <td>0.0139</td>\n",
       "      <td>0.0136</td>\n",
       "      <td>0.0132</td>\n",
       "      <td>0.0129</td>\n",
       "      <td>0.0125</td>\n",
       "      <td>0.0122</td>\n",
       "      <td>0.0119</td>\n",
       "      <td>0.0116</td>\n",
       "      <td>0.0113</td>\n",
       "      <td>0.0110</td>\n",
       "    </tr>\n",
       "    <tr>\n",
       "      <th>2.3</th>\n",
       "      <td>0.0107</td>\n",
       "      <td>0.0104</td>\n",
       "      <td>0.0102</td>\n",
       "      <td>0.0099</td>\n",
       "      <td>0.0096</td>\n",
       "      <td>0.0094</td>\n",
       "      <td>0.0091</td>\n",
       "      <td>0.0089</td>\n",
       "      <td>0.0087</td>\n",
       "      <td>0.0084</td>\n",
       "    </tr>\n",
       "    <tr>\n",
       "      <th>2.4</th>\n",
       "      <td>0.0082</td>\n",
       "      <td>0.0080</td>\n",
       "      <td>0.0078</td>\n",
       "      <td>0.0075</td>\n",
       "      <td>0.0073</td>\n",
       "      <td>0.0071</td>\n",
       "      <td>0.0069</td>\n",
       "      <td>0.0068</td>\n",
       "      <td>0.0066</td>\n",
       "      <td>0.0064</td>\n",
       "    </tr>\n",
       "    <tr>\n",
       "      <th>2.5</th>\n",
       "      <td>0.0062</td>\n",
       "      <td>0.0060</td>\n",
       "      <td>0.0059</td>\n",
       "      <td>0.0057</td>\n",
       "      <td>0.0055</td>\n",
       "      <td>0.0054</td>\n",
       "      <td>0.0052</td>\n",
       "      <td>0.0051</td>\n",
       "      <td>0.0049</td>\n",
       "      <td>0.0048</td>\n",
       "    </tr>\n",
       "    <tr>\n",
       "      <th>2.6</th>\n",
       "      <td>0.0047</td>\n",
       "      <td>0.0045</td>\n",
       "      <td>0.0044</td>\n",
       "      <td>0.0043</td>\n",
       "      <td>0.0041</td>\n",
       "      <td>0.0040</td>\n",
       "      <td>0.0039</td>\n",
       "      <td>0.0038</td>\n",
       "      <td>0.0037</td>\n",
       "      <td>0.0036</td>\n",
       "    </tr>\n",
       "    <tr>\n",
       "      <th>2.7</th>\n",
       "      <td>0.0035</td>\n",
       "      <td>0.0034</td>\n",
       "      <td>0.0033</td>\n",
       "      <td>0.0032</td>\n",
       "      <td>0.0031</td>\n",
       "      <td>0.0030</td>\n",
       "      <td>0.0029</td>\n",
       "      <td>0.0028</td>\n",
       "      <td>0.0027</td>\n",
       "      <td>0.0026</td>\n",
       "    </tr>\n",
       "    <tr>\n",
       "      <th>2.8</th>\n",
       "      <td>0.0026</td>\n",
       "      <td>0.0025</td>\n",
       "      <td>0.0024</td>\n",
       "      <td>0.0023</td>\n",
       "      <td>0.0023</td>\n",
       "      <td>0.0022</td>\n",
       "      <td>0.0021</td>\n",
       "      <td>0.0021</td>\n",
       "      <td>0.0020</td>\n",
       "      <td>0.0019</td>\n",
       "    </tr>\n",
       "    <tr>\n",
       "      <th>2.9</th>\n",
       "      <td>0.0019</td>\n",
       "      <td>0.0018</td>\n",
       "      <td>0.0018</td>\n",
       "      <td>0.0017</td>\n",
       "      <td>0.0016</td>\n",
       "      <td>0.0016</td>\n",
       "      <td>0.0015</td>\n",
       "      <td>0.0015</td>\n",
       "      <td>0.0014</td>\n",
       "      <td>0.0014</td>\n",
       "    </tr>\n",
       "  </tbody>\n",
       "</table>\n",
       "</div>"
      ],
      "text/plain": [
       "       0.00    0.01    0.02    0.03    0.04    0.05    0.06    0.07    0.08  \\\n",
       "0.0  0.5000  0.4960  0.4920  0.4880  0.4840  0.4801  0.4761  0.4721  0.4681   \n",
       "0.1  0.4602  0.4562  0.4522  0.4483  0.4443  0.4404  0.4364  0.4325  0.4286   \n",
       "0.2  0.4207  0.4168  0.4129  0.4090  0.4052  0.4013  0.3974  0.3936  0.3897   \n",
       "0.3  0.3821  0.3783  0.3745  0.3707  0.3669  0.3632  0.3594  0.3557  0.3520   \n",
       "0.4  0.3446  0.3409  0.3372  0.3336  0.3300  0.3264  0.3228  0.3192  0.3156   \n",
       "0.5  0.3085  0.3050  0.3015  0.2981  0.2946  0.2912  0.2877  0.2843  0.2810   \n",
       "0.6  0.2743  0.2709  0.2676  0.2643  0.2611  0.2578  0.2546  0.2514  0.2483   \n",
       "0.7  0.2420  0.2389  0.2358  0.2327  0.2296  0.2266  0.2236  0.2206  0.2177   \n",
       "0.8  0.2119  0.2090  0.2061  0.2033  0.2005  0.1977  0.1949  0.1922  0.1894   \n",
       "0.9  0.1841  0.1814  0.1788  0.1762  0.1736  0.1711  0.1685  0.1660  0.1635   \n",
       "1.0  0.1587  0.1562  0.1539  0.1515  0.1492  0.1469  0.1446  0.1423  0.1401   \n",
       "1.1  0.1357  0.1335  0.1314  0.1292  0.1271  0.1251  0.1230  0.1210  0.1190   \n",
       "1.2  0.1151  0.1131  0.1112  0.1093  0.1075  0.1056  0.1038  0.1020  0.1003   \n",
       "1.3  0.0968  0.0951  0.0934  0.0918  0.0901  0.0885  0.0869  0.0853  0.0838   \n",
       "1.4  0.0808  0.0793  0.0778  0.0764  0.0749  0.0735  0.0721  0.0708  0.0694   \n",
       "1.5  0.0668  0.0655  0.0643  0.0630  0.0618  0.0606  0.0594  0.0582  0.0571   \n",
       "1.6  0.0548  0.0537  0.0526  0.0516  0.0505  0.0495  0.0485  0.0475  0.0465   \n",
       "1.7  0.0446  0.0436  0.0427  0.0418  0.0409  0.0401  0.0392  0.0384  0.0375   \n",
       "1.8  0.0359  0.0351  0.0344  0.0336  0.0329  0.0322  0.0314  0.0307  0.0301   \n",
       "1.9  0.0287  0.0281  0.0274  0.0268  0.0262  0.0256  0.0250  0.0244  0.0239   \n",
       "2.0  0.0228  0.0222  0.0217  0.0212  0.0207  0.0202  0.0197  0.0192  0.0188   \n",
       "2.1  0.0179  0.0174  0.0170  0.0166  0.0162  0.0158  0.0154  0.0150  0.0146   \n",
       "2.2  0.0139  0.0136  0.0132  0.0129  0.0125  0.0122  0.0119  0.0116  0.0113   \n",
       "2.3  0.0107  0.0104  0.0102  0.0099  0.0096  0.0094  0.0091  0.0089  0.0087   \n",
       "2.4  0.0082  0.0080  0.0078  0.0075  0.0073  0.0071  0.0069  0.0068  0.0066   \n",
       "2.5  0.0062  0.0060  0.0059  0.0057  0.0055  0.0054  0.0052  0.0051  0.0049   \n",
       "2.6  0.0047  0.0045  0.0044  0.0043  0.0041  0.0040  0.0039  0.0038  0.0037   \n",
       "2.7  0.0035  0.0034  0.0033  0.0032  0.0031  0.0030  0.0029  0.0028  0.0027   \n",
       "2.8  0.0026  0.0025  0.0024  0.0023  0.0023  0.0022  0.0021  0.0021  0.0020   \n",
       "2.9  0.0019  0.0018  0.0018  0.0017  0.0016  0.0016  0.0015  0.0015  0.0014   \n",
       "\n",
       "       0.09  \n",
       "0.0  0.4641  \n",
       "0.1  0.4247  \n",
       "0.2  0.3859  \n",
       "0.3  0.3483  \n",
       "0.4  0.3121  \n",
       "0.5  0.2776  \n",
       "0.6  0.2451  \n",
       "0.7  0.2148  \n",
       "0.8  0.1867  \n",
       "0.9  0.1611  \n",
       "1.0  0.1379  \n",
       "1.1  0.1170  \n",
       "1.2  0.0985  \n",
       "1.3  0.0823  \n",
       "1.4  0.0681  \n",
       "1.5  0.0559  \n",
       "1.6  0.0455  \n",
       "1.7  0.0367  \n",
       "1.8  0.0294  \n",
       "1.9  0.0233  \n",
       "2.0  0.0183  \n",
       "2.1  0.0143  \n",
       "2.2  0.0110  \n",
       "2.3  0.0084  \n",
       "2.4  0.0064  \n",
       "2.5  0.0048  \n",
       "2.6  0.0036  \n",
       "2.7  0.0026  \n",
       "2.8  0.0019  \n",
       "2.9  0.0014  "
      ]
     },
     "execution_count": 4,
     "metadata": {},
     "output_type": "execute_result"
    }
   ],
   "source": [
    "n = 0\n",
    "a = [ ]\n",
    "for i in range(30):\n",
    "    m = 0\n",
    "    for j in range(10):\n",
    "        a.append(1-np.round(stats.norm(0, 1).cdf(n+m),4))\n",
    "        m += 0.01\n",
    "    n += 0.1\n",
    "b = np.array(a).reshape(30,10)\n",
    "pd.DataFrame(b, index = [0.1*i for i in range(30)], columns = [0.01*i for i in range(10)])"
   ]
  },
  {
   "cell_type": "code",
   "execution_count": 10,
   "metadata": {},
   "outputs": [
    {
     "data": {
      "text/plain": [
       "array([0.5   , 0.496 , 0.492 , 0.488 , 0.484 , 0.4801, 0.4761, 0.4721,\n",
       "       0.4681, 0.4641, 0.4602, 0.4562, 0.4522, 0.4483, 0.4443, 0.4404,\n",
       "       0.4364, 0.4325, 0.4286, 0.4247, 0.4207, 0.4168, 0.4129, 0.409 ,\n",
       "       0.4052, 0.4013, 0.3974, 0.3936, 0.3897, 0.3859, 0.3821, 0.3783,\n",
       "       0.3745, 0.3707, 0.3669, 0.3632, 0.3594, 0.3557, 0.352 , 0.3483,\n",
       "       0.3446, 0.3409, 0.3372, 0.3336, 0.33  , 0.3264, 0.3228, 0.3192,\n",
       "       0.3156, 0.3121, 0.3085, 0.305 , 0.3015, 0.2981, 0.2946, 0.2912,\n",
       "       0.2877, 0.2843, 0.281 , 0.2776, 0.2743, 0.2709, 0.2676, 0.2643,\n",
       "       0.2611, 0.2578, 0.2546, 0.2514, 0.2483, 0.2451, 0.242 , 0.2389,\n",
       "       0.2358, 0.2327, 0.2296, 0.2266, 0.2236, 0.2206, 0.2177, 0.2148,\n",
       "       0.2119, 0.209 , 0.2061, 0.2033, 0.2005, 0.1977, 0.1949, 0.1922,\n",
       "       0.1894, 0.1867, 0.1841, 0.1814, 0.1788, 0.1762, 0.1736, 0.1711,\n",
       "       0.1685, 0.166 , 0.1635, 0.1611, 0.1587, 0.1562, 0.1539, 0.1515,\n",
       "       0.1492, 0.1469, 0.1446, 0.1423, 0.1401, 0.1379, 0.1357, 0.1335,\n",
       "       0.1314, 0.1292, 0.1271, 0.1251, 0.123 , 0.121 , 0.119 , 0.117 ,\n",
       "       0.1151, 0.1131, 0.1112, 0.1093, 0.1075, 0.1056, 0.1038, 0.102 ,\n",
       "       0.1003, 0.0985, 0.0968, 0.0951, 0.0934, 0.0918, 0.0901, 0.0885,\n",
       "       0.0869, 0.0853, 0.0838, 0.0823, 0.0808, 0.0793, 0.0778, 0.0764,\n",
       "       0.0749, 0.0735, 0.0721, 0.0708, 0.0694, 0.0681, 0.0668, 0.0655,\n",
       "       0.0643, 0.063 , 0.0618, 0.0606, 0.0594, 0.0582, 0.0571, 0.0559,\n",
       "       0.0548, 0.0537, 0.0526, 0.0516, 0.0505, 0.0495, 0.0485, 0.0475,\n",
       "       0.0465, 0.0455, 0.0446, 0.0436, 0.0427, 0.0418, 0.0409, 0.0401,\n",
       "       0.0392, 0.0384, 0.0375, 0.0367, 0.0359, 0.0351, 0.0344, 0.0336,\n",
       "       0.0329, 0.0322, 0.0314, 0.0307, 0.0301, 0.0294, 0.0287, 0.0281,\n",
       "       0.0274, 0.0268, 0.0262, 0.0256, 0.025 , 0.0244, 0.0239, 0.0233,\n",
       "       0.0228, 0.0222, 0.0217, 0.0212, 0.0207, 0.0202, 0.0197, 0.0192,\n",
       "       0.0188, 0.0183, 0.0179, 0.0174, 0.017 , 0.0166, 0.0162, 0.0158,\n",
       "       0.0154, 0.015 , 0.0146, 0.0143, 0.0139, 0.0136, 0.0132, 0.0129,\n",
       "       0.0125, 0.0122, 0.0119, 0.0116, 0.0113, 0.011 , 0.0107, 0.0104,\n",
       "       0.0102, 0.0099, 0.0096, 0.0094, 0.0091, 0.0089, 0.0087, 0.0084,\n",
       "       0.0082, 0.008 , 0.0078, 0.0075, 0.0073, 0.0071, 0.0069, 0.0068,\n",
       "       0.0066, 0.0064, 0.0062, 0.006 , 0.0059, 0.0057, 0.0055, 0.0054,\n",
       "       0.0052, 0.0051, 0.0049, 0.0048, 0.0047, 0.0045, 0.0044, 0.0043,\n",
       "       0.0041, 0.004 , 0.0039, 0.0038, 0.0037, 0.0036, 0.0035, 0.0034,\n",
       "       0.0033, 0.0032, 0.0031, 0.003 , 0.0029, 0.0028, 0.0027, 0.0026,\n",
       "       0.0026, 0.0025, 0.0024, 0.0023, 0.0023, 0.0022, 0.0021, 0.0021,\n",
       "       0.002 , 0.0019, 0.0019, 0.0018, 0.0018, 0.0017, 0.0016, 0.0016,\n",
       "       0.0015, 0.0015, 0.0014, 0.0014])"
      ]
     },
     "execution_count": 10,
     "metadata": {},
     "output_type": "execute_result"
    }
   ],
   "source": [
    "np.array(a)"
   ]
  },
  {
   "cell_type": "code",
   "execution_count": 9,
   "metadata": {},
   "outputs": [
    {
     "data": {
      "text/plain": [
       "0.45620000000000005"
      ]
     },
     "execution_count": 9,
     "metadata": {},
     "output_type": "execute_result"
    }
   ],
   "source": [
    "1-np.round(stats.norm(0, 1).cdf(0.11),4)"
   ]
  },
  {
   "cell_type": "code",
   "execution_count": 13,
   "metadata": {},
   "outputs": [
    {
     "data": {
      "text/html": [
       "<div>\n",
       "<style scoped>\n",
       "    .dataframe tbody tr th:only-of-type {\n",
       "        vertical-align: middle;\n",
       "    }\n",
       "\n",
       "    .dataframe tbody tr th {\n",
       "        vertical-align: top;\n",
       "    }\n",
       "\n",
       "    .dataframe thead th {\n",
       "        text-align: right;\n",
       "    }\n",
       "</style>\n",
       "<table border=\"1\" class=\"dataframe\">\n",
       "  <thead>\n",
       "    <tr style=\"text-align: right;\">\n",
       "      <th></th>\n",
       "      <th>0.00</th>\n",
       "      <th>0.01</th>\n",
       "      <th>0.02</th>\n",
       "      <th>0.03</th>\n",
       "      <th>0.04</th>\n",
       "      <th>0.05</th>\n",
       "      <th>0.06</th>\n",
       "      <th>0.07</th>\n",
       "      <th>0.08</th>\n",
       "      <th>0.09</th>\n",
       "    </tr>\n",
       "  </thead>\n",
       "  <tbody>\n",
       "    <tr>\n",
       "      <th>0.0</th>\n",
       "      <td>0.50000</td>\n",
       "      <td>0.496</td>\n",
       "      <td>0.492</td>\n",
       "      <td>0.488</td>\n",
       "      <td>0.484</td>\n",
       "      <td>0.4801</td>\n",
       "      <td>0.4761</td>\n",
       "      <td>0.4721</td>\n",
       "      <td>0.4681</td>\n",
       "      <td>0.4641</td>\n",
       "    </tr>\n",
       "    <tr>\n",
       "      <th>0.1</th>\n",
       "      <td>0.46020</td>\n",
       "      <td>0.4562</td>\n",
       "      <td>0.4522</td>\n",
       "      <td>0.4483</td>\n",
       "      <td>0.4443</td>\n",
       "      <td>0.4404</td>\n",
       "      <td>0.4364</td>\n",
       "      <td>0.4325</td>\n",
       "      <td>0.4286</td>\n",
       "      <td>0.4247</td>\n",
       "    </tr>\n",
       "    <tr>\n",
       "      <th>0.2</th>\n",
       "      <td>0.42070</td>\n",
       "      <td>0.4168</td>\n",
       "      <td>0.4129</td>\n",
       "      <td>0.409</td>\n",
       "      <td>0.4052</td>\n",
       "      <td>0.4013</td>\n",
       "      <td>0.3974</td>\n",
       "      <td>0.3936</td>\n",
       "      <td>0.3897</td>\n",
       "      <td>0.3859</td>\n",
       "    </tr>\n",
       "    <tr>\n",
       "      <th>0.3</th>\n",
       "      <td>0.38210</td>\n",
       "      <td>0.3783</td>\n",
       "      <td>0.3745</td>\n",
       "      <td>0.3707</td>\n",
       "      <td>0.3669</td>\n",
       "      <td>0.3632</td>\n",
       "      <td>0.3594</td>\n",
       "      <td>0.3557</td>\n",
       "      <td>0.352</td>\n",
       "      <td>0.3483</td>\n",
       "    </tr>\n",
       "    <tr>\n",
       "      <th>0.4</th>\n",
       "      <td>0.34460</td>\n",
       "      <td>0.3409</td>\n",
       "      <td>0.3372</td>\n",
       "      <td>0.3336</td>\n",
       "      <td>0.33</td>\n",
       "      <td>0.3264</td>\n",
       "      <td>0.3228</td>\n",
       "      <td>0.3192</td>\n",
       "      <td>0.3156</td>\n",
       "      <td>0.3121</td>\n",
       "    </tr>\n",
       "    <tr>\n",
       "      <th>0.5</th>\n",
       "      <td>0.30850</td>\n",
       "      <td>0.305</td>\n",
       "      <td>0.3015</td>\n",
       "      <td>0.2981</td>\n",
       "      <td>0.2946</td>\n",
       "      <td>0.2912</td>\n",
       "      <td>0.2877</td>\n",
       "      <td>0.2843</td>\n",
       "      <td>0.281</td>\n",
       "      <td>0.2776</td>\n",
       "    </tr>\n",
       "    <tr>\n",
       "      <th>0.6</th>\n",
       "      <td>0.27430</td>\n",
       "      <td>0.2709</td>\n",
       "      <td>0.2676</td>\n",
       "      <td>0.2643</td>\n",
       "      <td>0.2611</td>\n",
       "      <td>0.2578</td>\n",
       "      <td>0.2546</td>\n",
       "      <td>0.2514</td>\n",
       "      <td>0.2483</td>\n",
       "      <td>0.2451</td>\n",
       "    </tr>\n",
       "    <tr>\n",
       "      <th>0.7</th>\n",
       "      <td>0.24200</td>\n",
       "      <td>0.2389</td>\n",
       "      <td>0.2358</td>\n",
       "      <td>0.2327</td>\n",
       "      <td>0.2296</td>\n",
       "      <td>0.2266</td>\n",
       "      <td>0.2236</td>\n",
       "      <td>0.2206</td>\n",
       "      <td>0.2177</td>\n",
       "      <td>0.2148</td>\n",
       "    </tr>\n",
       "    <tr>\n",
       "      <th>0.8</th>\n",
       "      <td>0.21190</td>\n",
       "      <td>0.209</td>\n",
       "      <td>0.2061</td>\n",
       "      <td>0.2033</td>\n",
       "      <td>0.2005</td>\n",
       "      <td>0.1977</td>\n",
       "      <td>0.1949</td>\n",
       "      <td>0.1922</td>\n",
       "      <td>0.1894</td>\n",
       "      <td>0.1867</td>\n",
       "    </tr>\n",
       "    <tr>\n",
       "      <th>0.9</th>\n",
       "      <td>0.18410</td>\n",
       "      <td>0.1814</td>\n",
       "      <td>0.1788</td>\n",
       "      <td>0.1762</td>\n",
       "      <td>0.1736</td>\n",
       "      <td>0.1711</td>\n",
       "      <td>0.1685</td>\n",
       "      <td>0.166</td>\n",
       "      <td>0.1635</td>\n",
       "      <td>0.1611</td>\n",
       "    </tr>\n",
       "    <tr>\n",
       "      <th>1.0</th>\n",
       "      <td>0.15870</td>\n",
       "      <td>0.1562</td>\n",
       "      <td>0.1539</td>\n",
       "      <td>0.1515</td>\n",
       "      <td>0.1492</td>\n",
       "      <td>0.1469</td>\n",
       "      <td>0.1446</td>\n",
       "      <td>0.1423</td>\n",
       "      <td>0.1401</td>\n",
       "      <td>0.1379</td>\n",
       "    </tr>\n",
       "    <tr>\n",
       "      <th>1.1</th>\n",
       "      <td>0.13570</td>\n",
       "      <td>0.1335</td>\n",
       "      <td>0.1314</td>\n",
       "      <td>0.1292</td>\n",
       "      <td>0.1271</td>\n",
       "      <td>0.1251</td>\n",
       "      <td>0.123</td>\n",
       "      <td>0.121</td>\n",
       "      <td>0.119</td>\n",
       "      <td>0.117</td>\n",
       "    </tr>\n",
       "    <tr>\n",
       "      <th>1.2</th>\n",
       "      <td>0.11510</td>\n",
       "      <td>0.1131</td>\n",
       "      <td>0.1112</td>\n",
       "      <td>0.1093</td>\n",
       "      <td>0.1075</td>\n",
       "      <td>0.1056</td>\n",
       "      <td>0.1038</td>\n",
       "      <td>0.102</td>\n",
       "      <td>0.1003</td>\n",
       "      <td>0.0985</td>\n",
       "    </tr>\n",
       "    <tr>\n",
       "      <th>1.3</th>\n",
       "      <td>0.09680</td>\n",
       "      <td>0.0951</td>\n",
       "      <td>0.0934</td>\n",
       "      <td>0.0918</td>\n",
       "      <td>0.0901</td>\n",
       "      <td>0.0885</td>\n",
       "      <td>0.0869</td>\n",
       "      <td>0.0853</td>\n",
       "      <td>0.0838</td>\n",
       "      <td>0.0823</td>\n",
       "    </tr>\n",
       "    <tr>\n",
       "      <th>1.4</th>\n",
       "      <td>0.08080</td>\n",
       "      <td>0.0793</td>\n",
       "      <td>0.0778</td>\n",
       "      <td>0.0764</td>\n",
       "      <td>0.0749</td>\n",
       "      <td>0.0735</td>\n",
       "      <td>0.0721</td>\n",
       "      <td>0.0708</td>\n",
       "      <td>0.0694</td>\n",
       "      <td>0.0681</td>\n",
       "    </tr>\n",
       "    <tr>\n",
       "      <th>1.5</th>\n",
       "      <td>0.06680</td>\n",
       "      <td>0.0655</td>\n",
       "      <td>0.0643</td>\n",
       "      <td>0.063</td>\n",
       "      <td>0.0618</td>\n",
       "      <td>0.0606</td>\n",
       "      <td>0.0594</td>\n",
       "      <td>0.0582</td>\n",
       "      <td>0.0571</td>\n",
       "      <td>0.0559</td>\n",
       "    </tr>\n",
       "    <tr>\n",
       "      <th>1.6</th>\n",
       "      <td>0.05480</td>\n",
       "      <td>0.0537</td>\n",
       "      <td>0.0526</td>\n",
       "      <td>0.0516</td>\n",
       "      <td>0.0505</td>\n",
       "      <td>0.0495</td>\n",
       "      <td>0.0485</td>\n",
       "      <td>0.0475</td>\n",
       "      <td>0.0465</td>\n",
       "      <td>0.0455</td>\n",
       "    </tr>\n",
       "    <tr>\n",
       "      <th>1.7</th>\n",
       "      <td>0.04460</td>\n",
       "      <td>0.0436</td>\n",
       "      <td>0.0427</td>\n",
       "      <td>0.0418</td>\n",
       "      <td>0.0409</td>\n",
       "      <td>0.0401</td>\n",
       "      <td>0.0392</td>\n",
       "      <td>0.0384</td>\n",
       "      <td>0.0375</td>\n",
       "      <td>0.0367</td>\n",
       "    </tr>\n",
       "    <tr>\n",
       "      <th>1.8</th>\n",
       "      <td>0.03590</td>\n",
       "      <td>0.0351</td>\n",
       "      <td>0.0344</td>\n",
       "      <td>0.0336</td>\n",
       "      <td>0.0329</td>\n",
       "      <td>0.0322</td>\n",
       "      <td>0.0314</td>\n",
       "      <td>0.0307</td>\n",
       "      <td>0.0301</td>\n",
       "      <td>0.0294</td>\n",
       "    </tr>\n",
       "    <tr>\n",
       "      <th>1.9</th>\n",
       "      <td>0.02870</td>\n",
       "      <td>0.0281</td>\n",
       "      <td>0.0274</td>\n",
       "      <td>0.0268</td>\n",
       "      <td>0.0262</td>\n",
       "      <td>0.0256</td>\n",
       "      <td>0.025</td>\n",
       "      <td>0.0244</td>\n",
       "      <td>0.0239</td>\n",
       "      <td>0.0233</td>\n",
       "    </tr>\n",
       "    <tr>\n",
       "      <th>2.0</th>\n",
       "      <td>0.02280</td>\n",
       "      <td>0.0222</td>\n",
       "      <td>0.0217</td>\n",
       "      <td>0.0212</td>\n",
       "      <td>0.0207</td>\n",
       "      <td>0.0202</td>\n",
       "      <td>0.0197</td>\n",
       "      <td>0.0192</td>\n",
       "      <td>0.0188</td>\n",
       "      <td>0.0183</td>\n",
       "    </tr>\n",
       "    <tr>\n",
       "      <th>2.1</th>\n",
       "      <td>0.01790</td>\n",
       "      <td>0.0174</td>\n",
       "      <td>0.017</td>\n",
       "      <td>0.0166</td>\n",
       "      <td>0.0162</td>\n",
       "      <td>0.0158</td>\n",
       "      <td>0.0154</td>\n",
       "      <td>0.015</td>\n",
       "      <td>0.0146</td>\n",
       "      <td>0.0143</td>\n",
       "    </tr>\n",
       "    <tr>\n",
       "      <th>2.2</th>\n",
       "      <td>0.01390</td>\n",
       "      <td>0.0136</td>\n",
       "      <td>0.0132</td>\n",
       "      <td>0.0129</td>\n",
       "      <td>0.0125</td>\n",
       "      <td>0.0122</td>\n",
       "      <td>0.0119</td>\n",
       "      <td>0.0116</td>\n",
       "      <td>0.0113</td>\n",
       "      <td>0.011</td>\n",
       "    </tr>\n",
       "    <tr>\n",
       "      <th>2.3</th>\n",
       "      <td>0.01070</td>\n",
       "      <td>0.0104</td>\n",
       "      <td>0.0102</td>\n",
       "      <td>0.0099</td>\n",
       "      <td>0.0096</td>\n",
       "      <td>0.0094</td>\n",
       "      <td>0.0091</td>\n",
       "      <td>0.0089</td>\n",
       "      <td>0.0087</td>\n",
       "      <td>0.0084</td>\n",
       "    </tr>\n",
       "    <tr>\n",
       "      <th>2.4</th>\n",
       "      <td>0.00820</td>\n",
       "      <td>0.008</td>\n",
       "      <td>0.0078</td>\n",
       "      <td>0.0075</td>\n",
       "      <td>0.0073</td>\n",
       "      <td>0.0071</td>\n",
       "      <td>0.0069</td>\n",
       "      <td>0.0068</td>\n",
       "      <td>0.0066</td>\n",
       "      <td>0.0064</td>\n",
       "    </tr>\n",
       "    <tr>\n",
       "      <th>2.5</th>\n",
       "      <td>0.00620</td>\n",
       "      <td>0.006</td>\n",
       "      <td>0.0059</td>\n",
       "      <td>0.0057</td>\n",
       "      <td>0.0055</td>\n",
       "      <td>0.0054</td>\n",
       "      <td>0.0052</td>\n",
       "      <td>0.0051</td>\n",
       "      <td>0.0049</td>\n",
       "      <td>0.0048</td>\n",
       "    </tr>\n",
       "    <tr>\n",
       "      <th>2.6</th>\n",
       "      <td>0.00470</td>\n",
       "      <td>0.0045</td>\n",
       "      <td>0.0044</td>\n",
       "      <td>0.0043</td>\n",
       "      <td>0.0041</td>\n",
       "      <td>0.004</td>\n",
       "      <td>0.0039</td>\n",
       "      <td>0.0038</td>\n",
       "      <td>0.0037</td>\n",
       "      <td>0.0036</td>\n",
       "    </tr>\n",
       "    <tr>\n",
       "      <th>2.7</th>\n",
       "      <td>0.00350</td>\n",
       "      <td>0.0034</td>\n",
       "      <td>0.0033</td>\n",
       "      <td>0.0032</td>\n",
       "      <td>0.0031</td>\n",
       "      <td>0.003</td>\n",
       "      <td>0.0029</td>\n",
       "      <td>0.0028</td>\n",
       "      <td>0.0027</td>\n",
       "      <td>0.0026</td>\n",
       "    </tr>\n",
       "    <tr>\n",
       "      <th>2.8</th>\n",
       "      <td>0.00260</td>\n",
       "      <td>0.0025</td>\n",
       "      <td>0.0024</td>\n",
       "      <td>0.0023</td>\n",
       "      <td>0.0023</td>\n",
       "      <td>0.0022</td>\n",
       "      <td>0.0021</td>\n",
       "      <td>0.0021</td>\n",
       "      <td>0.002</td>\n",
       "      <td>0.0019</td>\n",
       "    </tr>\n",
       "    <tr>\n",
       "      <th>2.9</th>\n",
       "      <td>0.00190</td>\n",
       "      <td>0.0018</td>\n",
       "      <td>0.0018</td>\n",
       "      <td>0.0017</td>\n",
       "      <td>0.0016</td>\n",
       "      <td>0.0016</td>\n",
       "      <td>0.0015</td>\n",
       "      <td>0.0015</td>\n",
       "      <td>0.0014</td>\n",
       "      <td>0.0014</td>\n",
       "    </tr>\n",
       "    <tr>\n",
       "      <th>3.0</th>\n",
       "      <td>0.00135</td>\n",
       "      <td></td>\n",
       "      <td></td>\n",
       "      <td></td>\n",
       "      <td></td>\n",
       "      <td></td>\n",
       "      <td></td>\n",
       "      <td></td>\n",
       "      <td></td>\n",
       "      <td></td>\n",
       "    </tr>\n",
       "  </tbody>\n",
       "</table>\n",
       "</div>"
      ],
      "text/plain": [
       "        0.00    0.01    0.02    0.03    0.04    0.05    0.06    0.07    0.08  \\\n",
       "0.0  0.50000   0.496   0.492   0.488   0.484  0.4801  0.4761  0.4721  0.4681   \n",
       "0.1  0.46020  0.4562  0.4522  0.4483  0.4443  0.4404  0.4364  0.4325  0.4286   \n",
       "0.2  0.42070  0.4168  0.4129   0.409  0.4052  0.4013  0.3974  0.3936  0.3897   \n",
       "0.3  0.38210  0.3783  0.3745  0.3707  0.3669  0.3632  0.3594  0.3557   0.352   \n",
       "0.4  0.34460  0.3409  0.3372  0.3336    0.33  0.3264  0.3228  0.3192  0.3156   \n",
       "0.5  0.30850   0.305  0.3015  0.2981  0.2946  0.2912  0.2877  0.2843   0.281   \n",
       "0.6  0.27430  0.2709  0.2676  0.2643  0.2611  0.2578  0.2546  0.2514  0.2483   \n",
       "0.7  0.24200  0.2389  0.2358  0.2327  0.2296  0.2266  0.2236  0.2206  0.2177   \n",
       "0.8  0.21190   0.209  0.2061  0.2033  0.2005  0.1977  0.1949  0.1922  0.1894   \n",
       "0.9  0.18410  0.1814  0.1788  0.1762  0.1736  0.1711  0.1685   0.166  0.1635   \n",
       "1.0  0.15870  0.1562  0.1539  0.1515  0.1492  0.1469  0.1446  0.1423  0.1401   \n",
       "1.1  0.13570  0.1335  0.1314  0.1292  0.1271  0.1251   0.123   0.121   0.119   \n",
       "1.2  0.11510  0.1131  0.1112  0.1093  0.1075  0.1056  0.1038   0.102  0.1003   \n",
       "1.3  0.09680  0.0951  0.0934  0.0918  0.0901  0.0885  0.0869  0.0853  0.0838   \n",
       "1.4  0.08080  0.0793  0.0778  0.0764  0.0749  0.0735  0.0721  0.0708  0.0694   \n",
       "1.5  0.06680  0.0655  0.0643   0.063  0.0618  0.0606  0.0594  0.0582  0.0571   \n",
       "1.6  0.05480  0.0537  0.0526  0.0516  0.0505  0.0495  0.0485  0.0475  0.0465   \n",
       "1.7  0.04460  0.0436  0.0427  0.0418  0.0409  0.0401  0.0392  0.0384  0.0375   \n",
       "1.8  0.03590  0.0351  0.0344  0.0336  0.0329  0.0322  0.0314  0.0307  0.0301   \n",
       "1.9  0.02870  0.0281  0.0274  0.0268  0.0262  0.0256   0.025  0.0244  0.0239   \n",
       "2.0  0.02280  0.0222  0.0217  0.0212  0.0207  0.0202  0.0197  0.0192  0.0188   \n",
       "2.1  0.01790  0.0174   0.017  0.0166  0.0162  0.0158  0.0154   0.015  0.0146   \n",
       "2.2  0.01390  0.0136  0.0132  0.0129  0.0125  0.0122  0.0119  0.0116  0.0113   \n",
       "2.3  0.01070  0.0104  0.0102  0.0099  0.0096  0.0094  0.0091  0.0089  0.0087   \n",
       "2.4  0.00820   0.008  0.0078  0.0075  0.0073  0.0071  0.0069  0.0068  0.0066   \n",
       "2.5  0.00620   0.006  0.0059  0.0057  0.0055  0.0054  0.0052  0.0051  0.0049   \n",
       "2.6  0.00470  0.0045  0.0044  0.0043  0.0041   0.004  0.0039  0.0038  0.0037   \n",
       "2.7  0.00350  0.0034  0.0033  0.0032  0.0031   0.003  0.0029  0.0028  0.0027   \n",
       "2.8  0.00260  0.0025  0.0024  0.0023  0.0023  0.0022  0.0021  0.0021   0.002   \n",
       "2.9  0.00190  0.0018  0.0018  0.0017  0.0016  0.0016  0.0015  0.0015  0.0014   \n",
       "3.0  0.00135                                                                   \n",
       "\n",
       "       0.09  \n",
       "0.0  0.4641  \n",
       "0.1  0.4247  \n",
       "0.2  0.3859  \n",
       "0.3  0.3483  \n",
       "0.4  0.3121  \n",
       "0.5  0.2776  \n",
       "0.6  0.2451  \n",
       "0.7  0.2148  \n",
       "0.8  0.1867  \n",
       "0.9  0.1611  \n",
       "1.0  0.1379  \n",
       "1.1   0.117  \n",
       "1.2  0.0985  \n",
       "1.3  0.0823  \n",
       "1.4  0.0681  \n",
       "1.5  0.0559  \n",
       "1.6  0.0455  \n",
       "1.7  0.0367  \n",
       "1.8  0.0294  \n",
       "1.9  0.0233  \n",
       "2.0  0.0183  \n",
       "2.1  0.0143  \n",
       "2.2   0.011  \n",
       "2.3  0.0084  \n",
       "2.4  0.0064  \n",
       "2.5  0.0048  \n",
       "2.6  0.0036  \n",
       "2.7  0.0026  \n",
       "2.8  0.0019  \n",
       "2.9  0.0014  \n",
       "3.0          "
      ]
     },
     "execution_count": 13,
     "metadata": {},
     "output_type": "execute_result"
    }
   ],
   "source": [
    "n = 0\n",
    "a = [ ]\n",
    "for i in range(31):\n",
    "    m = 0\n",
    "    for j in range(10):\n",
    "        a.append(1-np.round(stats.norm(0, 1).cdf(n+m),4))\n",
    "        m += 0.01\n",
    "    n += 0.1\n",
    "b = np.array(a).reshape(31,10)\n",
    "c =pd.DataFrame(b, index = [0.1*i for i in range(31)], columns = [0.01*i for i in range(10)])\n",
    "\n",
    "c.loc[3.0, 0.0] = 1-np.round(stats.norm(0, 1).cdf(3), 5)\n",
    "c.loc[3.0, 0.01:] = \"\"\n",
    "c"
   ]
  },
  {
   "cell_type": "code",
   "execution_count": 12,
   "metadata": {},
   "outputs": [
    {
     "data": {
      "text/plain": [
       "0.0013499999999999623"
      ]
     },
     "execution_count": 12,
     "metadata": {},
     "output_type": "execute_result"
    }
   ],
   "source": [
    "1-np.round(stats.norm(0, 1).cdf(3), 5)"
   ]
  },
  {
   "cell_type": "code",
   "execution_count": null,
   "metadata": {},
   "outputs": [],
   "source": [
    "P(X > 65 | X > 55 ) = P(X> 65 and  X > 55 ) / P(X>55) ⇒ intersection of P(X> 65) and P(X>55) is P(X>65 )\n",
    "P(X > 65 | X > 55 ) = P(X> 65 ) / P(X>55) =\n",
    "(1-stats.uniform(50,20).cdf(65))/(1-stats.uniform(50,20).cdf(55))"
   ]
  },
  {
   "cell_type": "code",
   "execution_count": 2,
   "metadata": {},
   "outputs": [
    {
     "data": {
      "text/plain": [
       "0.3333333333333333"
      ]
     },
     "execution_count": 2,
     "metadata": {},
     "output_type": "execute_result"
    }
   ],
   "source": [
    "(1-stats.uniform(50,20).cdf(65))/(1-stats.uniform(50,20).cdf(55))"
   ]
  },
  {
   "cell_type": "code",
   "execution_count": 10,
   "metadata": {},
   "outputs": [
    {
     "data": {
      "text/plain": [
       "0.25"
      ]
     },
     "execution_count": 10,
     "metadata": {},
     "output_type": "execute_result"
    }
   ],
   "source": [
    "1-stats.uniform(50,20).cdf(65)"
   ]
  },
  {
   "cell_type": "code",
   "execution_count": 11,
   "metadata": {},
   "outputs": [
    {
     "data": {
      "text/plain": [
       "0.75"
      ]
     },
     "execution_count": 11,
     "metadata": {},
     "output_type": "execute_result"
    }
   ],
   "source": [
    "1-stats.uniform(50,20).cdf(55)"
   ]
  },
  {
   "cell_type": "markdown",
   "metadata": {},
   "source": [
    "# ------ session-4 questions"
   ]
  },
  {
   "cell_type": "code",
   "execution_count": 25,
   "metadata": {},
   "outputs": [
    {
     "data": {
      "text/plain": [
       "0.18410080866334827"
      ]
     },
     "execution_count": 25,
     "metadata": {},
     "output_type": "execute_result"
    }
   ],
   "source": [
    "stats.binom(100,0.5).cdf(45)"
   ]
  },
  {
   "cell_type": "code",
   "execution_count": 23,
   "metadata": {},
   "outputs": [
    {
     "data": {
      "text/plain": [
       "0.375"
      ]
     },
     "execution_count": 23,
     "metadata": {},
     "output_type": "execute_result"
    }
   ],
   "source": [
    "375/1000"
   ]
  },
  {
   "cell_type": "code",
   "execution_count": null,
   "metadata": {},
   "outputs": [],
   "source": [
    "stats.poisson(3)"
   ]
  },
  {
   "cell_type": "code",
   "execution_count": 27,
   "metadata": {},
   "outputs": [
    {
     "data": {
      "text/plain": [
       "0.1607501286006173"
      ]
     },
     "execution_count": 27,
     "metadata": {},
     "output_type": "execute_result"
    }
   ],
   "source": [
    "stats.binom(5,0.166666).pmf(2)"
   ]
  },
  {
   "cell_type": "code",
   "execution_count": 26,
   "metadata": {},
   "outputs": [
    {
     "data": {
      "text/plain": [
       "0.16666666666666666"
      ]
     },
     "execution_count": 26,
     "metadata": {},
     "output_type": "execute_result"
    }
   ],
   "source": [
    "1/6"
   ]
  },
  {
   "cell_type": "code",
   "execution_count": 29,
   "metadata": {},
   "outputs": [
    {
     "data": {
      "text/plain": [
       "0.18406012534675953"
      ]
     },
     "execution_count": 29,
     "metadata": {},
     "output_type": "execute_result"
    }
   ],
   "source": [
    "1-stats.norm(850,100).cdf(940)"
   ]
  },
  {
   "cell_type": "code",
   "execution_count": null,
   "metadata": {},
   "outputs": [],
   "source": [
    "stats.norm.ppf(.0047,16,6)"
   ]
  },
  {
   "cell_type": "code",
   "execution_count": 32,
   "metadata": {},
   "outputs": [
    {
     "data": {
      "text/plain": [
       "1.5"
      ]
     },
     "execution_count": 32,
     "metadata": {},
     "output_type": "execute_result"
    }
   ],
   "source": [
    "(25-16)/6 # z score"
   ]
  },
  {
   "cell_type": "code",
   "execution_count": null,
   "metadata": {},
   "outputs": [],
   "source": []
  }
 ],
 "metadata": {
  "kernelspec": {
   "display_name": "Python 3",
   "language": "python",
   "name": "python3"
  },
  "language_info": {
   "codemirror_mode": {
    "name": "ipython",
    "version": 3
   },
   "file_extension": ".py",
   "mimetype": "text/x-python",
   "name": "python",
   "nbconvert_exporter": "python",
   "pygments_lexer": "ipython3",
   "version": "3.8.3"
  }
 },
 "nbformat": 4,
 "nbformat_minor": 2
}
